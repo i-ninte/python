{
 "cells": [
  {
   "cell_type": "markdown",
   "id": "8c51c9ba",
   "metadata": {
    "papermill": {
     "duration": 0.00733,
     "end_time": "2023-05-12T22:32:39.743134",
     "exception": false,
     "start_time": "2023-05-12T22:32:39.735804",
     "status": "completed"
    },
    "tags": []
   },
   "source": [
    "**This notebook is an exercise in the [Python](https://www.kaggle.com/learn/python) course.  You can reference the tutorial at [this link](https://www.kaggle.com/colinmorris/lists).**\n",
    "\n",
    "---\n"
   ]
  },
  {
   "cell_type": "markdown",
   "id": "ec97e8bb",
   "metadata": {
    "papermill": {
     "duration": 0.006475,
     "end_time": "2023-05-12T22:32:39.756582",
     "exception": false,
     "start_time": "2023-05-12T22:32:39.750107",
     "status": "completed"
    },
    "tags": []
   },
   "source": [
    "Things get more interesting with lists. You'll apply your new knowledge to solve the questions below. Remember to run the following cell first."
   ]
  },
  {
   "cell_type": "code",
   "execution_count": 1,
   "id": "7344dfe0",
   "metadata": {
    "execution": {
     "iopub.execute_input": "2023-05-12T22:32:39.771956Z",
     "iopub.status.busy": "2023-05-12T22:32:39.771442Z",
     "iopub.status.idle": "2023-05-12T22:32:39.823829Z",
     "shell.execute_reply": "2023-05-12T22:32:39.822927Z"
    },
    "papermill": {
     "duration": 0.063077,
     "end_time": "2023-05-12T22:32:39.826352",
     "exception": false,
     "start_time": "2023-05-12T22:32:39.763275",
     "status": "completed"
    },
    "tags": []
   },
   "outputs": [
    {
     "name": "stdout",
     "output_type": "stream",
     "text": [
      "Setup complete.\n"
     ]
    }
   ],
   "source": [
    "from learntools.core import binder; binder.bind(globals())\n",
    "from learntools.python.ex4 import *\n",
    "print('Setup complete.')"
   ]
  },
  {
   "cell_type": "markdown",
   "id": "8ac8f365",
   "metadata": {
    "papermill": {
     "duration": 0.006834,
     "end_time": "2023-05-12T22:32:39.840245",
     "exception": false,
     "start_time": "2023-05-12T22:32:39.833411",
     "status": "completed"
    },
    "tags": []
   },
   "source": [
    "# 1.\n",
    "\n",
    "Complete the function below according to its docstring."
   ]
  },
  {
   "cell_type": "code",
   "execution_count": 2,
   "id": "783a222c",
   "metadata": {
    "execution": {
     "iopub.execute_input": "2023-05-12T22:32:39.855499Z",
     "iopub.status.busy": "2023-05-12T22:32:39.855118Z",
     "iopub.status.idle": "2023-05-12T22:32:39.865533Z",
     "shell.execute_reply": "2023-05-12T22:32:39.864768Z"
    },
    "papermill": {
     "duration": 0.020474,
     "end_time": "2023-05-12T22:32:39.867506",
     "exception": false,
     "start_time": "2023-05-12T22:32:39.847032",
     "status": "completed"
    },
    "tags": []
   },
   "outputs": [
    {
     "data": {
      "application/javascript": [
       "parent.postMessage({\"jupyterEvent\": \"custom.exercise_interaction\", \"data\": {\"outcomeType\": 1, \"valueTowardsCompletion\": 0.2, \"interactionType\": 1, \"questionType\": 2, \"questionId\": \"1_SelectSecondItem\", \"learnToolsVersion\": \"0.3.4\", \"failureMessage\": \"\", \"exceptionClass\": \"\", \"trace\": \"\"}}, \"*\")"
      ],
      "text/plain": [
       "<IPython.core.display.Javascript object>"
      ]
     },
     "metadata": {},
     "output_type": "display_data"
    },
    {
     "data": {
      "text/markdown": [
       "<span style=\"color:#33cc33\">Correct</span>"
      ],
      "text/plain": [
       "Correct"
      ]
     },
     "metadata": {},
     "output_type": "display_data"
    }
   ],
   "source": [
    "def select_second(L):\n",
    "    \"\"\"Return the second element of the given list. If the list has no second\n",
    "    element, return None.\n",
    "    \"\"\"\n",
    "    if len(L) <2:\n",
    "        return None\n",
    "        \n",
    "    else:\n",
    "        return L[1]\n",
    "L=[1,2,3]\n",
    "select_second(L)\n",
    "# Check your answer\n",
    "q1.check()"
   ]
  },
  {
   "cell_type": "code",
   "execution_count": 3,
   "id": "bf1612bb",
   "metadata": {
    "execution": {
     "iopub.execute_input": "2023-05-12T22:32:39.883672Z",
     "iopub.status.busy": "2023-05-12T22:32:39.883315Z",
     "iopub.status.idle": "2023-05-12T22:32:39.886802Z",
     "shell.execute_reply": "2023-05-12T22:32:39.886061Z"
    },
    "papermill": {
     "duration": 0.01409,
     "end_time": "2023-05-12T22:32:39.888671",
     "exception": false,
     "start_time": "2023-05-12T22:32:39.874581",
     "status": "completed"
    },
    "tags": []
   },
   "outputs": [],
   "source": [
    "#q1.hint()\n",
    "#q1.solution()"
   ]
  },
  {
   "cell_type": "markdown",
   "id": "6b59125a",
   "metadata": {
    "papermill": {
     "duration": 0.007015,
     "end_time": "2023-05-12T22:32:39.902799",
     "exception": false,
     "start_time": "2023-05-12T22:32:39.895784",
     "status": "completed"
    },
    "tags": []
   },
   "source": [
    "# 2.\n",
    "\n",
    "You are analyzing sports teams.  Members of each team are stored in a list. The Coach is the first name in the list, the captain is the second name in the list, and other players are listed after that. \n",
    "These lists are stored in another list, which starts with the best team and proceeds through the list to the worst team last.  Complete the function below to select the **captain** of the worst team."
   ]
  },
  {
   "cell_type": "code",
   "execution_count": 4,
   "id": "cb0e656f",
   "metadata": {
    "execution": {
     "iopub.execute_input": "2023-05-12T22:32:39.919079Z",
     "iopub.status.busy": "2023-05-12T22:32:39.918505Z",
     "iopub.status.idle": "2023-05-12T22:32:39.926792Z",
     "shell.execute_reply": "2023-05-12T22:32:39.925766Z"
    },
    "papermill": {
     "duration": 0.019207,
     "end_time": "2023-05-12T22:32:39.929104",
     "exception": false,
     "start_time": "2023-05-12T22:32:39.909897",
     "status": "completed"
    },
    "tags": []
   },
   "outputs": [
    {
     "data": {
      "application/javascript": [
       "parent.postMessage({\"jupyterEvent\": \"custom.exercise_interaction\", \"data\": {\"outcomeType\": 1, \"valueTowardsCompletion\": 0.2, \"interactionType\": 1, \"questionType\": 2, \"questionId\": \"2_LosingTeamCaptain\", \"learnToolsVersion\": \"0.3.4\", \"failureMessage\": \"\", \"exceptionClass\": \"\", \"trace\": \"\"}}, \"*\")"
      ],
      "text/plain": [
       "<IPython.core.display.Javascript object>"
      ]
     },
     "metadata": {},
     "output_type": "display_data"
    },
    {
     "data": {
      "text/markdown": [
       "<span style=\"color:#33cc33\">Correct</span>"
      ],
      "text/plain": [
       "Correct"
      ]
     },
     "metadata": {},
     "output_type": "display_data"
    }
   ],
   "source": [
    "def losing_team_captain(teams):\n",
    "    \"\"\"Given a list of teams, where each team is a list of names, return the 2nd player (captain)\n",
    "    from the last listed team\n",
    "    \"\"\"\n",
    "    a = teams[-1]\n",
    "    return a[1]\n",
    "# Check your answer\n",
    "q2.check()"
   ]
  },
  {
   "cell_type": "code",
   "execution_count": 5,
   "id": "042be219",
   "metadata": {
    "execution": {
     "iopub.execute_input": "2023-05-12T22:32:39.946041Z",
     "iopub.status.busy": "2023-05-12T22:32:39.945337Z",
     "iopub.status.idle": "2023-05-12T22:32:39.951430Z",
     "shell.execute_reply": "2023-05-12T22:32:39.950435Z"
    },
    "papermill": {
     "duration": 0.016937,
     "end_time": "2023-05-12T22:32:39.953643",
     "exception": false,
     "start_time": "2023-05-12T22:32:39.936706",
     "status": "completed"
    },
    "tags": []
   },
   "outputs": [
    {
     "name": "stdout",
     "output_type": "stream",
     "text": [
      "[3, 2]\n",
      "2\n"
     ]
    }
   ],
   "source": [
    "b = [1,2,[3,2]]\n",
    "c= b[-1]\n",
    "print(c)\n",
    "print(c[1])"
   ]
  },
  {
   "cell_type": "code",
   "execution_count": 6,
   "id": "3aa875de",
   "metadata": {
    "execution": {
     "iopub.execute_input": "2023-05-12T22:32:39.970296Z",
     "iopub.status.busy": "2023-05-12T22:32:39.969928Z",
     "iopub.status.idle": "2023-05-12T22:32:39.974362Z",
     "shell.execute_reply": "2023-05-12T22:32:39.973455Z"
    },
    "papermill": {
     "duration": 0.015372,
     "end_time": "2023-05-12T22:32:39.976524",
     "exception": false,
     "start_time": "2023-05-12T22:32:39.961152",
     "status": "completed"
    },
    "tags": []
   },
   "outputs": [],
   "source": [
    "#q2.hint()\n",
    "#.solution()"
   ]
  },
  {
   "cell_type": "markdown",
   "id": "34190c75",
   "metadata": {
    "papermill": {
     "duration": 0.00747,
     "end_time": "2023-05-12T22:32:39.991639",
     "exception": false,
     "start_time": "2023-05-12T22:32:39.984169",
     "status": "completed"
    },
    "tags": []
   },
   "source": [
    "# 3.\n",
    "\n",
    "The next iteration of Mario Kart will feature an extra-infuriating new item, the *Purple Shell*. When used, it warps the last place racer into first place and the first place racer into last place. Complete the function below to implement the Purple Shell's effect."
   ]
  },
  {
   "cell_type": "code",
   "execution_count": 7,
   "id": "fca8ee1c",
   "metadata": {
    "execution": {
     "iopub.execute_input": "2023-05-12T22:32:40.008868Z",
     "iopub.status.busy": "2023-05-12T22:32:40.008122Z",
     "iopub.status.idle": "2023-05-12T22:32:40.017103Z",
     "shell.execute_reply": "2023-05-12T22:32:40.016213Z"
    },
    "papermill": {
     "duration": 0.019908,
     "end_time": "2023-05-12T22:32:40.019197",
     "exception": false,
     "start_time": "2023-05-12T22:32:39.999289",
     "status": "completed"
    },
    "tags": []
   },
   "outputs": [
    {
     "data": {
      "application/javascript": [
       "parent.postMessage({\"jupyterEvent\": \"custom.exercise_interaction\", \"data\": {\"outcomeType\": 1, \"valueTowardsCompletion\": 0.2, \"interactionType\": 1, \"questionType\": 2, \"questionId\": \"3_PurpleShell\", \"learnToolsVersion\": \"0.3.4\", \"failureMessage\": \"\", \"exceptionClass\": \"\", \"trace\": \"\"}}, \"*\")"
      ],
      "text/plain": [
       "<IPython.core.display.Javascript object>"
      ]
     },
     "metadata": {},
     "output_type": "display_data"
    },
    {
     "data": {
      "text/markdown": [
       "<span style=\"color:#33cc33\">Correct</span>"
      ],
      "text/plain": [
       "Correct"
      ]
     },
     "metadata": {},
     "output_type": "display_data"
    }
   ],
   "source": [
    "def purple_shell(racers):\n",
    "    \"\"\"Given a list of racers, set the first place racer (at the front of the list) to last\n",
    "    place and vice versa.\n",
    "    \n",
    "    >>> r = [\"Mario\", \"Bowser\", \"Luigi\"]\n",
    "    >>> purple_shell(r)\n",
    "    >>> r\n",
    "    [\"Luigi\", \"Bowser\", \"Mario\"]\n",
    "    \"\"\"\n",
    "    temp=racers[0]\n",
    "    racers[0]= racers[-1]\n",
    "    racers[-1]= temp\n",
    "    \n",
    "# Check your answer\n",
    "q3.check()"
   ]
  },
  {
   "cell_type": "markdown",
   "id": "84ba603e",
   "metadata": {
    "papermill": {
     "duration": 0.007701,
     "end_time": "2023-05-12T22:32:40.034840",
     "exception": false,
     "start_time": "2023-05-12T22:32:40.027139",
     "status": "completed"
    },
    "tags": []
   },
   "source": [
    "a similar function which returns the list"
   ]
  },
  {
   "cell_type": "code",
   "execution_count": 8,
   "id": "d148e50d",
   "metadata": {
    "execution": {
     "iopub.execute_input": "2023-05-12T22:32:40.052663Z",
     "iopub.status.busy": "2023-05-12T22:32:40.051562Z",
     "iopub.status.idle": "2023-05-12T22:32:40.059438Z",
     "shell.execute_reply": "2023-05-12T22:32:40.058653Z"
    },
    "papermill": {
     "duration": 0.018924,
     "end_time": "2023-05-12T22:32:40.061456",
     "exception": false,
     "start_time": "2023-05-12T22:32:40.042532",
     "status": "completed"
    },
    "tags": []
   },
   "outputs": [
    {
     "data": {
      "text/plain": [
       "[4, 2, 3, 1]"
      ]
     },
     "execution_count": 8,
     "metadata": {},
     "output_type": "execute_result"
    }
   ],
   "source": [
    "def p_s(racers):\n",
    "    temp=racers[0]\n",
    "    racers[0]= racers[-1]\n",
    "    racers[-1]= temp\n",
    "    return racers\n",
    "racers=[1,2,3,4]\n",
    "p_s(racers)"
   ]
  },
  {
   "cell_type": "code",
   "execution_count": 9,
   "id": "20f3cde4",
   "metadata": {
    "collapsed": true,
    "execution": {
     "iopub.execute_input": "2023-05-12T22:32:40.083169Z",
     "iopub.status.busy": "2023-05-12T22:32:40.082810Z",
     "iopub.status.idle": "2023-05-12T22:32:40.087533Z",
     "shell.execute_reply": "2023-05-12T22:32:40.086478Z"
    },
    "jupyter": {
     "outputs_hidden": true
    },
    "papermill": {
     "duration": 0.01805,
     "end_time": "2023-05-12T22:32:40.089771",
     "exception": false,
     "start_time": "2023-05-12T22:32:40.071721",
     "status": "completed"
    },
    "tags": []
   },
   "outputs": [],
   "source": [
    "#q3.hint()\n",
    "#q3.solution()"
   ]
  },
  {
   "cell_type": "markdown",
   "id": "9111ca22",
   "metadata": {
    "papermill": {
     "duration": 0.010885,
     "end_time": "2023-05-12T22:32:40.109135",
     "exception": false,
     "start_time": "2023-05-12T22:32:40.098250",
     "status": "completed"
    },
    "tags": []
   },
   "source": [
    "# 4.\n",
    "\n",
    "What are the lengths of the following lists? Fill in the variable `lengths` with your predictions. (Try to make a prediction for each list *without* just calling `len()` on it.)"
   ]
  },
  {
   "cell_type": "code",
   "execution_count": 10,
   "id": "b008e076",
   "metadata": {
    "execution": {
     "iopub.execute_input": "2023-05-12T22:32:40.132811Z",
     "iopub.status.busy": "2023-05-12T22:32:40.132411Z",
     "iopub.status.idle": "2023-05-12T22:32:40.143055Z",
     "shell.execute_reply": "2023-05-12T22:32:40.142145Z"
    },
    "papermill": {
     "duration": 0.024266,
     "end_time": "2023-05-12T22:32:40.145833",
     "exception": false,
     "start_time": "2023-05-12T22:32:40.121567",
     "status": "completed"
    },
    "tags": []
   },
   "outputs": [
    {
     "data": {
      "application/javascript": [
       "parent.postMessage({\"jupyterEvent\": \"custom.exercise_interaction\", \"data\": {\"outcomeType\": 1, \"valueTowardsCompletion\": 0.2, \"interactionType\": 1, \"questionType\": 1, \"questionId\": \"4_UnderstandLen\", \"learnToolsVersion\": \"0.3.4\", \"failureMessage\": \"\", \"exceptionClass\": \"\", \"trace\": \"\"}}, \"*\")"
      ],
      "text/plain": [
       "<IPython.core.display.Javascript object>"
      ]
     },
     "metadata": {},
     "output_type": "display_data"
    },
    {
     "data": {
      "text/markdown": [
       "<span style=\"color:#33cc33\">Correct:</span> \n",
       "\n",
       "\n",
       "- a: There are three items in this list. Nothing tricky yet.\n",
       "- b: The list `[2, 3]` counts as a single item. It has one item before it. So we have 2 items in the list\n",
       "- c: The empty list has 0 items\n",
       "- d: The expression is the same as the list `[2, 3]`, which has length 2."
      ],
      "text/plain": [
       "Correct: \n",
       "\n",
       "\n",
       "- a: There are three items in this list. Nothing tricky yet.\n",
       "- b: The list `[2, 3]` counts as a single item. It has one item before it. So we have 2 items in the list\n",
       "- c: The empty list has 0 items\n",
       "- d: The expression is the same as the list `[2, 3]`, which has length 2."
      ]
     },
     "metadata": {},
     "output_type": "display_data"
    }
   ],
   "source": [
    "a = [1, 2, 3]\n",
    "b = [1, [2, 3]]\n",
    "c = []\n",
    "d = [1, 2, 3][1:]\n",
    "\n",
    "# Put your predictions in the list below. Lengths should contain 4 numbers, the\n",
    "# first being the length of a, the second being the length of b and so on.\n",
    "lengths = [3,2,0,2]\n",
    "\n",
    "# Check your answer\n",
    "q4.check()"
   ]
  },
  {
   "cell_type": "code",
   "execution_count": 11,
   "id": "79b1f105",
   "metadata": {
    "execution": {
     "iopub.execute_input": "2023-05-12T22:32:40.170941Z",
     "iopub.status.busy": "2023-05-12T22:32:40.170243Z",
     "iopub.status.idle": "2023-05-12T22:32:40.174633Z",
     "shell.execute_reply": "2023-05-12T22:32:40.173656Z"
    },
    "papermill": {
     "duration": 0.018162,
     "end_time": "2023-05-12T22:32:40.176788",
     "exception": false,
     "start_time": "2023-05-12T22:32:40.158626",
     "status": "completed"
    },
    "tags": []
   },
   "outputs": [],
   "source": [
    " #line below provides some explanation\n",
    "#q4.solution()"
   ]
  },
  {
   "cell_type": "markdown",
   "id": "ca2216f8",
   "metadata": {
    "papermill": {
     "duration": 0.008222,
     "end_time": "2023-05-12T22:32:40.193634",
     "exception": false,
     "start_time": "2023-05-12T22:32:40.185412",
     "status": "completed"
    },
    "tags": []
   },
   "source": [
    "# 5. <span title=\"A bit spicy\" style=\"color: darkgreen \">🌶️</span>\n",
    "\n",
    "We're using lists to record people who attended our party and what order they arrived in. For example, the following list represents a party with 7 guests, in which Adela showed up first and Ford was the last to arrive:\n",
    "\n",
    "    party_attendees = ['Adela', 'Fleda', 'Owen', 'May', 'Mona', 'Gilbert', 'Ford']\n",
    "\n",
    "A guest is considered 'fashionably late' if they arrived after at least half of the party's guests. However, they must not be the very last guest (that's taking it too far). In the above example, Mona and Gilbert are the only guests who were fashionably late.\n",
    "\n",
    "Complete the function below which takes a list of party attendees as well as a person, and tells us whether that person is fashionably late."
   ]
  },
  {
   "cell_type": "code",
   "execution_count": 12,
   "id": "3b7ac2ab",
   "metadata": {
    "execution": {
     "iopub.execute_input": "2023-05-12T22:32:40.212360Z",
     "iopub.status.busy": "2023-05-12T22:32:40.211996Z",
     "iopub.status.idle": "2023-05-12T22:32:40.220114Z",
     "shell.execute_reply": "2023-05-12T22:32:40.219399Z"
    },
    "papermill": {
     "duration": 0.019872,
     "end_time": "2023-05-12T22:32:40.221969",
     "exception": false,
     "start_time": "2023-05-12T22:32:40.202097",
     "status": "completed"
    },
    "tags": []
   },
   "outputs": [
    {
     "data": {
      "application/javascript": [
       "parent.postMessage({\"jupyterEvent\": \"custom.exercise_interaction\", \"data\": {\"outcomeType\": 1, \"valueTowardsCompletion\": 0.2, \"interactionType\": 1, \"questionType\": 2, \"questionId\": \"5_FashionablyLate\", \"learnToolsVersion\": \"0.3.4\", \"failureMessage\": \"\", \"exceptionClass\": \"\", \"trace\": \"\"}}, \"*\")"
      ],
      "text/plain": [
       "<IPython.core.display.Javascript object>"
      ]
     },
     "metadata": {},
     "output_type": "display_data"
    },
    {
     "data": {
      "text/markdown": [
       "<span style=\"color:#33cc33\">Correct</span>"
      ],
      "text/plain": [
       "Correct"
      ]
     },
     "metadata": {},
     "output_type": "display_data"
    }
   ],
   "source": [
    "def fashionably_late(arrivals, name):\n",
    "    \"\"\"Given an ordered list of arrivals to the party and a name, return whether the guest with that\n",
    "    name was fashionably late.\n",
    "    \"\"\"\n",
    "    order= arrivals.index(name)\n",
    "    return order>=len(arrivals)/2 and order!= len(arrivals) - 1\n",
    "# Check your answer\n",
    "q5.check()"
   ]
  },
  {
   "cell_type": "code",
   "execution_count": 13,
   "id": "be8764cc",
   "metadata": {
    "execution": {
     "iopub.execute_input": "2023-05-12T22:32:40.241782Z",
     "iopub.status.busy": "2023-05-12T22:32:40.240752Z",
     "iopub.status.idle": "2023-05-12T22:32:40.245010Z",
     "shell.execute_reply": "2023-05-12T22:32:40.244121Z"
    },
    "papermill": {
     "duration": 0.016069,
     "end_time": "2023-05-12T22:32:40.246904",
     "exception": false,
     "start_time": "2023-05-12T22:32:40.230835",
     "status": "completed"
    },
    "tags": []
   },
   "outputs": [],
   "source": [
    "#q5.hint()\n",
    "#q5.solution()"
   ]
  },
  {
   "cell_type": "markdown",
   "id": "865261a4",
   "metadata": {
    "papermill": {
     "duration": 0.008347,
     "end_time": "2023-05-12T22:32:40.263930",
     "exception": false,
     "start_time": "2023-05-12T22:32:40.255583",
     "status": "completed"
    },
    "tags": []
   },
   "source": [
    "# Keep Going\n",
    "\n",
    "That's it for lists and tuples! Now you have the baseline knowledge to **[learn about loops](https://www.kaggle.com/colinmorris/loops-and-list-comprehensions)**, which is where lists and tuples get really interesting. "
   ]
  },
  {
   "cell_type": "markdown",
   "id": "7f98b27a",
   "metadata": {
    "papermill": {
     "duration": 0.008289,
     "end_time": "2023-05-12T22:32:40.280869",
     "exception": false,
     "start_time": "2023-05-12T22:32:40.272580",
     "status": "completed"
    },
    "tags": []
   },
   "source": [
    "---\n",
    "\n",
    "\n",
    "\n",
    "\n",
    "*Have questions or comments? Visit the [course discussion forum](https://www.kaggle.com/learn/python/discussion) to chat with other learners.*"
   ]
  }
 ],
 "metadata": {
  "kernelspec": {
   "display_name": "Python 3",
   "language": "python",
   "name": "python3"
  },
  "language_info": {
   "codemirror_mode": {
    "name": "ipython",
    "version": 3
   },
   "file_extension": ".py",
   "mimetype": "text/x-python",
   "name": "python",
   "nbconvert_exporter": "python",
   "pygments_lexer": "ipython3",
   "version": "3.10.10"
  },
  "papermill": {
   "default_parameters": {},
   "duration": 12.839751,
   "end_time": "2023-05-12T22:32:41.009502",
   "environment_variables": {},
   "exception": null,
   "input_path": "__notebook__.ipynb",
   "output_path": "__notebook__.ipynb",
   "parameters": {},
   "start_time": "2023-05-12T22:32:28.169751",
   "version": "2.4.0"
  }
 },
 "nbformat": 4,
 "nbformat_minor": 5
}
