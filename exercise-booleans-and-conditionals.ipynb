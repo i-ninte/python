{
 "cells": [
  {
   "cell_type": "markdown",
   "id": "980e27ea",
   "metadata": {
    "papermill": {
     "duration": 0.012546,
     "end_time": "2023-05-14T19:24:09.934220",
     "exception": false,
     "start_time": "2023-05-14T19:24:09.921674",
     "status": "completed"
    },
    "tags": []
   },
   "source": [
    "**This notebook is an exercise in the [Python](https://www.kaggle.com/learn/python) course.  You can reference the tutorial at [this link](https://www.kaggle.com/colinmorris/booleans-and-conditionals).**\n",
    "\n",
    "---\n"
   ]
  },
  {
   "cell_type": "markdown",
   "id": "be6d34ce",
   "metadata": {
    "papermill": {
     "duration": 0.011517,
     "end_time": "2023-05-14T19:24:09.957860",
     "exception": false,
     "start_time": "2023-05-14T19:24:09.946343",
     "status": "completed"
    },
    "tags": []
   },
   "source": [
    "In this exercise, you'll put to work what you have learned about booleans and conditionals.\n",
    "\n",
    "To get started, **run the setup code below** before writing your own code (and if you leave this notebook and come back later, don't forget to run the setup code again)."
   ]
  },
  {
   "cell_type": "code",
   "execution_count": 1,
   "id": "5ff6a42a",
   "metadata": {
    "execution": {
     "iopub.execute_input": "2023-05-14T19:24:09.983972Z",
     "iopub.status.busy": "2023-05-14T19:24:09.983251Z",
     "iopub.status.idle": "2023-05-14T19:24:10.037137Z",
     "shell.execute_reply": "2023-05-14T19:24:10.036067Z"
    },
    "papermill": {
     "duration": 0.069988,
     "end_time": "2023-05-14T19:24:10.039795",
     "exception": false,
     "start_time": "2023-05-14T19:24:09.969807",
     "status": "completed"
    },
    "tags": []
   },
   "outputs": [
    {
     "name": "stdout",
     "output_type": "stream",
     "text": [
      "Setup complete.\n"
     ]
    }
   ],
   "source": [
    "from learntools.core import binder; binder.bind(globals())\n",
    "from learntools.python.ex3 import *\n",
    "print('Setup complete.')"
   ]
  },
  {
   "cell_type": "markdown",
   "id": "37da0a94",
   "metadata": {
    "papermill": {
     "duration": 0.011853,
     "end_time": "2023-05-14T19:24:10.065184",
     "exception": false,
     "start_time": "2023-05-14T19:24:10.053331",
     "status": "completed"
    },
    "tags": []
   },
   "source": [
    "# 1.\n",
    "\n",
    "Many programming languages have [`sign`](https://en.wikipedia.org/wiki/Sign_function) available as a built-in function. Python doesn't, but we can define our own!\n",
    "\n",
    "In the cell below, define a function called `sign` which takes a numerical argument and returns -1 if it's negative, 1 if it's positive, and 0 if it's 0."
   ]
  },
  {
   "cell_type": "code",
   "execution_count": 2,
   "id": "691e13d4",
   "metadata": {
    "execution": {
     "iopub.execute_input": "2023-05-14T19:24:10.091932Z",
     "iopub.status.busy": "2023-05-14T19:24:10.091486Z",
     "iopub.status.idle": "2023-05-14T19:24:10.102622Z",
     "shell.execute_reply": "2023-05-14T19:24:10.101438Z"
    },
    "papermill": {
     "duration": 0.02749,
     "end_time": "2023-05-14T19:24:10.105242",
     "exception": false,
     "start_time": "2023-05-14T19:24:10.077752",
     "status": "completed"
    },
    "tags": []
   },
   "outputs": [
    {
     "data": {
      "application/javascript": [
       "parent.postMessage({\"jupyterEvent\": \"custom.exercise_interaction\", \"data\": {\"outcomeType\": 1, \"valueTowardsCompletion\": 0.2, \"interactionType\": 1, \"questionType\": 2, \"questionId\": \"1_SignFunctionProblem\", \"learnToolsVersion\": \"0.3.4\", \"failureMessage\": \"\", \"exceptionClass\": \"\", \"trace\": \"\"}}, \"*\")"
      ],
      "text/plain": [
       "<IPython.core.display.Javascript object>"
      ]
     },
     "metadata": {},
     "output_type": "display_data"
    },
    {
     "data": {
      "text/markdown": [
       "<span style=\"color:#33cc33\">Correct</span>"
      ],
      "text/plain": [
       "Correct"
      ]
     },
     "metadata": {},
     "output_type": "display_data"
    }
   ],
   "source": [
    "# Your code goes here. Define a function called 'sign'\n",
    "def sign(x):\n",
    "    if (x<0):\n",
    "        return -1\n",
    "    elif (x==0):\n",
    "        return 0\n",
    "    else: \n",
    "        return 1\n",
    "\n",
    "# Check your answer\n",
    "q1.check()"
   ]
  },
  {
   "cell_type": "code",
   "execution_count": 3,
   "id": "512c8086",
   "metadata": {
    "execution": {
     "iopub.execute_input": "2023-05-14T19:24:10.132585Z",
     "iopub.status.busy": "2023-05-14T19:24:10.132166Z",
     "iopub.status.idle": "2023-05-14T19:24:10.136716Z",
     "shell.execute_reply": "2023-05-14T19:24:10.135460Z"
    },
    "papermill": {
     "duration": 0.021516,
     "end_time": "2023-05-14T19:24:10.139342",
     "exception": false,
     "start_time": "2023-05-14T19:24:10.117826",
     "status": "completed"
    },
    "tags": []
   },
   "outputs": [],
   "source": [
    "#q1.solution()"
   ]
  },
  {
   "cell_type": "markdown",
   "id": "785750f5",
   "metadata": {
    "papermill": {
     "duration": 0.012273,
     "end_time": "2023-05-14T19:24:10.164713",
     "exception": false,
     "start_time": "2023-05-14T19:24:10.152440",
     "status": "completed"
    },
    "tags": []
   },
   "source": [
    "# 2.\n",
    "\n",
    "We've decided to add \"logging\" to our `to_smash` function from the previous exercise."
   ]
  },
  {
   "cell_type": "code",
   "execution_count": 4,
   "id": "bcdf5388",
   "metadata": {
    "execution": {
     "iopub.execute_input": "2023-05-14T19:24:10.191819Z",
     "iopub.status.busy": "2023-05-14T19:24:10.191407Z",
     "iopub.status.idle": "2023-05-14T19:24:10.199724Z",
     "shell.execute_reply": "2023-05-14T19:24:10.198600Z"
    },
    "papermill": {
     "duration": 0.024707,
     "end_time": "2023-05-14T19:24:10.201955",
     "exception": false,
     "start_time": "2023-05-14T19:24:10.177248",
     "status": "completed"
    },
    "tags": []
   },
   "outputs": [
    {
     "name": "stdout",
     "output_type": "stream",
     "text": [
      "Splitting 91 candies\n"
     ]
    },
    {
     "data": {
      "text/plain": [
       "1"
      ]
     },
     "execution_count": 4,
     "metadata": {},
     "output_type": "execute_result"
    }
   ],
   "source": [
    "def to_smash(total_candies):\n",
    "    \"\"\"Return the number of leftover candies that must be smashed after distributing\n",
    "    the given number of candies evenly between 3 friends.\n",
    "    \n",
    "    >>> to_smash(91)\n",
    "    1\n",
    "    \"\"\"\n",
    "    \n",
    "    print(\"Splitting\", total_candies, \"candies\")\n",
    "    return total_candies % 3\n",
    "\n",
    "to_smash(91)"
   ]
  },
  {
   "cell_type": "markdown",
   "id": "f799f8b2",
   "metadata": {
    "papermill": {
     "duration": 0.01229,
     "end_time": "2023-05-14T19:24:10.227120",
     "exception": false,
     "start_time": "2023-05-14T19:24:10.214830",
     "status": "completed"
    },
    "tags": []
   },
   "source": [
    "What happens if we call it with `total_candies = 1`?"
   ]
  },
  {
   "cell_type": "code",
   "execution_count": 5,
   "id": "2cfa4044",
   "metadata": {
    "execution": {
     "iopub.execute_input": "2023-05-14T19:24:10.255201Z",
     "iopub.status.busy": "2023-05-14T19:24:10.254017Z",
     "iopub.status.idle": "2023-05-14T19:24:10.262367Z",
     "shell.execute_reply": "2023-05-14T19:24:10.261210Z"
    },
    "papermill": {
     "duration": 0.024644,
     "end_time": "2023-05-14T19:24:10.264769",
     "exception": false,
     "start_time": "2023-05-14T19:24:10.240125",
     "status": "completed"
    },
    "tags": []
   },
   "outputs": [
    {
     "name": "stdout",
     "output_type": "stream",
     "text": [
      "Splitting 1 candies\n"
     ]
    },
    {
     "data": {
      "text/plain": [
       "1"
      ]
     },
     "execution_count": 5,
     "metadata": {},
     "output_type": "execute_result"
    }
   ],
   "source": [
    "to_smash(1)"
   ]
  },
  {
   "cell_type": "markdown",
   "id": "287bc43b",
   "metadata": {
    "papermill": {
     "duration": 0.012548,
     "end_time": "2023-05-14T19:24:10.290346",
     "exception": false,
     "start_time": "2023-05-14T19:24:10.277798",
     "status": "completed"
    },
    "tags": []
   },
   "source": [
    "That isn't great grammar!\n",
    "\n",
    "Modify the definition in the cell below to correct the grammar of our print statement. (If there's only one candy, we should use the singular \"candy\" instead of the plural \"candies\")"
   ]
  },
  {
   "cell_type": "code",
   "execution_count": 6,
   "id": "f96584d3",
   "metadata": {
    "execution": {
     "iopub.execute_input": "2023-05-14T19:24:10.318155Z",
     "iopub.status.busy": "2023-05-14T19:24:10.317750Z",
     "iopub.status.idle": "2023-05-14T19:24:10.329852Z",
     "shell.execute_reply": "2023-05-14T19:24:10.328745Z"
    },
    "papermill": {
     "duration": 0.028878,
     "end_time": "2023-05-14T19:24:10.332463",
     "exception": false,
     "start_time": "2023-05-14T19:24:10.303585",
     "status": "completed"
    },
    "tags": []
   },
   "outputs": [
    {
     "name": "stdout",
     "output_type": "stream",
     "text": [
      "Splitting 91 candies\n",
      "Splitting 1 candy\n"
     ]
    },
    {
     "data": {
      "application/javascript": [
       "parent.postMessage({\"jupyterEvent\": \"custom.exercise_interaction\", \"data\": {\"outcomeType\": 1, \"valueTowardsCompletion\": 0.2, \"interactionType\": 1, \"questionType\": 4, \"questionId\": \"2_PluralizationProblem\", \"learnToolsVersion\": \"0.3.4\", \"failureMessage\": \"\", \"exceptionClass\": \"\", \"trace\": \"\"}}, \"*\")"
      ],
      "text/plain": [
       "<IPython.core.display.Javascript object>"
      ]
     },
     "metadata": {},
     "output_type": "display_data"
    },
    {
     "data": {
      "text/markdown": [
       "<span style=\"color:#33cc33\">Correct:</span> \n",
       "\n",
       "A straightforward (and totally fine) solution is to replace the original `print` call with:\n",
       "\n",
       "```python\n",
       "if total_candies == 1:\n",
       "    print(\"Splitting 1 candy\")\n",
       "else:\n",
       "    print(\"Splitting\", total_candies, \"candies\")\n",
       "```\n",
       "\n",
       "Here's a slightly more succinct solution using a conditional expression:\n",
       "\n",
       "```python\n",
       "print(\"Splitting\", total_candies, \"candy\" if total_candies == 1 else \"candies\")\n",
       "```"
      ],
      "text/plain": [
       "Correct: \n",
       "\n",
       "A straightforward (and totally fine) solution is to replace the original `print` call with:\n",
       "\n",
       "```python\n",
       "if total_candies == 1:\n",
       "    print(\"Splitting 1 candy\")\n",
       "else:\n",
       "    print(\"Splitting\", total_candies, \"candies\")\n",
       "```\n",
       "\n",
       "Here's a slightly more succinct solution using a conditional expression:\n",
       "\n",
       "```python\n",
       "print(\"Splitting\", total_candies, \"candy\" if total_candies == 1 else \"candies\")\n",
       "```"
      ]
     },
     "metadata": {},
     "output_type": "display_data"
    }
   ],
   "source": [
    "def to_smash(total_candies):\n",
    "        \n",
    "    \"\"\"Return the number of leftover candies that must be smashed after distributing\n",
    "    the given number of candies evenly between 3 friends.\n",
    "    \n",
    "    >>> to_smash(91)\n",
    "    1\n",
    "    \"\"\"\n",
    "    if (total_candies>1):\n",
    "        print(\"Splitting\", total_candies, \"candies\")\n",
    "        return total_candies % 3\n",
    "    else:\n",
    "        print(\"Splitting\", total_candies, \"candy\")\n",
    "        return total_candies % 3\n",
    "    \n",
    "\n",
    "to_smash(91)\n",
    "to_smash(1)\n",
    "q2.check()"
   ]
  },
  {
   "cell_type": "markdown",
   "id": "39f6fb4d",
   "metadata": {
    "papermill": {
     "duration": 0.012927,
     "end_time": "2023-05-14T19:24:10.358799",
     "exception": false,
     "start_time": "2023-05-14T19:24:10.345872",
     "status": "completed"
    },
    "tags": []
   },
   "source": [
    "To get credit for completing this problem, and to see the official answer, run the code cell below."
   ]
  },
  {
   "cell_type": "code",
   "execution_count": 7,
   "id": "e2767a55",
   "metadata": {
    "execution": {
     "iopub.execute_input": "2023-05-14T19:24:10.387469Z",
     "iopub.status.busy": "2023-05-14T19:24:10.387101Z",
     "iopub.status.idle": "2023-05-14T19:24:10.395574Z",
     "shell.execute_reply": "2023-05-14T19:24:10.394448Z"
    },
    "papermill": {
     "duration": 0.025711,
     "end_time": "2023-05-14T19:24:10.397859",
     "exception": false,
     "start_time": "2023-05-14T19:24:10.372148",
     "status": "completed"
    },
    "tags": []
   },
   "outputs": [
    {
     "data": {
      "application/javascript": [
       "parent.postMessage({\"jupyterEvent\": \"custom.exercise_interaction\", \"data\": {\"interactionType\": 3, \"questionType\": 4, \"questionId\": \"2_PluralizationProblem\", \"learnToolsVersion\": \"0.3.4\", \"valueTowardsCompletion\": 0.0, \"failureMessage\": \"\", \"exceptionClass\": \"\", \"trace\": \"\", \"outcomeType\": 4}}, \"*\")"
      ],
      "text/plain": [
       "<IPython.core.display.Javascript object>"
      ]
     },
     "metadata": {},
     "output_type": "display_data"
    },
    {
     "data": {
      "text/markdown": [
       "<span style=\"color:#33cc99\">Solution:</span> A straightforward (and totally fine) solution is to replace the original `print` call with:\n",
       "\n",
       "```python\n",
       "if total_candies == 1:\n",
       "    print(\"Splitting 1 candy\")\n",
       "else:\n",
       "    print(\"Splitting\", total_candies, \"candies\")\n",
       "```\n",
       "\n",
       "Here's a slightly more succinct solution using a conditional expression:\n",
       "\n",
       "```python\n",
       "print(\"Splitting\", total_candies, \"candy\" if total_candies == 1 else \"candies\")\n",
       "```"
      ],
      "text/plain": [
       "Solution: A straightforward (and totally fine) solution is to replace the original `print` call with:\n",
       "\n",
       "```python\n",
       "if total_candies == 1:\n",
       "    print(\"Splitting 1 candy\")\n",
       "else:\n",
       "    print(\"Splitting\", total_candies, \"candies\")\n",
       "```\n",
       "\n",
       "Here's a slightly more succinct solution using a conditional expression:\n",
       "\n",
       "```python\n",
       "print(\"Splitting\", total_candies, \"candy\" if total_candies == 1 else \"candies\")\n",
       "```"
      ]
     },
     "metadata": {},
     "output_type": "display_data"
    }
   ],
   "source": [
    "# Check your answer (Run this code cell to receive credit!)\n",
    "q2.solution()"
   ]
  },
  {
   "cell_type": "markdown",
   "id": "b7aebcf0",
   "metadata": {
    "papermill": {
     "duration": 0.013275,
     "end_time": "2023-05-14T19:24:10.424811",
     "exception": false,
     "start_time": "2023-05-14T19:24:10.411536",
     "status": "completed"
    },
    "tags": []
   },
   "source": [
    "# 3. <span title=\"A bit spicy\" style=\"color: darkgreen \">🌶️</span>\n",
    "\n",
    "In the tutorial, we talked about deciding whether we're prepared for the weather. I said that I'm safe from today's weather if...\n",
    "- I have an umbrella...\n",
    "- or if the rain isn't too heavy and I have a hood...\n",
    "- otherwise, I'm still fine unless it's raining *and* it's a workday\n",
    "\n",
    "The function below uses our first attempt at turning this logic into a Python expression. I claimed that there was a bug in that code. Can you find it?\n",
    "\n",
    "To prove that `prepared_for_weather` is buggy, come up with a set of inputs where either:\n",
    "- the function returns `False` (but should have returned `True`), or\n",
    "- the function returned `True` (but should have returned `False`).\n",
    "\n",
    "To get credit for completing this question, your code should return a <font color='#33cc33'>Correct</font> result."
   ]
  },
  {
   "cell_type": "code",
   "execution_count": 8,
   "id": "bb8fa1d0",
   "metadata": {
    "execution": {
     "iopub.execute_input": "2023-05-14T19:24:10.454368Z",
     "iopub.status.busy": "2023-05-14T19:24:10.453985Z",
     "iopub.status.idle": "2023-05-14T19:24:10.461508Z",
     "shell.execute_reply": "2023-05-14T19:24:10.460267Z"
    },
    "papermill": {
     "duration": 0.025497,
     "end_time": "2023-05-14T19:24:10.464160",
     "exception": false,
     "start_time": "2023-05-14T19:24:10.438663",
     "status": "completed"
    },
    "tags": []
   },
   "outputs": [
    {
     "name": "stdout",
     "output_type": "stream",
     "text": [
      "True\n"
     ]
    }
   ],
   "source": [
    "def prepared_for_weather(have_umbrella, rain_level, have_hood, is_workday):\n",
    "    # Don't change this code. Our goal is just to find the bug, not fix it!\n",
    "    return (have_umbrella or rain_level )< 5 and (have_hood )or not( rain_level > 0 and is_workday)\n",
    "# Change the values of these inputs so they represent a case where prepared_for_weather\n",
    "# returns the wrong answer.\n",
    "have_umbrella = False\n",
    "rain_level = 0.0\n",
    "have_hood = False\n",
    "is_workday = False\n",
    "\n",
    "# Check what the function returns given the current values of the variables above\n",
    "actual = prepared_for_weather(have_umbrella, rain_level, have_hood, is_workday)\n",
    "print(actual)\n",
    "\n",
    "# Check your answer\n",
    "#q3.check()"
   ]
  },
  {
   "cell_type": "code",
   "execution_count": 9,
   "id": "589fa450",
   "metadata": {
    "execution": {
     "iopub.execute_input": "2023-05-14T19:24:10.493714Z",
     "iopub.status.busy": "2023-05-14T19:24:10.493296Z",
     "iopub.status.idle": "2023-05-14T19:24:10.500339Z",
     "shell.execute_reply": "2023-05-14T19:24:10.499604Z"
    },
    "papermill": {
     "duration": 0.024607,
     "end_time": "2023-05-14T19:24:10.502660",
     "exception": false,
     "start_time": "2023-05-14T19:24:10.478053",
     "status": "completed"
    },
    "tags": []
   },
   "outputs": [
    {
     "data": {
      "application/javascript": [
       "parent.postMessage({\"jupyterEvent\": \"custom.exercise_interaction\", \"data\": {\"interactionType\": 3, \"questionType\": 1, \"questionId\": \"3_WeatherDebug\", \"learnToolsVersion\": \"0.3.4\", \"valueTowardsCompletion\": 0.0, \"failureMessage\": \"\", \"exceptionClass\": \"\", \"trace\": \"\", \"outcomeType\": 4}}, \"*\")"
      ],
      "text/plain": [
       "<IPython.core.display.Javascript object>"
      ]
     },
     "metadata": {},
     "output_type": "display_data"
    },
    {
     "data": {
      "text/markdown": [
       "<span style=\"color:#33cc99\">Solution:</span> One example of a failing test case is:\n",
       "\n",
       "```python\n",
       "have_umbrella = False\n",
       "rain_level = 0.0\n",
       "have_hood = False\n",
       "is_workday = False\n",
       "```\n",
       "\n",
       "Clearly we're prepared for the weather in this case. It's not raining. Not only that, it's not a workday, so we don't even need to leave the house! But our function will return False on these inputs.\n",
       "\n",
       "The key problem is that Python implictly parenthesizes the last part as:\n",
       "\n",
       "```python\n",
       "(not (rain_level > 0)) and is_workday\n",
       "```\n",
       "\n",
       "Whereas what we were trying to express would look more like:\n",
       "\n",
       "```python\n",
       "not (rain_level > 0 and is_workday)\n",
       "```\n"
      ],
      "text/plain": [
       "Solution: One example of a failing test case is:\n",
       "\n",
       "```python\n",
       "have_umbrella = False\n",
       "rain_level = 0.0\n",
       "have_hood = False\n",
       "is_workday = False\n",
       "```\n",
       "\n",
       "Clearly we're prepared for the weather in this case. It's not raining. Not only that, it's not a workday, so we don't even need to leave the house! But our function will return False on these inputs.\n",
       "\n",
       "The key problem is that Python implictly parenthesizes the last part as:\n",
       "\n",
       "```python\n",
       "(not (rain_level > 0)) and is_workday\n",
       "```\n",
       "\n",
       "Whereas what we were trying to express would look more like:\n",
       "\n",
       "```python\n",
       "not (rain_level > 0 and is_workday)\n",
       "```"
      ]
     },
     "metadata": {},
     "output_type": "display_data"
    }
   ],
   "source": [
    "#q3.hint()\n",
    "q3.solution()"
   ]
  },
  {
   "cell_type": "markdown",
   "id": "94b51d8f",
   "metadata": {
    "papermill": {
     "duration": 0.013915,
     "end_time": "2023-05-14T19:24:10.530699",
     "exception": false,
     "start_time": "2023-05-14T19:24:10.516784",
     "status": "completed"
    },
    "tags": []
   },
   "source": [
    "# 4.\n",
    "\n",
    "The function `is_negative` below is implemented correctly - it returns True if the given number is negative and False otherwise.\n",
    "\n",
    "However, it's more verbose than it needs to be. We can actually reduce the number of lines of code in this function by *75%* while keeping the same behaviour. \n",
    "\n",
    "See if you can come up with an equivalent body that uses just **one line** of code, and put it in the function `concise_is_negative`. (HINT: you don't even need Python's ternary syntax)"
   ]
  },
  {
   "cell_type": "code",
   "execution_count": 10,
   "id": "c98afec0",
   "metadata": {
    "execution": {
     "iopub.execute_input": "2023-05-14T19:24:10.563241Z",
     "iopub.status.busy": "2023-05-14T19:24:10.562796Z",
     "iopub.status.idle": "2023-05-14T19:24:10.572821Z",
     "shell.execute_reply": "2023-05-14T19:24:10.571624Z"
    },
    "papermill": {
     "duration": 0.028108,
     "end_time": "2023-05-14T19:24:10.575211",
     "exception": false,
     "start_time": "2023-05-14T19:24:10.547103",
     "status": "completed"
    },
    "tags": []
   },
   "outputs": [
    {
     "data": {
      "application/javascript": [
       "parent.postMessage({\"jupyterEvent\": \"custom.exercise_interaction\", \"data\": {\"outcomeType\": 1, \"valueTowardsCompletion\": 0.2, \"interactionType\": 1, \"questionType\": 2, \"questionId\": \"4_ConciseIsNegative\", \"learnToolsVersion\": \"0.3.4\", \"failureMessage\": \"\", \"exceptionClass\": \"\", \"trace\": \"\"}}, \"*\")"
      ],
      "text/plain": [
       "<IPython.core.display.Javascript object>"
      ]
     },
     "metadata": {},
     "output_type": "display_data"
    },
    {
     "data": {
      "text/markdown": [
       "<span style=\"color:#33cc33\">Correct</span>"
      ],
      "text/plain": [
       "Correct"
      ]
     },
     "metadata": {},
     "output_type": "display_data"
    }
   ],
   "source": [
    "def is_negative(number):\n",
    "    if number < 0:\n",
    "        return True\n",
    "    else:\n",
    "        return False\n",
    "\n",
    "def concise_is_negative(number):\n",
    "    return number < 0\n",
    "# Your code goes here (try to keep it to one line!)\n",
    "    \n",
    "# Check your answer\n",
    "q4.check()"
   ]
  },
  {
   "cell_type": "code",
   "execution_count": 11,
   "id": "8912d54d",
   "metadata": {
    "execution": {
     "iopub.execute_input": "2023-05-14T19:24:10.607583Z",
     "iopub.status.busy": "2023-05-14T19:24:10.606830Z",
     "iopub.status.idle": "2023-05-14T19:24:10.612135Z",
     "shell.execute_reply": "2023-05-14T19:24:10.610877Z"
    },
    "papermill": {
     "duration": 0.024183,
     "end_time": "2023-05-14T19:24:10.614911",
     "exception": false,
     "start_time": "2023-05-14T19:24:10.590728",
     "status": "completed"
    },
    "tags": []
   },
   "outputs": [],
   "source": [
    "#q4.hint()\n",
    "#q4.solution()"
   ]
  },
  {
   "cell_type": "markdown",
   "id": "b1bff6fc",
   "metadata": {
    "papermill": {
     "duration": 0.014555,
     "end_time": "2023-05-14T19:24:10.644241",
     "exception": false,
     "start_time": "2023-05-14T19:24:10.629686",
     "status": "completed"
    },
    "tags": []
   },
   "source": [
    "# 5a.\n",
    "\n",
    "The boolean variables `ketchup`, `mustard` and `onion` represent whether a customer wants a particular topping on their hot dog. We want to implement a number of boolean functions that correspond to some yes-or-no questions about the customer's order. For example:"
   ]
  },
  {
   "cell_type": "code",
   "execution_count": 12,
   "id": "74845d60",
   "metadata": {
    "execution": {
     "iopub.execute_input": "2023-05-14T19:24:10.676690Z",
     "iopub.status.busy": "2023-05-14T19:24:10.676265Z",
     "iopub.status.idle": "2023-05-14T19:24:10.681510Z",
     "shell.execute_reply": "2023-05-14T19:24:10.680281Z"
    },
    "papermill": {
     "duration": 0.024757,
     "end_time": "2023-05-14T19:24:10.684004",
     "exception": false,
     "start_time": "2023-05-14T19:24:10.659247",
     "status": "completed"
    },
    "tags": []
   },
   "outputs": [],
   "source": [
    "def onionless(ketchup, mustard, onion):\n",
    "    \"\"\"Return whether the customer doesn't want onions.\n",
    "    \"\"\"\n",
    "    return not onion"
   ]
  },
  {
   "cell_type": "code",
   "execution_count": 13,
   "id": "8ee6792f",
   "metadata": {
    "execution": {
     "iopub.execute_input": "2023-05-14T19:24:10.716502Z",
     "iopub.status.busy": "2023-05-14T19:24:10.716121Z",
     "iopub.status.idle": "2023-05-14T19:24:10.725770Z",
     "shell.execute_reply": "2023-05-14T19:24:10.724707Z"
    },
    "papermill": {
     "duration": 0.028346,
     "end_time": "2023-05-14T19:24:10.727990",
     "exception": false,
     "start_time": "2023-05-14T19:24:10.699644",
     "status": "completed"
    },
    "tags": []
   },
   "outputs": [
    {
     "data": {
      "application/javascript": [
       "parent.postMessage({\"jupyterEvent\": \"custom.exercise_interaction\", \"data\": {\"outcomeType\": 1, \"valueTowardsCompletion\": 0.2, \"interactionType\": 1, \"questionType\": 2, \"questionId\": \"5.1_AllToppings\", \"learnToolsVersion\": \"0.3.4\", \"failureMessage\": \"\", \"exceptionClass\": \"\", \"trace\": \"\"}}, \"*\")"
      ],
      "text/plain": [
       "<IPython.core.display.Javascript object>"
      ]
     },
     "metadata": {},
     "output_type": "display_data"
    },
    {
     "data": {
      "text/markdown": [
       "<span style=\"color:#33cc33\">Correct</span>"
      ],
      "text/plain": [
       "Correct"
      ]
     },
     "metadata": {},
     "output_type": "display_data"
    }
   ],
   "source": [
    "def wants_all_toppings(ketchup, mustard, onion):\n",
    "    \"\"\"Return whether the customer wants \"the works\" (all 3 toppings)\n",
    "    \"\"\"\n",
    "    return ketchup and mustard and onion\n",
    "\n",
    "# Check your answer\n",
    "q5.a.check()"
   ]
  },
  {
   "cell_type": "code",
   "execution_count": 14,
   "id": "af315dc9",
   "metadata": {
    "execution": {
     "iopub.execute_input": "2023-05-14T19:24:10.759646Z",
     "iopub.status.busy": "2023-05-14T19:24:10.758889Z",
     "iopub.status.idle": "2023-05-14T19:24:10.763359Z",
     "shell.execute_reply": "2023-05-14T19:24:10.762445Z"
    },
    "papermill": {
     "duration": 0.022897,
     "end_time": "2023-05-14T19:24:10.765634",
     "exception": false,
     "start_time": "2023-05-14T19:24:10.742737",
     "status": "completed"
    },
    "tags": []
   },
   "outputs": [],
   "source": [
    "#q5.a.hint()\n",
    "#q5.a.solution()"
   ]
  },
  {
   "cell_type": "markdown",
   "id": "fbfb6e04",
   "metadata": {
    "papermill": {
     "duration": 0.014797,
     "end_time": "2023-05-14T19:24:10.795881",
     "exception": false,
     "start_time": "2023-05-14T19:24:10.781084",
     "status": "completed"
    },
    "tags": []
   },
   "source": [
    "# 5b.\n",
    "\n",
    "For the next function, fill in the body to match the English description in the docstring. "
   ]
  },
  {
   "cell_type": "code",
   "execution_count": 15,
   "id": "df3140fb",
   "metadata": {
    "execution": {
     "iopub.execute_input": "2023-05-14T19:24:10.828240Z",
     "iopub.status.busy": "2023-05-14T19:24:10.827858Z",
     "iopub.status.idle": "2023-05-14T19:24:10.837289Z",
     "shell.execute_reply": "2023-05-14T19:24:10.836126Z"
    },
    "papermill": {
     "duration": 0.028676,
     "end_time": "2023-05-14T19:24:10.839676",
     "exception": false,
     "start_time": "2023-05-14T19:24:10.811000",
     "status": "completed"
    },
    "tags": []
   },
   "outputs": [
    {
     "data": {
      "application/javascript": [
       "parent.postMessage({\"jupyterEvent\": \"custom.exercise_interaction\", \"data\": {\"outcomeType\": 1, \"valueTowardsCompletion\": 0.2, \"interactionType\": 1, \"questionType\": 2, \"questionId\": \"5.2_PlainDog\", \"learnToolsVersion\": \"0.3.4\", \"failureMessage\": \"\", \"exceptionClass\": \"\", \"trace\": \"\"}}, \"*\")"
      ],
      "text/plain": [
       "<IPython.core.display.Javascript object>"
      ]
     },
     "metadata": {},
     "output_type": "display_data"
    },
    {
     "data": {
      "text/markdown": [
       "<span style=\"color:#33cc33\">Correct:</span> \n",
       "\n",
       "One solution looks like:\n",
       "```python\n",
       "return not ketchup and not mustard and not onion\n",
       "```\n",
       "\n",
       "We can also [\"factor out\" the nots](https://en.wikipedia.org/wiki/De_Morgan%27s_laws) to get:\n",
       "\n",
       "```python\n",
       "return not (ketchup or mustard or onion)\n",
       "```"
      ],
      "text/plain": [
       "Correct: \n",
       "\n",
       "One solution looks like:\n",
       "```python\n",
       "return not ketchup and not mustard and not onion\n",
       "```\n",
       "\n",
       "We can also [\"factor out\" the nots](https://en.wikipedia.org/wiki/De_Morgan%27s_laws) to get:\n",
       "\n",
       "```python\n",
       "return not (ketchup or mustard or onion)\n",
       "```"
      ]
     },
     "metadata": {},
     "output_type": "display_data"
    }
   ],
   "source": [
    "def wants_plain_hotdog(ketchup, mustard, onion):\n",
    "    \"\"\"Return whether the customer wants a plain hot dog with no toppings.\n",
    "    \"\"\"\n",
    "    return not (ketchup or mustard or onion)\n",
    "\n",
    "# Check your answer\n",
    "q5.b.check()"
   ]
  },
  {
   "cell_type": "code",
   "execution_count": 16,
   "id": "6ee27ac3",
   "metadata": {
    "execution": {
     "iopub.execute_input": "2023-05-14T19:24:10.873343Z",
     "iopub.status.busy": "2023-05-14T19:24:10.872499Z",
     "iopub.status.idle": "2023-05-14T19:24:10.877804Z",
     "shell.execute_reply": "2023-05-14T19:24:10.876505Z"
    },
    "papermill": {
     "duration": 0.024451,
     "end_time": "2023-05-14T19:24:10.880190",
     "exception": false,
     "start_time": "2023-05-14T19:24:10.855739",
     "status": "completed"
    },
    "tags": []
   },
   "outputs": [],
   "source": [
    "#q5.b.hint()\n",
    "#q5.b.solution()"
   ]
  },
  {
   "cell_type": "markdown",
   "id": "d69ebd42",
   "metadata": {
    "papermill": {
     "duration": 0.015072,
     "end_time": "2023-05-14T19:24:10.911681",
     "exception": false,
     "start_time": "2023-05-14T19:24:10.896609",
     "status": "completed"
    },
    "tags": []
   },
   "source": [
    "# 5c.\n",
    "\n",
    "You know what to do: for the next function, fill in the body to match the English description in the docstring."
   ]
  },
  {
   "cell_type": "code",
   "execution_count": 17,
   "id": "6ac3b049",
   "metadata": {
    "execution": {
     "iopub.execute_input": "2023-05-14T19:24:10.944712Z",
     "iopub.status.busy": "2023-05-14T19:24:10.944214Z",
     "iopub.status.idle": "2023-05-14T19:24:10.953918Z",
     "shell.execute_reply": "2023-05-14T19:24:10.952830Z"
    },
    "papermill": {
     "duration": 0.028998,
     "end_time": "2023-05-14T19:24:10.956060",
     "exception": false,
     "start_time": "2023-05-14T19:24:10.927062",
     "status": "completed"
    },
    "tags": []
   },
   "outputs": [
    {
     "data": {
      "application/javascript": [
       "parent.postMessage({\"jupyterEvent\": \"custom.exercise_interaction\", \"data\": {\"outcomeType\": 1, \"valueTowardsCompletion\": 0.2, \"interactionType\": 1, \"questionType\": 2, \"questionId\": \"5.3_OneSauce\", \"learnToolsVersion\": \"0.3.4\", \"failureMessage\": \"\", \"exceptionClass\": \"\", \"trace\": \"\"}}, \"*\")"
      ],
      "text/plain": [
       "<IPython.core.display.Javascript object>"
      ]
     },
     "metadata": {},
     "output_type": "display_data"
    },
    {
     "data": {
      "text/markdown": [
       "<span style=\"color:#33cc33\">Correct</span>"
      ],
      "text/plain": [
       "Correct"
      ]
     },
     "metadata": {},
     "output_type": "display_data"
    }
   ],
   "source": [
    "def exactly_one_sauce(ketchup, mustard, onion):\n",
    "    \"\"\"Return whether the customer wants either ketchup or mustard, but not both.\n",
    "    (You may be familiar with this operation under the name \"exclusive or\")\n",
    "    \"\"\"\n",
    "    return (ketchup and not mustard) or (mustard and not ketchup)\n",
    "\n",
    "# Check your answer\n",
    "q5.c.check()"
   ]
  },
  {
   "cell_type": "code",
   "execution_count": 18,
   "id": "a2a2d43f",
   "metadata": {
    "execution": {
     "iopub.execute_input": "2023-05-14T19:24:10.992171Z",
     "iopub.status.busy": "2023-05-14T19:24:10.991746Z",
     "iopub.status.idle": "2023-05-14T19:24:10.997207Z",
     "shell.execute_reply": "2023-05-14T19:24:10.995975Z"
    },
    "papermill": {
     "duration": 0.026957,
     "end_time": "2023-05-14T19:24:10.999878",
     "exception": false,
     "start_time": "2023-05-14T19:24:10.972921",
     "status": "completed"
    },
    "tags": []
   },
   "outputs": [],
   "source": [
    "#q5.c.hint()\n",
    "#q5.c.solution()"
   ]
  },
  {
   "cell_type": "markdown",
   "id": "9b1a4c6e",
   "metadata": {
    "papermill": {
     "duration": 0.016064,
     "end_time": "2023-05-14T19:24:11.031765",
     "exception": false,
     "start_time": "2023-05-14T19:24:11.015701",
     "status": "completed"
    },
    "tags": []
   },
   "source": [
    "# 6. <span title=\"A bit spicy\" style=\"color: darkgreen \">🌶️</span>\n",
    "\n",
    "We’ve seen that calling `bool()` on an integer returns `False` if it’s equal to 0 and `True` otherwise. What happens if we call `int()` on a bool? Try it out in the notebook cell below.\n",
    "\n",
    "Can you take advantage of this to write a succinct function that corresponds to the English sentence \"does the customer want exactly one topping?\"?"
   ]
  },
  {
   "cell_type": "code",
   "execution_count": 19,
   "id": "3f04a275",
   "metadata": {
    "execution": {
     "iopub.execute_input": "2023-05-14T19:24:11.066984Z",
     "iopub.status.busy": "2023-05-14T19:24:11.065893Z",
     "iopub.status.idle": "2023-05-14T19:24:11.073460Z",
     "shell.execute_reply": "2023-05-14T19:24:11.072312Z"
    },
    "papermill": {
     "duration": 0.027396,
     "end_time": "2023-05-14T19:24:11.075817",
     "exception": false,
     "start_time": "2023-05-14T19:24:11.048421",
     "status": "completed"
    },
    "tags": []
   },
   "outputs": [
    {
     "data": {
      "text/plain": [
       "1"
      ]
     },
     "execution_count": 19,
     "metadata": {},
     "output_type": "execute_result"
    }
   ],
   "source": [
    "int(bool(78))"
   ]
  },
  {
   "cell_type": "code",
   "execution_count": 20,
   "id": "4411e726",
   "metadata": {
    "execution": {
     "iopub.execute_input": "2023-05-14T19:24:11.111302Z",
     "iopub.status.busy": "2023-05-14T19:24:11.110899Z",
     "iopub.status.idle": "2023-05-14T19:24:11.121245Z",
     "shell.execute_reply": "2023-05-14T19:24:11.120026Z"
    },
    "papermill": {
     "duration": 0.031429,
     "end_time": "2023-05-14T19:24:11.124005",
     "exception": false,
     "start_time": "2023-05-14T19:24:11.092576",
     "status": "completed"
    },
    "tags": []
   },
   "outputs": [
    {
     "data": {
      "application/javascript": [
       "parent.postMessage({\"jupyterEvent\": \"custom.exercise_interaction\", \"data\": {\"outcomeType\": 1, \"valueTowardsCompletion\": 0.2, \"interactionType\": 1, \"questionType\": 2, \"questionId\": \"6_OneTopping\", \"learnToolsVersion\": \"0.3.4\", \"failureMessage\": \"\", \"exceptionClass\": \"\", \"trace\": \"\"}}, \"*\")"
      ],
      "text/plain": [
       "<IPython.core.display.Javascript object>"
      ]
     },
     "metadata": {},
     "output_type": "display_data"
    },
    {
     "data": {
      "text/markdown": [
       "<span style=\"color:#33cc33\">Correct:</span> \n",
       "\n",
       "This condition would be pretty complicated to express using just `and`, `or` and `not`, but using boolean-to-integer conversion gives us this short solution:\n",
       "```python\n",
       "return (int(ketchup) + int(mustard) + int(onion)) == 1\n",
       "```\n",
       "\n",
       "Fun fact: we don't technically need to call `int` on the arguments. Just by doing addition with booleans, Python implicitly does the integer conversion. So we could also write...\n",
       "\n",
       "```python\n",
       "return (ketchup + mustard + onion) == 1\n",
       "```"
      ],
      "text/plain": [
       "Correct: \n",
       "\n",
       "This condition would be pretty complicated to express using just `and`, `or` and `not`, but using boolean-to-integer conversion gives us this short solution:\n",
       "```python\n",
       "return (int(ketchup) + int(mustard) + int(onion)) == 1\n",
       "```\n",
       "\n",
       "Fun fact: we don't technically need to call `int` on the arguments. Just by doing addition with booleans, Python implicitly does the integer conversion. So we could also write...\n",
       "\n",
       "```python\n",
       "return (ketchup + mustard + onion) == 1\n",
       "```"
      ]
     },
     "metadata": {},
     "output_type": "display_data"
    }
   ],
   "source": [
    "def exactly_one_topping(ketchup, mustard, onion):\n",
    "    \"\"\"Return whether the customer wants exactly one of the three available toppings\n",
    "    on their hot dog.\n",
    "    \"\"\"\n",
    "    return (ketchup +  mustard + onion)== True\n",
    "\n",
    "# Check your answer\n",
    "q6.check()"
   ]
  },
  {
   "cell_type": "code",
   "execution_count": 21,
   "id": "d19ed2f0",
   "metadata": {
    "execution": {
     "iopub.execute_input": "2023-05-14T19:24:11.159440Z",
     "iopub.status.busy": "2023-05-14T19:24:11.158391Z",
     "iopub.status.idle": "2023-05-14T19:24:11.163117Z",
     "shell.execute_reply": "2023-05-14T19:24:11.162282Z"
    },
    "papermill": {
     "duration": 0.025186,
     "end_time": "2023-05-14T19:24:11.165372",
     "exception": false,
     "start_time": "2023-05-14T19:24:11.140186",
     "status": "completed"
    },
    "tags": []
   },
   "outputs": [],
   "source": [
    "#q6.hint()\n",
    "#q6.solution()"
   ]
  },
  {
   "cell_type": "markdown",
   "id": "a4da8d79",
   "metadata": {
    "papermill": {
     "duration": 0.016322,
     "end_time": "2023-05-14T19:24:11.198456",
     "exception": false,
     "start_time": "2023-05-14T19:24:11.182134",
     "status": "completed"
    },
    "tags": []
   },
   "source": [
    "# 7. <span title=\"A bit spicy\" style=\"color: darkgreen \">🌶️</span> (Optional)\n",
    "\n",
    "In this problem we'll be working with a simplified version of [blackjack](https://en.wikipedia.org/wiki/Blackjack) (aka twenty-one). In this version there is one player (who you'll control) and a dealer. Play proceeds as follows:\n",
    "\n",
    "- The player is dealt two face-up cards. The dealer is dealt one face-up card.\n",
    "- The player may ask to be dealt another card ('hit') as many times as they wish. If the sum of their cards exceeds 21, they lose the round immediately.\n",
    "- The dealer then deals additional cards to himself until either:\n",
    "    - the sum of the dealer's cards exceeds 21, in which case the player wins the round\n",
    "    - the sum of the dealer's cards is greater than or equal to 17. If the player's total is greater than the dealer's, the player wins. Otherwise, the dealer wins (even in case of a tie).\n",
    "    \n",
    "When calculating the sum of cards, Jack, Queen, and King count for 10. Aces can count as 1 or 11 (when referring to a player's \"total\" above, we mean the largest total that can be made without exceeding 21. So e.g. A+8 = 19, A+8+8 = 17)\n",
    "\n",
    "For this problem, you'll write a function representing the player's decision-making strategy in this game. We've provided a very unintelligent implementation below:"
   ]
  },
  {
   "cell_type": "code",
   "execution_count": 22,
   "id": "b5f437ba",
   "metadata": {
    "execution": {
     "iopub.execute_input": "2023-05-14T19:24:11.232965Z",
     "iopub.status.busy": "2023-05-14T19:24:11.232311Z",
     "iopub.status.idle": "2023-05-14T19:24:11.237743Z",
     "shell.execute_reply": "2023-05-14T19:24:11.236911Z"
    },
    "papermill": {
     "duration": 0.02537,
     "end_time": "2023-05-14T19:24:11.239952",
     "exception": false,
     "start_time": "2023-05-14T19:24:11.214582",
     "status": "completed"
    },
    "tags": []
   },
   "outputs": [],
   "source": [
    "def should_hit(dealer_total, player_total, player_low_aces, player_high_aces):\n",
    "    \"\"\"Return True if the player should hit (request another card) given the current game\n",
    "    state, or False if the player should stay.\n",
    "    When calculating a hand's total value, we count aces as \"high\" (with value 11) if doing so\n",
    "    doesn't bring the total above 21, otherwise we count them as low (with value 1). \n",
    "    For example, if the player's hand is {A, A, A, 7}, we will count it as 11 + 1 + 1 + 7,\n",
    "    and therefore set player_total=20, player_low_aces=2, player_high_aces=1.\n",
    "    \"\"\"\n",
    "    return False"
   ]
  },
  {
   "cell_type": "markdown",
   "id": "00db0370",
   "metadata": {
    "papermill": {
     "duration": 0.015897,
     "end_time": "2023-05-14T19:24:11.271991",
     "exception": false,
     "start_time": "2023-05-14T19:24:11.256094",
     "status": "completed"
    },
    "tags": []
   },
   "source": [
    "This very conservative agent *always* sticks with the hand of two cards that they're dealt.\n",
    "\n",
    "We'll be simulating games between your player agent and our own dealer agent by calling your function.\n",
    "\n",
    "Try running the function below to see an example of a simulated game:"
   ]
  },
  {
   "cell_type": "code",
   "execution_count": 23,
   "id": "12e89c15",
   "metadata": {
    "execution": {
     "iopub.execute_input": "2023-05-14T19:24:11.306130Z",
     "iopub.status.busy": "2023-05-14T19:24:11.305719Z",
     "iopub.status.idle": "2023-05-14T19:24:11.311783Z",
     "shell.execute_reply": "2023-05-14T19:24:11.310594Z"
    },
    "papermill": {
     "duration": 0.026328,
     "end_time": "2023-05-14T19:24:11.314496",
     "exception": false,
     "start_time": "2023-05-14T19:24:11.288168",
     "status": "completed"
    },
    "tags": []
   },
   "outputs": [
    {
     "name": "stdout",
     "output_type": "stream",
     "text": [
      "Player starts with 2 and Q (total = 12)\n",
      "Dealer starts with 4\n",
      "\n",
      "__Player's turn__\n",
      "Player stays\n",
      "\n",
      "__Dealer's turn__\n",
      "Dealer hits and receives 8. (total = 12)\n",
      "Dealer hits and receives 4. (total = 16)\n",
      "Dealer hits and receives K. (total = 26)\n",
      "Dealer busts! Player wins.\n"
     ]
    }
   ],
   "source": [
    "q7.simulate_one_game()"
   ]
  },
  {
   "cell_type": "markdown",
   "id": "31f51ab2",
   "metadata": {
    "papermill": {
     "duration": 0.016052,
     "end_time": "2023-05-14T19:24:11.346837",
     "exception": false,
     "start_time": "2023-05-14T19:24:11.330785",
     "status": "completed"
    },
    "tags": []
   },
   "source": [
    "The real test of your agent's mettle is their average win rate over many games. Try calling the function below to simulate 50000 games of blackjack (it may take a couple seconds):"
   ]
  },
  {
   "cell_type": "code",
   "execution_count": 24,
   "id": "1576cbe2",
   "metadata": {
    "execution": {
     "iopub.execute_input": "2023-05-14T19:24:11.381454Z",
     "iopub.status.busy": "2023-05-14T19:24:11.380627Z",
     "iopub.status.idle": "2023-05-14T19:24:13.510794Z",
     "shell.execute_reply": "2023-05-14T19:24:13.509591Z"
    },
    "papermill": {
     "duration": 2.150206,
     "end_time": "2023-05-14T19:24:13.513317",
     "exception": false,
     "start_time": "2023-05-14T19:24:11.363111",
     "status": "completed"
    },
    "tags": []
   },
   "outputs": [
    {
     "name": "stdout",
     "output_type": "stream",
     "text": [
      "Player won 19133 out of 50000 games (win rate = 38.3%)\n"
     ]
    }
   ],
   "source": [
    "q7.simulate(n_games=50000)"
   ]
  },
  {
   "cell_type": "markdown",
   "id": "1ac0dbfd",
   "metadata": {
    "papermill": {
     "duration": 0.016855,
     "end_time": "2023-05-14T19:24:13.546868",
     "exception": false,
     "start_time": "2023-05-14T19:24:13.530013",
     "status": "completed"
    },
    "tags": []
   },
   "source": [
    "Our dumb agent that completely ignores the game state still manages to win shockingly often!\n",
    "\n",
    "Try adding some more smarts to the `should_hit` function and see how it affects the results."
   ]
  },
  {
   "cell_type": "code",
   "execution_count": 25,
   "id": "bb144199",
   "metadata": {
    "execution": {
     "iopub.execute_input": "2023-05-14T19:24:13.582835Z",
     "iopub.status.busy": "2023-05-14T19:24:13.581493Z",
     "iopub.status.idle": "2023-05-14T19:24:15.717093Z",
     "shell.execute_reply": "2023-05-14T19:24:15.715645Z"
    },
    "papermill": {
     "duration": 2.156444,
     "end_time": "2023-05-14T19:24:15.719825",
     "exception": false,
     "start_time": "2023-05-14T19:24:13.563381",
     "status": "completed"
    },
    "tags": []
   },
   "outputs": [
    {
     "name": "stdout",
     "output_type": "stream",
     "text": [
      "Player won 19151 out of 50000 games (win rate = 38.3%)\n"
     ]
    }
   ],
   "source": [
    "def should_hit(dealer_total, player_total, player_low_aces, player_high_aces):\n",
    "    \"\"\"Return True if the player should hit (request another card) given the current game\n",
    "    state, or False if the player should stay.\n",
    "    When calculating a hand's total value, we count aces as \"high\" (with value 11) if doing so\n",
    "    doesn't bring the total above 21, otherwise we count them as low (with value 1). \n",
    "    For example, if the player's hand is {A, A, A, 7}, we will count it as 11 + 1 + 1 + 7,\n",
    "    and therefore set player_total=20, player_low_aces=2, player_high_aces=1.\n",
    "    \"\"\"\n",
    "    return False\n",
    "\n",
    "q7.simulate(n_games=50000)"
   ]
  },
  {
   "cell_type": "markdown",
   "id": "320c74e4",
   "metadata": {
    "papermill": {
     "duration": 0.016228,
     "end_time": "2023-05-14T19:24:15.752735",
     "exception": false,
     "start_time": "2023-05-14T19:24:15.736507",
     "status": "completed"
    },
    "tags": []
   },
   "source": [
    "# Keep Going\n",
    "\n",
    "Learn about **[lists and tuples](https://www.kaggle.com/colinmorris/lists)** to handle multiple items of data in a systematic way."
   ]
  },
  {
   "cell_type": "markdown",
   "id": "48b72aab",
   "metadata": {
    "papermill": {
     "duration": 0.016298,
     "end_time": "2023-05-14T19:24:15.786056",
     "exception": false,
     "start_time": "2023-05-14T19:24:15.769758",
     "status": "completed"
    },
    "tags": []
   },
   "source": [
    "---\n",
    "\n",
    "\n",
    "\n",
    "\n",
    "*Have questions or comments? Visit the [course discussion forum](https://www.kaggle.com/learn/python/discussion) to chat with other learners.*"
   ]
  }
 ],
 "metadata": {
  "kernelspec": {
   "display_name": "Python 3",
   "language": "python",
   "name": "python3"
  },
  "language_info": {
   "codemirror_mode": {
    "name": "ipython",
    "version": 3
   },
   "file_extension": ".py",
   "mimetype": "text/x-python",
   "name": "python",
   "nbconvert_exporter": "python",
   "pygments_lexer": "ipython3",
   "version": "3.10.10"
  },
  "papermill": {
   "default_parameters": {},
   "duration": 19.881394,
   "end_time": "2023-05-14T19:24:16.624695",
   "environment_variables": {},
   "exception": null,
   "input_path": "__notebook__.ipynb",
   "output_path": "__notebook__.ipynb",
   "parameters": {},
   "start_time": "2023-05-14T19:23:56.743301",
   "version": "2.4.0"
  }
 },
 "nbformat": 4,
 "nbformat_minor": 5
}
