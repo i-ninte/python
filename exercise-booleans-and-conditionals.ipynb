{
 "cells": [
  {
   "cell_type": "markdown",
   "id": "af4f8e58",
   "metadata": {
    "papermill": {
     "duration": 0.012376,
     "end_time": "2023-05-13T04:13:03.629202",
     "exception": false,
     "start_time": "2023-05-13T04:13:03.616826",
     "status": "completed"
    },
    "tags": []
   },
   "source": [
    "**This notebook is an exercise in the [Python](https://www.kaggle.com/learn/python) course.  You can reference the tutorial at [this link](https://www.kaggle.com/colinmorris/booleans-and-conditionals).**\n",
    "\n",
    "---\n"
   ]
  },
  {
   "cell_type": "markdown",
   "id": "fb0d2560",
   "metadata": {
    "papermill": {
     "duration": 0.011151,
     "end_time": "2023-05-13T04:13:03.652219",
     "exception": false,
     "start_time": "2023-05-13T04:13:03.641068",
     "status": "completed"
    },
    "tags": []
   },
   "source": [
    "In this exercise, you'll put to work what you have learned about booleans and conditionals.\n",
    "\n",
    "To get started, **run the setup code below** before writing your own code (and if you leave this notebook and come back later, don't forget to run the setup code again)."
   ]
  },
  {
   "cell_type": "code",
   "execution_count": 1,
   "id": "b404fb3b",
   "metadata": {
    "execution": {
     "iopub.execute_input": "2023-05-13T04:13:03.677722Z",
     "iopub.status.busy": "2023-05-13T04:13:03.677168Z",
     "iopub.status.idle": "2023-05-13T04:13:03.736838Z",
     "shell.execute_reply": "2023-05-13T04:13:03.735474Z"
    },
    "papermill": {
     "duration": 0.075817,
     "end_time": "2023-05-13T04:13:03.739604",
     "exception": false,
     "start_time": "2023-05-13T04:13:03.663787",
     "status": "completed"
    },
    "tags": []
   },
   "outputs": [
    {
     "name": "stdout",
     "output_type": "stream",
     "text": [
      "Setup complete.\n"
     ]
    }
   ],
   "source": [
    "from learntools.core import binder; binder.bind(globals())\n",
    "from learntools.python.ex3 import *\n",
    "print('Setup complete.')"
   ]
  },
  {
   "cell_type": "markdown",
   "id": "6d36fc40",
   "metadata": {
    "papermill": {
     "duration": 0.011568,
     "end_time": "2023-05-13T04:13:03.763155",
     "exception": false,
     "start_time": "2023-05-13T04:13:03.751587",
     "status": "completed"
    },
    "tags": []
   },
   "source": [
    "# 1.\n",
    "\n",
    "Many programming languages have [`sign`](https://en.wikipedia.org/wiki/Sign_function) available as a built-in function. Python doesn't, but we can define our own!\n",
    "\n",
    "In the cell below, define a function called `sign` which takes a numerical argument and returns -1 if it's negative, 1 if it's positive, and 0 if it's 0."
   ]
  },
  {
   "cell_type": "code",
   "execution_count": 2,
   "id": "f4c89dca",
   "metadata": {
    "execution": {
     "iopub.execute_input": "2023-05-13T04:13:03.788347Z",
     "iopub.status.busy": "2023-05-13T04:13:03.787979Z",
     "iopub.status.idle": "2023-05-13T04:13:03.799359Z",
     "shell.execute_reply": "2023-05-13T04:13:03.798272Z"
    },
    "papermill": {
     "duration": 0.026856,
     "end_time": "2023-05-13T04:13:03.801753",
     "exception": false,
     "start_time": "2023-05-13T04:13:03.774897",
     "status": "completed"
    },
    "tags": []
   },
   "outputs": [
    {
     "data": {
      "application/javascript": [
       "parent.postMessage({\"jupyterEvent\": \"custom.exercise_interaction\", \"data\": {\"outcomeType\": 1, \"valueTowardsCompletion\": 0.2, \"interactionType\": 1, \"questionType\": 2, \"questionId\": \"1_SignFunctionProblem\", \"learnToolsVersion\": \"0.3.4\", \"failureMessage\": \"\", \"exceptionClass\": \"\", \"trace\": \"\"}}, \"*\")"
      ],
      "text/plain": [
       "<IPython.core.display.Javascript object>"
      ]
     },
     "metadata": {},
     "output_type": "display_data"
    },
    {
     "data": {
      "text/markdown": [
       "<span style=\"color:#33cc33\">Correct</span>"
      ],
      "text/plain": [
       "Correct"
      ]
     },
     "metadata": {},
     "output_type": "display_data"
    }
   ],
   "source": [
    "# Your code goes here. Define a function called 'sign'\n",
    "def sign(x):\n",
    "    if (x<0):\n",
    "        return -1\n",
    "    elif (x==0):\n",
    "        return 0\n",
    "    else: \n",
    "        return 1\n",
    "\n",
    "# Check your answer\n",
    "q1.check()"
   ]
  },
  {
   "cell_type": "code",
   "execution_count": 3,
   "id": "ec466f80",
   "metadata": {
    "execution": {
     "iopub.execute_input": "2023-05-13T04:13:03.828068Z",
     "iopub.status.busy": "2023-05-13T04:13:03.827009Z",
     "iopub.status.idle": "2023-05-13T04:13:03.831188Z",
     "shell.execute_reply": "2023-05-13T04:13:03.830427Z"
    },
    "papermill": {
     "duration": 0.019518,
     "end_time": "2023-05-13T04:13:03.833285",
     "exception": false,
     "start_time": "2023-05-13T04:13:03.813767",
     "status": "completed"
    },
    "tags": []
   },
   "outputs": [],
   "source": [
    "#q1.solution()"
   ]
  },
  {
   "cell_type": "markdown",
   "id": "7ee23b67",
   "metadata": {
    "papermill": {
     "duration": 0.012329,
     "end_time": "2023-05-13T04:13:03.858141",
     "exception": false,
     "start_time": "2023-05-13T04:13:03.845812",
     "status": "completed"
    },
    "tags": []
   },
   "source": [
    "# 2.\n",
    "\n",
    "We've decided to add \"logging\" to our `to_smash` function from the previous exercise."
   ]
  },
  {
   "cell_type": "code",
   "execution_count": 4,
   "id": "cb09a338",
   "metadata": {
    "execution": {
     "iopub.execute_input": "2023-05-13T04:13:03.885136Z",
     "iopub.status.busy": "2023-05-13T04:13:03.884708Z",
     "iopub.status.idle": "2023-05-13T04:13:03.894258Z",
     "shell.execute_reply": "2023-05-13T04:13:03.893011Z"
    },
    "papermill": {
     "duration": 0.025803,
     "end_time": "2023-05-13T04:13:03.897025",
     "exception": false,
     "start_time": "2023-05-13T04:13:03.871222",
     "status": "completed"
    },
    "tags": []
   },
   "outputs": [
    {
     "name": "stdout",
     "output_type": "stream",
     "text": [
      "Splitting 91 candies\n"
     ]
    },
    {
     "data": {
      "text/plain": [
       "1"
      ]
     },
     "execution_count": 4,
     "metadata": {},
     "output_type": "execute_result"
    }
   ],
   "source": [
    "def to_smash(total_candies):\n",
    "    \"\"\"Return the number of leftover candies that must be smashed after distributing\n",
    "    the given number of candies evenly between 3 friends.\n",
    "    \n",
    "    >>> to_smash(91)\n",
    "    1\n",
    "    \"\"\"\n",
    "    \n",
    "    print(\"Splitting\", total_candies, \"candies\")\n",
    "    return total_candies % 3\n",
    "\n",
    "to_smash(91)"
   ]
  },
  {
   "cell_type": "markdown",
   "id": "f00ddabb",
   "metadata": {
    "papermill": {
     "duration": 0.011854,
     "end_time": "2023-05-13T04:13:03.921203",
     "exception": false,
     "start_time": "2023-05-13T04:13:03.909349",
     "status": "completed"
    },
    "tags": []
   },
   "source": [
    "What happens if we call it with `total_candies = 1`?"
   ]
  },
  {
   "cell_type": "code",
   "execution_count": 5,
   "id": "473da682",
   "metadata": {
    "execution": {
     "iopub.execute_input": "2023-05-13T04:13:03.947878Z",
     "iopub.status.busy": "2023-05-13T04:13:03.947509Z",
     "iopub.status.idle": "2023-05-13T04:13:03.954759Z",
     "shell.execute_reply": "2023-05-13T04:13:03.953085Z"
    },
    "papermill": {
     "duration": 0.023691,
     "end_time": "2023-05-13T04:13:03.957470",
     "exception": false,
     "start_time": "2023-05-13T04:13:03.933779",
     "status": "completed"
    },
    "tags": []
   },
   "outputs": [
    {
     "name": "stdout",
     "output_type": "stream",
     "text": [
      "Splitting 1 candies\n"
     ]
    },
    {
     "data": {
      "text/plain": [
       "1"
      ]
     },
     "execution_count": 5,
     "metadata": {},
     "output_type": "execute_result"
    }
   ],
   "source": [
    "to_smash(1)"
   ]
  },
  {
   "cell_type": "markdown",
   "id": "0b9bfcd2",
   "metadata": {
    "papermill": {
     "duration": 0.012223,
     "end_time": "2023-05-13T04:13:03.982461",
     "exception": false,
     "start_time": "2023-05-13T04:13:03.970238",
     "status": "completed"
    },
    "tags": []
   },
   "source": [
    "That isn't great grammar!\n",
    "\n",
    "Modify the definition in the cell below to correct the grammar of our print statement. (If there's only one candy, we should use the singular \"candy\" instead of the plural \"candies\")"
   ]
  },
  {
   "cell_type": "code",
   "execution_count": 6,
   "id": "4cb29076",
   "metadata": {
    "execution": {
     "iopub.execute_input": "2023-05-13T04:13:04.009693Z",
     "iopub.status.busy": "2023-05-13T04:13:04.009046Z",
     "iopub.status.idle": "2023-05-13T04:13:04.021185Z",
     "shell.execute_reply": "2023-05-13T04:13:04.019975Z"
    },
    "papermill": {
     "duration": 0.028665,
     "end_time": "2023-05-13T04:13:04.023662",
     "exception": false,
     "start_time": "2023-05-13T04:13:03.994997",
     "status": "completed"
    },
    "tags": []
   },
   "outputs": [
    {
     "name": "stdout",
     "output_type": "stream",
     "text": [
      "Splitting 91 candies\n",
      "Splitting 1 candy\n"
     ]
    },
    {
     "data": {
      "application/javascript": [
       "parent.postMessage({\"jupyterEvent\": \"custom.exercise_interaction\", \"data\": {\"outcomeType\": 1, \"valueTowardsCompletion\": 0.2, \"interactionType\": 1, \"questionType\": 4, \"questionId\": \"2_PluralizationProblem\", \"learnToolsVersion\": \"0.3.4\", \"failureMessage\": \"\", \"exceptionClass\": \"\", \"trace\": \"\"}}, \"*\")"
      ],
      "text/plain": [
       "<IPython.core.display.Javascript object>"
      ]
     },
     "metadata": {},
     "output_type": "display_data"
    },
    {
     "data": {
      "text/markdown": [
       "<span style=\"color:#33cc33\">Correct:</span> \n",
       "\n",
       "A straightforward (and totally fine) solution is to replace the original `print` call with:\n",
       "\n",
       "```python\n",
       "if total_candies == 1:\n",
       "    print(\"Splitting 1 candy\")\n",
       "else:\n",
       "    print(\"Splitting\", total_candies, \"candies\")\n",
       "```\n",
       "\n",
       "Here's a slightly more succinct solution using a conditional expression:\n",
       "\n",
       "```python\n",
       "print(\"Splitting\", total_candies, \"candy\" if total_candies == 1 else \"candies\")\n",
       "```"
      ],
      "text/plain": [
       "Correct: \n",
       "\n",
       "A straightforward (and totally fine) solution is to replace the original `print` call with:\n",
       "\n",
       "```python\n",
       "if total_candies == 1:\n",
       "    print(\"Splitting 1 candy\")\n",
       "else:\n",
       "    print(\"Splitting\", total_candies, \"candies\")\n",
       "```\n",
       "\n",
       "Here's a slightly more succinct solution using a conditional expression:\n",
       "\n",
       "```python\n",
       "print(\"Splitting\", total_candies, \"candy\" if total_candies == 1 else \"candies\")\n",
       "```"
      ]
     },
     "metadata": {},
     "output_type": "display_data"
    }
   ],
   "source": [
    "def to_smash(total_candies):\n",
    "        \n",
    "    \"\"\"Return the number of leftover candies that must be smashed after distributing\n",
    "    the given number of candies evenly between 3 friends.\n",
    "    \n",
    "    >>> to_smash(91)\n",
    "    1\n",
    "    \"\"\"\n",
    "    if (total_candies>1):\n",
    "        print(\"Splitting\", total_candies, \"candies\")\n",
    "        return total_candies % 3\n",
    "    else:\n",
    "        print(\"Splitting\", total_candies, \"candy\")\n",
    "        return total_candies % 3\n",
    "    \n",
    "\n",
    "to_smash(91)\n",
    "to_smash(1)\n",
    "q2.check()"
   ]
  },
  {
   "cell_type": "markdown",
   "id": "dfc5bda8",
   "metadata": {
    "papermill": {
     "duration": 0.012544,
     "end_time": "2023-05-13T04:13:04.049275",
     "exception": false,
     "start_time": "2023-05-13T04:13:04.036731",
     "status": "completed"
    },
    "tags": []
   },
   "source": [
    "To get credit for completing this problem, and to see the official answer, run the code cell below."
   ]
  },
  {
   "cell_type": "code",
   "execution_count": 7,
   "id": "a1f0e5e8",
   "metadata": {
    "execution": {
     "iopub.execute_input": "2023-05-13T04:13:04.076985Z",
     "iopub.status.busy": "2023-05-13T04:13:04.076607Z",
     "iopub.status.idle": "2023-05-13T04:13:04.085434Z",
     "shell.execute_reply": "2023-05-13T04:13:04.084244Z"
    },
    "papermill": {
     "duration": 0.025531,
     "end_time": "2023-05-13T04:13:04.087779",
     "exception": false,
     "start_time": "2023-05-13T04:13:04.062248",
     "status": "completed"
    },
    "tags": []
   },
   "outputs": [
    {
     "data": {
      "application/javascript": [
       "parent.postMessage({\"jupyterEvent\": \"custom.exercise_interaction\", \"data\": {\"interactionType\": 3, \"questionType\": 4, \"questionId\": \"2_PluralizationProblem\", \"learnToolsVersion\": \"0.3.4\", \"valueTowardsCompletion\": 0.0, \"failureMessage\": \"\", \"exceptionClass\": \"\", \"trace\": \"\", \"outcomeType\": 4}}, \"*\")"
      ],
      "text/plain": [
       "<IPython.core.display.Javascript object>"
      ]
     },
     "metadata": {},
     "output_type": "display_data"
    },
    {
     "data": {
      "text/markdown": [
       "<span style=\"color:#33cc99\">Solution:</span> A straightforward (and totally fine) solution is to replace the original `print` call with:\n",
       "\n",
       "```python\n",
       "if total_candies == 1:\n",
       "    print(\"Splitting 1 candy\")\n",
       "else:\n",
       "    print(\"Splitting\", total_candies, \"candies\")\n",
       "```\n",
       "\n",
       "Here's a slightly more succinct solution using a conditional expression:\n",
       "\n",
       "```python\n",
       "print(\"Splitting\", total_candies, \"candy\" if total_candies == 1 else \"candies\")\n",
       "```"
      ],
      "text/plain": [
       "Solution: A straightforward (and totally fine) solution is to replace the original `print` call with:\n",
       "\n",
       "```python\n",
       "if total_candies == 1:\n",
       "    print(\"Splitting 1 candy\")\n",
       "else:\n",
       "    print(\"Splitting\", total_candies, \"candies\")\n",
       "```\n",
       "\n",
       "Here's a slightly more succinct solution using a conditional expression:\n",
       "\n",
       "```python\n",
       "print(\"Splitting\", total_candies, \"candy\" if total_candies == 1 else \"candies\")\n",
       "```"
      ]
     },
     "metadata": {},
     "output_type": "display_data"
    }
   ],
   "source": [
    "# Check your answer (Run this code cell to receive credit!)\n",
    "q2.solution()"
   ]
  },
  {
   "cell_type": "markdown",
   "id": "cc50392b",
   "metadata": {
    "papermill": {
     "duration": 0.012931,
     "end_time": "2023-05-13T04:13:04.114016",
     "exception": false,
     "start_time": "2023-05-13T04:13:04.101085",
     "status": "completed"
    },
    "tags": []
   },
   "source": [
    "# 3. <span title=\"A bit spicy\" style=\"color: darkgreen \">🌶️</span>\n",
    "\n",
    "In the tutorial, we talked about deciding whether we're prepared for the weather. I said that I'm safe from today's weather if...\n",
    "- I have an umbrella...\n",
    "- or if the rain isn't too heavy and I have a hood...\n",
    "- otherwise, I'm still fine unless it's raining *and* it's a workday\n",
    "\n",
    "The function below uses our first attempt at turning this logic into a Python expression. I claimed that there was a bug in that code. Can you find it?\n",
    "\n",
    "To prove that `prepared_for_weather` is buggy, come up with a set of inputs where either:\n",
    "- the function returns `False` (but should have returned `True`), or\n",
    "- the function returned `True` (but should have returned `False`).\n",
    "\n",
    "To get credit for completing this question, your code should return a <font color='#33cc33'>Correct</font> result."
   ]
  },
  {
   "cell_type": "code",
   "execution_count": 8,
   "id": "9585a1ee",
   "metadata": {
    "execution": {
     "iopub.execute_input": "2023-05-13T04:13:04.142999Z",
     "iopub.status.busy": "2023-05-13T04:13:04.142621Z",
     "iopub.status.idle": "2023-05-13T04:13:04.154847Z",
     "shell.execute_reply": "2023-05-13T04:13:04.153656Z"
    },
    "papermill": {
     "duration": 0.029647,
     "end_time": "2023-05-13T04:13:04.157067",
     "exception": false,
     "start_time": "2023-05-13T04:13:04.127420",
     "status": "completed"
    },
    "tags": []
   },
   "outputs": [
    {
     "name": "stdout",
     "output_type": "stream",
     "text": [
      "True\n"
     ]
    },
    {
     "data": {
      "application/javascript": [
       "parent.postMessage({\"jupyterEvent\": \"custom.exercise_interaction\", \"data\": {\"outcomeType\": 1, \"valueTowardsCompletion\": 0.2, \"interactionType\": 1, \"questionType\": 1, \"questionId\": \"3_WeatherDebug\", \"learnToolsVersion\": \"0.3.4\", \"failureMessage\": \"\", \"exceptionClass\": \"\", \"trace\": \"\"}}, \"*\")"
      ],
      "text/plain": [
       "<IPython.core.display.Javascript object>"
      ]
     },
     "metadata": {},
     "output_type": "display_data"
    },
    {
     "data": {
      "text/markdown": [
       "<span style=\"color:#33cc33\">Correct:</span> \n",
       "\n",
       "One example of a failing test case is:\n",
       "\n",
       "```python\n",
       "have_umbrella = False\n",
       "rain_level = 0.0\n",
       "have_hood = False\n",
       "is_workday = False\n",
       "```\n",
       "\n",
       "Clearly we're prepared for the weather in this case. It's not raining. Not only that, it's not a workday, so we don't even need to leave the house! But our function will return False on these inputs.\n",
       "\n",
       "The key problem is that Python implictly parenthesizes the last part as:\n",
       "\n",
       "```python\n",
       "(not (rain_level > 0)) and is_workday\n",
       "```\n",
       "\n",
       "Whereas what we were trying to express would look more like:\n",
       "\n",
       "```python\n",
       "not (rain_level > 0 and is_workday)\n",
       "```\n"
      ],
      "text/plain": [
       "Correct: \n",
       "\n",
       "One example of a failing test case is:\n",
       "\n",
       "```python\n",
       "have_umbrella = False\n",
       "rain_level = 0.0\n",
       "have_hood = False\n",
       "is_workday = False\n",
       "```\n",
       "\n",
       "Clearly we're prepared for the weather in this case. It's not raining. Not only that, it's not a workday, so we don't even need to leave the house! But our function will return False on these inputs.\n",
       "\n",
       "The key problem is that Python implictly parenthesizes the last part as:\n",
       "\n",
       "```python\n",
       "(not (rain_level > 0)) and is_workday\n",
       "```\n",
       "\n",
       "Whereas what we were trying to express would look more like:\n",
       "\n",
       "```python\n",
       "not (rain_level > 0 and is_workday)\n",
       "```"
      ]
     },
     "metadata": {},
     "output_type": "display_data"
    }
   ],
   "source": [
    "def prepared_for_weather(have_umbrella, rain_level, have_hood, is_workday):\n",
    "    # Don't change this code. Our goal is just to find the bug, not fix it!\n",
    "    return (have_umbrella or rain_level )< 5 and (have_hood )or not( rain_level > 0 and is_workday)\n",
    "# Change the values of these inputs so they represent a case where prepared_for_weather\n",
    "# returns the wrong answer.\n",
    "have_umbrella = False\n",
    "rain_level = 0.0\n",
    "have_hood = False\n",
    "is_workday = False\n",
    "\n",
    "# Check what the function returns given the current values of the variables above\n",
    "actual = prepared_for_weather(have_umbrella, rain_level, have_hood, is_workday)\n",
    "print(actual)\n",
    "\n",
    "# Check your answer\n",
    "q3.check()"
   ]
  },
  {
   "cell_type": "code",
   "execution_count": 9,
   "id": "d5d338f7",
   "metadata": {
    "execution": {
     "iopub.execute_input": "2023-05-13T04:13:04.186896Z",
     "iopub.status.busy": "2023-05-13T04:13:04.186494Z",
     "iopub.status.idle": "2023-05-13T04:13:04.196107Z",
     "shell.execute_reply": "2023-05-13T04:13:04.194884Z"
    },
    "papermill": {
     "duration": 0.027577,
     "end_time": "2023-05-13T04:13:04.198718",
     "exception": false,
     "start_time": "2023-05-13T04:13:04.171141",
     "status": "completed"
    },
    "tags": []
   },
   "outputs": [
    {
     "data": {
      "application/javascript": [
       "parent.postMessage({\"jupyterEvent\": \"custom.exercise_interaction\", \"data\": {\"interactionType\": 3, \"questionType\": 1, \"questionId\": \"3_WeatherDebug\", \"learnToolsVersion\": \"0.3.4\", \"valueTowardsCompletion\": 0.0, \"failureMessage\": \"\", \"exceptionClass\": \"\", \"trace\": \"\", \"outcomeType\": 4}}, \"*\")"
      ],
      "text/plain": [
       "<IPython.core.display.Javascript object>"
      ]
     },
     "metadata": {},
     "output_type": "display_data"
    },
    {
     "data": {
      "text/markdown": [
       "<span style=\"color:#33cc99\">Solution:</span> One example of a failing test case is:\n",
       "\n",
       "```python\n",
       "have_umbrella = False\n",
       "rain_level = 0.0\n",
       "have_hood = False\n",
       "is_workday = False\n",
       "```\n",
       "\n",
       "Clearly we're prepared for the weather in this case. It's not raining. Not only that, it's not a workday, so we don't even need to leave the house! But our function will return False on these inputs.\n",
       "\n",
       "The key problem is that Python implictly parenthesizes the last part as:\n",
       "\n",
       "```python\n",
       "(not (rain_level > 0)) and is_workday\n",
       "```\n",
       "\n",
       "Whereas what we were trying to express would look more like:\n",
       "\n",
       "```python\n",
       "not (rain_level > 0 and is_workday)\n",
       "```\n"
      ],
      "text/plain": [
       "Solution: One example of a failing test case is:\n",
       "\n",
       "```python\n",
       "have_umbrella = False\n",
       "rain_level = 0.0\n",
       "have_hood = False\n",
       "is_workday = False\n",
       "```\n",
       "\n",
       "Clearly we're prepared for the weather in this case. It's not raining. Not only that, it's not a workday, so we don't even need to leave the house! But our function will return False on these inputs.\n",
       "\n",
       "The key problem is that Python implictly parenthesizes the last part as:\n",
       "\n",
       "```python\n",
       "(not (rain_level > 0)) and is_workday\n",
       "```\n",
       "\n",
       "Whereas what we were trying to express would look more like:\n",
       "\n",
       "```python\n",
       "not (rain_level > 0 and is_workday)\n",
       "```"
      ]
     },
     "metadata": {},
     "output_type": "display_data"
    }
   ],
   "source": [
    "#q3.hint()\n",
    "q3.solution()"
   ]
  },
  {
   "cell_type": "markdown",
   "id": "9e7a5c60",
   "metadata": {
    "papermill": {
     "duration": 0.014183,
     "end_time": "2023-05-13T04:13:04.227370",
     "exception": false,
     "start_time": "2023-05-13T04:13:04.213187",
     "status": "completed"
    },
    "tags": []
   },
   "source": [
    "# 4.\n",
    "\n",
    "The function `is_negative` below is implemented correctly - it returns True if the given number is negative and False otherwise.\n",
    "\n",
    "However, it's more verbose than it needs to be. We can actually reduce the number of lines of code in this function by *75%* while keeping the same behaviour. \n",
    "\n",
    "See if you can come up with an equivalent body that uses just **one line** of code, and put it in the function `concise_is_negative`. (HINT: you don't even need Python's ternary syntax)"
   ]
  },
  {
   "cell_type": "code",
   "execution_count": 10,
   "id": "fa76c9b2",
   "metadata": {
    "execution": {
     "iopub.execute_input": "2023-05-13T04:13:04.257822Z",
     "iopub.status.busy": "2023-05-13T04:13:04.257387Z",
     "iopub.status.idle": "2023-05-13T04:13:04.266246Z",
     "shell.execute_reply": "2023-05-13T04:13:04.265423Z"
    },
    "papermill": {
     "duration": 0.026872,
     "end_time": "2023-05-13T04:13:04.268650",
     "exception": false,
     "start_time": "2023-05-13T04:13:04.241778",
     "status": "completed"
    },
    "tags": []
   },
   "outputs": [
    {
     "data": {
      "application/javascript": [
       "parent.postMessage({\"jupyterEvent\": \"custom.exercise_interaction\", \"data\": {\"outcomeType\": 1, \"valueTowardsCompletion\": 0.2, \"interactionType\": 1, \"questionType\": 2, \"questionId\": \"4_ConciseIsNegative\", \"learnToolsVersion\": \"0.3.4\", \"failureMessage\": \"\", \"exceptionClass\": \"\", \"trace\": \"\"}}, \"*\")"
      ],
      "text/plain": [
       "<IPython.core.display.Javascript object>"
      ]
     },
     "metadata": {},
     "output_type": "display_data"
    },
    {
     "data": {
      "text/markdown": [
       "<span style=\"color:#33cc33\">Correct</span>"
      ],
      "text/plain": [
       "Correct"
      ]
     },
     "metadata": {},
     "output_type": "display_data"
    }
   ],
   "source": [
    "def is_negative(number):\n",
    "    if number < 0:\n",
    "        return True\n",
    "    else:\n",
    "        return False\n",
    "\n",
    "def concise_is_negative(number):\n",
    "    return number < 0\n",
    "# Your code goes here (try to keep it to one line!)\n",
    "    \n",
    "# Check your answer\n",
    "q4.check()"
   ]
  },
  {
   "cell_type": "code",
   "execution_count": 11,
   "id": "230b9836",
   "metadata": {
    "execution": {
     "iopub.execute_input": "2023-05-13T04:13:04.300265Z",
     "iopub.status.busy": "2023-05-13T04:13:04.299605Z",
     "iopub.status.idle": "2023-05-13T04:13:04.303690Z",
     "shell.execute_reply": "2023-05-13T04:13:04.302853Z"
    },
    "papermill": {
     "duration": 0.022204,
     "end_time": "2023-05-13T04:13:04.305789",
     "exception": false,
     "start_time": "2023-05-13T04:13:04.283585",
     "status": "completed"
    },
    "tags": []
   },
   "outputs": [],
   "source": [
    "#q4.hint()\n",
    "#q4.solution()"
   ]
  },
  {
   "cell_type": "markdown",
   "id": "fdbfbc1e",
   "metadata": {
    "papermill": {
     "duration": 0.014234,
     "end_time": "2023-05-13T04:13:04.334533",
     "exception": false,
     "start_time": "2023-05-13T04:13:04.320299",
     "status": "completed"
    },
    "tags": []
   },
   "source": [
    "# 5a.\n",
    "\n",
    "The boolean variables `ketchup`, `mustard` and `onion` represent whether a customer wants a particular topping on their hot dog. We want to implement a number of boolean functions that correspond to some yes-or-no questions about the customer's order. For example:"
   ]
  },
  {
   "cell_type": "code",
   "execution_count": 12,
   "id": "46bc8cbf",
   "metadata": {
    "execution": {
     "iopub.execute_input": "2023-05-13T04:13:04.366141Z",
     "iopub.status.busy": "2023-05-13T04:13:04.365444Z",
     "iopub.status.idle": "2023-05-13T04:13:04.370120Z",
     "shell.execute_reply": "2023-05-13T04:13:04.369006Z"
    },
    "papermill": {
     "duration": 0.023376,
     "end_time": "2023-05-13T04:13:04.372451",
     "exception": false,
     "start_time": "2023-05-13T04:13:04.349075",
     "status": "completed"
    },
    "tags": []
   },
   "outputs": [],
   "source": [
    "def onionless(ketchup, mustard, onion):\n",
    "    \"\"\"Return whether the customer doesn't want onions.\n",
    "    \"\"\"\n",
    "    return not onion"
   ]
  },
  {
   "cell_type": "code",
   "execution_count": 13,
   "id": "718bed64",
   "metadata": {
    "execution": {
     "iopub.execute_input": "2023-05-13T04:13:04.403311Z",
     "iopub.status.busy": "2023-05-13T04:13:04.402904Z",
     "iopub.status.idle": "2023-05-13T04:13:04.412412Z",
     "shell.execute_reply": "2023-05-13T04:13:04.411267Z"
    },
    "papermill": {
     "duration": 0.027635,
     "end_time": "2023-05-13T04:13:04.414681",
     "exception": false,
     "start_time": "2023-05-13T04:13:04.387046",
     "status": "completed"
    },
    "tags": []
   },
   "outputs": [
    {
     "data": {
      "application/javascript": [
       "parent.postMessage({\"jupyterEvent\": \"custom.exercise_interaction\", \"data\": {\"outcomeType\": 4, \"interactionType\": 1, \"questionType\": 2, \"questionId\": \"5.1_AllToppings\", \"learnToolsVersion\": \"0.3.4\", \"valueTowardsCompletion\": 0.0, \"failureMessage\": \"\", \"exceptionClass\": \"\", \"trace\": \"\"}}, \"*\")"
      ],
      "text/plain": [
       "<IPython.core.display.Javascript object>"
      ]
     },
     "metadata": {},
     "output_type": "display_data"
    },
    {
     "data": {
      "text/markdown": [
       "<span style=\"color:#ccaa33\">Check:</span> When you've updated the starter code, `check()` will tell you whether your code is correct. "
      ],
      "text/plain": [
       "Check: When you've updated the starter code, `check()` will tell you whether your code is correct. "
      ]
     },
     "metadata": {},
     "output_type": "display_data"
    }
   ],
   "source": [
    "def wants_all_toppings(ketchup, mustard, onion):\n",
    "    \"\"\"Return whether the customer wants \"the works\" (all 3 toppings)\n",
    "    \"\"\"\n",
    "    pass\n",
    "\n",
    "# Check your answer\n",
    "q5.a.check()"
   ]
  },
  {
   "cell_type": "code",
   "execution_count": 14,
   "id": "1d1fcf71",
   "metadata": {
    "execution": {
     "iopub.execute_input": "2023-05-13T04:13:04.447426Z",
     "iopub.status.busy": "2023-05-13T04:13:04.446982Z",
     "iopub.status.idle": "2023-05-13T04:13:04.451577Z",
     "shell.execute_reply": "2023-05-13T04:13:04.450330Z"
    },
    "papermill": {
     "duration": 0.023791,
     "end_time": "2023-05-13T04:13:04.453818",
     "exception": false,
     "start_time": "2023-05-13T04:13:04.430027",
     "status": "completed"
    },
    "tags": []
   },
   "outputs": [],
   "source": [
    "#q5.a.hint()\n",
    "#q5.a.solution()"
   ]
  },
  {
   "cell_type": "markdown",
   "id": "9b5a7ac4",
   "metadata": {
    "papermill": {
     "duration": 0.014554,
     "end_time": "2023-05-13T04:13:04.483539",
     "exception": false,
     "start_time": "2023-05-13T04:13:04.468985",
     "status": "completed"
    },
    "tags": []
   },
   "source": [
    "# 5b.\n",
    "\n",
    "For the next function, fill in the body to match the English description in the docstring. "
   ]
  },
  {
   "cell_type": "code",
   "execution_count": 15,
   "id": "3c460e85",
   "metadata": {
    "execution": {
     "iopub.execute_input": "2023-05-13T04:13:04.515759Z",
     "iopub.status.busy": "2023-05-13T04:13:04.514671Z",
     "iopub.status.idle": "2023-05-13T04:13:04.523694Z",
     "shell.execute_reply": "2023-05-13T04:13:04.522662Z"
    },
    "papermill": {
     "duration": 0.027396,
     "end_time": "2023-05-13T04:13:04.525944",
     "exception": false,
     "start_time": "2023-05-13T04:13:04.498548",
     "status": "completed"
    },
    "tags": []
   },
   "outputs": [
    {
     "data": {
      "application/javascript": [
       "parent.postMessage({\"jupyterEvent\": \"custom.exercise_interaction\", \"data\": {\"outcomeType\": 1, \"valueTowardsCompletion\": 0.2, \"interactionType\": 1, \"questionType\": 2, \"questionId\": \"5.2_PlainDog\", \"learnToolsVersion\": \"0.3.4\", \"failureMessage\": \"\", \"exceptionClass\": \"\", \"trace\": \"\"}}, \"*\")"
      ],
      "text/plain": [
       "<IPython.core.display.Javascript object>"
      ]
     },
     "metadata": {},
     "output_type": "display_data"
    },
    {
     "data": {
      "text/markdown": [
       "<span style=\"color:#33cc33\">Correct:</span> \n",
       "\n",
       "One solution looks like:\n",
       "```python\n",
       "return not ketchup and not mustard and not onion\n",
       "```\n",
       "\n",
       "We can also [\"factor out\" the nots](https://en.wikipedia.org/wiki/De_Morgan%27s_laws) to get:\n",
       "\n",
       "```python\n",
       "return not (ketchup or mustard or onion)\n",
       "```"
      ],
      "text/plain": [
       "Correct: \n",
       "\n",
       "One solution looks like:\n",
       "```python\n",
       "return not ketchup and not mustard and not onion\n",
       "```\n",
       "\n",
       "We can also [\"factor out\" the nots](https://en.wikipedia.org/wiki/De_Morgan%27s_laws) to get:\n",
       "\n",
       "```python\n",
       "return not (ketchup or mustard or onion)\n",
       "```"
      ]
     },
     "metadata": {},
     "output_type": "display_data"
    }
   ],
   "source": [
    "def wants_plain_hotdog(ketchup, mustard, onion):\n",
    "    \"\"\"Return whether the customer wants a plain hot dog with no toppings.\n",
    "    \"\"\"\n",
    "    return not (ketchup or mustard or onion)\n",
    "\n",
    "# Check your answer\n",
    "q5.b.check()"
   ]
  },
  {
   "cell_type": "code",
   "execution_count": 16,
   "id": "394d2c3a",
   "metadata": {
    "execution": {
     "iopub.execute_input": "2023-05-13T04:13:04.560628Z",
     "iopub.status.busy": "2023-05-13T04:13:04.559738Z",
     "iopub.status.idle": "2023-05-13T04:13:04.564347Z",
     "shell.execute_reply": "2023-05-13T04:13:04.563339Z"
    },
    "papermill": {
     "duration": 0.024651,
     "end_time": "2023-05-13T04:13:04.566604",
     "exception": false,
     "start_time": "2023-05-13T04:13:04.541953",
     "status": "completed"
    },
    "tags": []
   },
   "outputs": [],
   "source": [
    "#q5.b.hint()\n",
    "#q5.b.solution()"
   ]
  },
  {
   "cell_type": "markdown",
   "id": "b7fdbc5b",
   "metadata": {
    "papermill": {
     "duration": 0.015004,
     "end_time": "2023-05-13T04:13:04.597015",
     "exception": false,
     "start_time": "2023-05-13T04:13:04.582011",
     "status": "completed"
    },
    "tags": []
   },
   "source": [
    "# 5c.\n",
    "\n",
    "You know what to do: for the next function, fill in the body to match the English description in the docstring."
   ]
  },
  {
   "cell_type": "code",
   "execution_count": 17,
   "id": "39a5028e",
   "metadata": {
    "execution": {
     "iopub.execute_input": "2023-05-13T04:13:04.630328Z",
     "iopub.status.busy": "2023-05-13T04:13:04.629597Z",
     "iopub.status.idle": "2023-05-13T04:13:04.638618Z",
     "shell.execute_reply": "2023-05-13T04:13:04.637426Z"
    },
    "papermill": {
     "duration": 0.02871,
     "end_time": "2023-05-13T04:13:04.641038",
     "exception": false,
     "start_time": "2023-05-13T04:13:04.612328",
     "status": "completed"
    },
    "tags": []
   },
   "outputs": [
    {
     "data": {
      "application/javascript": [
       "parent.postMessage({\"jupyterEvent\": \"custom.exercise_interaction\", \"data\": {\"outcomeType\": 4, \"interactionType\": 1, \"questionType\": 2, \"questionId\": \"5.3_OneSauce\", \"learnToolsVersion\": \"0.3.4\", \"valueTowardsCompletion\": 0.0, \"failureMessage\": \"\", \"exceptionClass\": \"\", \"trace\": \"\"}}, \"*\")"
      ],
      "text/plain": [
       "<IPython.core.display.Javascript object>"
      ]
     },
     "metadata": {},
     "output_type": "display_data"
    },
    {
     "data": {
      "text/markdown": [
       "<span style=\"color:#ccaa33\">Check:</span> When you've updated the starter code, `check()` will tell you whether your code is correct. "
      ],
      "text/plain": [
       "Check: When you've updated the starter code, `check()` will tell you whether your code is correct. "
      ]
     },
     "metadata": {},
     "output_type": "display_data"
    }
   ],
   "source": [
    "def exactly_one_sauce(ketchup, mustard, onion):\n",
    "    \"\"\"Return whether the customer wants either ketchup or mustard, but not both.\n",
    "    (You may be familiar with this operation under the name \"exclusive or\")\n",
    "    \"\"\"\n",
    "    pass\n",
    "\n",
    "# Check your answer\n",
    "q5.c.check()"
   ]
  },
  {
   "cell_type": "code",
   "execution_count": 18,
   "id": "f82e7630",
   "metadata": {
    "execution": {
     "iopub.execute_input": "2023-05-13T04:13:04.674645Z",
     "iopub.status.busy": "2023-05-13T04:13:04.674244Z",
     "iopub.status.idle": "2023-05-13T04:13:04.678603Z",
     "shell.execute_reply": "2023-05-13T04:13:04.677485Z"
    },
    "papermill": {
     "duration": 0.023886,
     "end_time": "2023-05-13T04:13:04.680867",
     "exception": false,
     "start_time": "2023-05-13T04:13:04.656981",
     "status": "completed"
    },
    "tags": []
   },
   "outputs": [],
   "source": [
    "#q5.c.hint()\n",
    "#q5.c.solution()"
   ]
  },
  {
   "cell_type": "markdown",
   "id": "1bb266df",
   "metadata": {
    "papermill": {
     "duration": 0.016107,
     "end_time": "2023-05-13T04:13:04.713012",
     "exception": false,
     "start_time": "2023-05-13T04:13:04.696905",
     "status": "completed"
    },
    "tags": []
   },
   "source": [
    "# 6. <span title=\"A bit spicy\" style=\"color: darkgreen \">🌶️</span>\n",
    "\n",
    "We’ve seen that calling `bool()` on an integer returns `False` if it’s equal to 0 and `True` otherwise. What happens if we call `int()` on a bool? Try it out in the notebook cell below.\n",
    "\n",
    "Can you take advantage of this to write a succinct function that corresponds to the English sentence \"does the customer want exactly one topping?\"?"
   ]
  },
  {
   "cell_type": "code",
   "execution_count": 19,
   "id": "4ec4a190",
   "metadata": {
    "execution": {
     "iopub.execute_input": "2023-05-13T04:13:04.747005Z",
     "iopub.status.busy": "2023-05-13T04:13:04.746599Z",
     "iopub.status.idle": "2023-05-13T04:13:04.754225Z",
     "shell.execute_reply": "2023-05-13T04:13:04.753081Z"
    },
    "papermill": {
     "duration": 0.027488,
     "end_time": "2023-05-13T04:13:04.756674",
     "exception": false,
     "start_time": "2023-05-13T04:13:04.729186",
     "status": "completed"
    },
    "tags": []
   },
   "outputs": [
    {
     "data": {
      "text/plain": [
       "1"
      ]
     },
     "execution_count": 19,
     "metadata": {},
     "output_type": "execute_result"
    }
   ],
   "source": [
    "int(bool(78))"
   ]
  },
  {
   "cell_type": "code",
   "execution_count": 20,
   "id": "0875ff8d",
   "metadata": {
    "execution": {
     "iopub.execute_input": "2023-05-13T04:13:04.791567Z",
     "iopub.status.busy": "2023-05-13T04:13:04.790588Z",
     "iopub.status.idle": "2023-05-13T04:13:04.800716Z",
     "shell.execute_reply": "2023-05-13T04:13:04.799640Z"
    },
    "papermill": {
     "duration": 0.030526,
     "end_time": "2023-05-13T04:13:04.803310",
     "exception": false,
     "start_time": "2023-05-13T04:13:04.772784",
     "status": "completed"
    },
    "tags": []
   },
   "outputs": [
    {
     "data": {
      "application/javascript": [
       "parent.postMessage({\"jupyterEvent\": \"custom.exercise_interaction\", \"data\": {\"outcomeType\": 1, \"valueTowardsCompletion\": 0.2, \"interactionType\": 1, \"questionType\": 2, \"questionId\": \"6_OneTopping\", \"learnToolsVersion\": \"0.3.4\", \"failureMessage\": \"\", \"exceptionClass\": \"\", \"trace\": \"\"}}, \"*\")"
      ],
      "text/plain": [
       "<IPython.core.display.Javascript object>"
      ]
     },
     "metadata": {},
     "output_type": "display_data"
    },
    {
     "data": {
      "text/markdown": [
       "<span style=\"color:#33cc33\">Correct:</span> \n",
       "\n",
       "This condition would be pretty complicated to express using just `and`, `or` and `not`, but using boolean-to-integer conversion gives us this short solution:\n",
       "```python\n",
       "return (int(ketchup) + int(mustard) + int(onion)) == 1\n",
       "```\n",
       "\n",
       "Fun fact: we don't technically need to call `int` on the arguments. Just by doing addition with booleans, Python implicitly does the integer conversion. So we could also write...\n",
       "\n",
       "```python\n",
       "return (ketchup + mustard + onion) == 1\n",
       "```"
      ],
      "text/plain": [
       "Correct: \n",
       "\n",
       "This condition would be pretty complicated to express using just `and`, `or` and `not`, but using boolean-to-integer conversion gives us this short solution:\n",
       "```python\n",
       "return (int(ketchup) + int(mustard) + int(onion)) == 1\n",
       "```\n",
       "\n",
       "Fun fact: we don't technically need to call `int` on the arguments. Just by doing addition with booleans, Python implicitly does the integer conversion. So we could also write...\n",
       "\n",
       "```python\n",
       "return (ketchup + mustard + onion) == 1\n",
       "```"
      ]
     },
     "metadata": {},
     "output_type": "display_data"
    }
   ],
   "source": [
    "def exactly_one_topping(ketchup, mustard, onion):\n",
    "    \"\"\"Return whether the customer wants exactly one of the three available toppings\n",
    "    on their hot dog.\n",
    "    \"\"\"\n",
    "    return (ketchup +  mustard + onion)== True\n",
    "\n",
    "# Check your answer\n",
    "q6.check()"
   ]
  },
  {
   "cell_type": "code",
   "execution_count": 21,
   "id": "86196ccf",
   "metadata": {
    "execution": {
     "iopub.execute_input": "2023-05-13T04:13:04.838034Z",
     "iopub.status.busy": "2023-05-13T04:13:04.837625Z",
     "iopub.status.idle": "2023-05-13T04:13:04.842480Z",
     "shell.execute_reply": "2023-05-13T04:13:04.841341Z"
    },
    "papermill": {
     "duration": 0.024921,
     "end_time": "2023-05-13T04:13:04.844857",
     "exception": false,
     "start_time": "2023-05-13T04:13:04.819936",
     "status": "completed"
    },
    "tags": []
   },
   "outputs": [],
   "source": [
    "#q6.hint()\n",
    "#q6.solution()"
   ]
  },
  {
   "cell_type": "markdown",
   "id": "20e02ec0",
   "metadata": {
    "papermill": {
     "duration": 0.016285,
     "end_time": "2023-05-13T04:13:04.877541",
     "exception": false,
     "start_time": "2023-05-13T04:13:04.861256",
     "status": "completed"
    },
    "tags": []
   },
   "source": [
    "# 7. <span title=\"A bit spicy\" style=\"color: darkgreen \">🌶️</span> (Optional)\n",
    "\n",
    "In this problem we'll be working with a simplified version of [blackjack](https://en.wikipedia.org/wiki/Blackjack) (aka twenty-one). In this version there is one player (who you'll control) and a dealer. Play proceeds as follows:\n",
    "\n",
    "- The player is dealt two face-up cards. The dealer is dealt one face-up card.\n",
    "- The player may ask to be dealt another card ('hit') as many times as they wish. If the sum of their cards exceeds 21, they lose the round immediately.\n",
    "- The dealer then deals additional cards to himself until either:\n",
    "    - the sum of the dealer's cards exceeds 21, in which case the player wins the round\n",
    "    - the sum of the dealer's cards is greater than or equal to 17. If the player's total is greater than the dealer's, the player wins. Otherwise, the dealer wins (even in case of a tie).\n",
    "    \n",
    "When calculating the sum of cards, Jack, Queen, and King count for 10. Aces can count as 1 or 11 (when referring to a player's \"total\" above, we mean the largest total that can be made without exceeding 21. So e.g. A+8 = 19, A+8+8 = 17)\n",
    "\n",
    "For this problem, you'll write a function representing the player's decision-making strategy in this game. We've provided a very unintelligent implementation below:"
   ]
  },
  {
   "cell_type": "code",
   "execution_count": 22,
   "id": "82497c75",
   "metadata": {
    "execution": {
     "iopub.execute_input": "2023-05-13T04:13:04.911846Z",
     "iopub.status.busy": "2023-05-13T04:13:04.911424Z",
     "iopub.status.idle": "2023-05-13T04:13:04.916910Z",
     "shell.execute_reply": "2023-05-13T04:13:04.915798Z"
    },
    "papermill": {
     "duration": 0.025091,
     "end_time": "2023-05-13T04:13:04.919007",
     "exception": false,
     "start_time": "2023-05-13T04:13:04.893916",
     "status": "completed"
    },
    "tags": []
   },
   "outputs": [],
   "source": [
    "def should_hit(dealer_total, player_total, player_low_aces, player_high_aces):\n",
    "    \"\"\"Return True if the player should hit (request another card) given the current game\n",
    "    state, or False if the player should stay.\n",
    "    When calculating a hand's total value, we count aces as \"high\" (with value 11) if doing so\n",
    "    doesn't bring the total above 21, otherwise we count them as low (with value 1). \n",
    "    For example, if the player's hand is {A, A, A, 7}, we will count it as 11 + 1 + 1 + 7,\n",
    "    and therefore set player_total=20, player_low_aces=2, player_high_aces=1.\n",
    "    \"\"\"\n",
    "    return False"
   ]
  },
  {
   "cell_type": "markdown",
   "id": "4b4d42ba",
   "metadata": {
    "papermill": {
     "duration": 0.016439,
     "end_time": "2023-05-13T04:13:04.951822",
     "exception": false,
     "start_time": "2023-05-13T04:13:04.935383",
     "status": "completed"
    },
    "tags": []
   },
   "source": [
    "This very conservative agent *always* sticks with the hand of two cards that they're dealt.\n",
    "\n",
    "We'll be simulating games between your player agent and our own dealer agent by calling your function.\n",
    "\n",
    "Try running the function below to see an example of a simulated game:"
   ]
  },
  {
   "cell_type": "code",
   "execution_count": 23,
   "id": "ffddae6f",
   "metadata": {
    "execution": {
     "iopub.execute_input": "2023-05-13T04:13:04.986488Z",
     "iopub.status.busy": "2023-05-13T04:13:04.986070Z",
     "iopub.status.idle": "2023-05-13T04:13:04.991213Z",
     "shell.execute_reply": "2023-05-13T04:13:04.990105Z"
    },
    "papermill": {
     "duration": 0.02579,
     "end_time": "2023-05-13T04:13:04.994121",
     "exception": false,
     "start_time": "2023-05-13T04:13:04.968331",
     "status": "completed"
    },
    "tags": []
   },
   "outputs": [
    {
     "name": "stdout",
     "output_type": "stream",
     "text": [
      "Player starts with 3 and K (total = 13)\n",
      "Dealer starts with 3\n",
      "\n",
      "__Player's turn__\n",
      "Player stays\n",
      "\n",
      "__Dealer's turn__\n",
      "Dealer hits and receives K. (total = 13)\n",
      "Dealer hits and receives A. (total = 14)\n",
      "Dealer hits and receives J. (total = 24)\n",
      "Dealer busts! Player wins.\n"
     ]
    }
   ],
   "source": [
    "q7.simulate_one_game()"
   ]
  },
  {
   "cell_type": "markdown",
   "id": "b446c4e1",
   "metadata": {
    "papermill": {
     "duration": 0.016148,
     "end_time": "2023-05-13T04:13:05.026791",
     "exception": false,
     "start_time": "2023-05-13T04:13:05.010643",
     "status": "completed"
    },
    "tags": []
   },
   "source": [
    "The real test of your agent's mettle is their average win rate over many games. Try calling the function below to simulate 50000 games of blackjack (it may take a couple seconds):"
   ]
  },
  {
   "cell_type": "code",
   "execution_count": 24,
   "id": "700707c6",
   "metadata": {
    "execution": {
     "iopub.execute_input": "2023-05-13T04:13:05.061869Z",
     "iopub.status.busy": "2023-05-13T04:13:05.061515Z",
     "iopub.status.idle": "2023-05-13T04:13:07.187809Z",
     "shell.execute_reply": "2023-05-13T04:13:07.186475Z"
    },
    "papermill": {
     "duration": 2.146905,
     "end_time": "2023-05-13T04:13:07.190407",
     "exception": false,
     "start_time": "2023-05-13T04:13:05.043502",
     "status": "completed"
    },
    "tags": []
   },
   "outputs": [
    {
     "name": "stdout",
     "output_type": "stream",
     "text": [
      "Player won 19034 out of 50000 games (win rate = 38.1%)\n"
     ]
    }
   ],
   "source": [
    "q7.simulate(n_games=50000)"
   ]
  },
  {
   "cell_type": "markdown",
   "id": "cf5a5019",
   "metadata": {
    "papermill": {
     "duration": 0.016387,
     "end_time": "2023-05-13T04:13:07.223415",
     "exception": false,
     "start_time": "2023-05-13T04:13:07.207028",
     "status": "completed"
    },
    "tags": []
   },
   "source": [
    "Our dumb agent that completely ignores the game state still manages to win shockingly often!\n",
    "\n",
    "Try adding some more smarts to the `should_hit` function and see how it affects the results."
   ]
  },
  {
   "cell_type": "code",
   "execution_count": 25,
   "id": "ba871bb7",
   "metadata": {
    "execution": {
     "iopub.execute_input": "2023-05-13T04:13:07.258976Z",
     "iopub.status.busy": "2023-05-13T04:13:07.258594Z",
     "iopub.status.idle": "2023-05-13T04:13:09.416126Z",
     "shell.execute_reply": "2023-05-13T04:13:09.414799Z"
    },
    "papermill": {
     "duration": 2.178739,
     "end_time": "2023-05-13T04:13:09.418841",
     "exception": false,
     "start_time": "2023-05-13T04:13:07.240102",
     "status": "completed"
    },
    "tags": []
   },
   "outputs": [
    {
     "name": "stdout",
     "output_type": "stream",
     "text": [
      "Player won 18979 out of 50000 games (win rate = 38.0%)\n"
     ]
    }
   ],
   "source": [
    "def should_hit(dealer_total, player_total, player_low_aces, player_high_aces):\n",
    "    \"\"\"Return True if the player should hit (request another card) given the current game\n",
    "    state, or False if the player should stay.\n",
    "    When calculating a hand's total value, we count aces as \"high\" (with value 11) if doing so\n",
    "    doesn't bring the total above 21, otherwise we count them as low (with value 1). \n",
    "    For example, if the player's hand is {A, A, A, 7}, we will count it as 11 + 1 + 1 + 7,\n",
    "    and therefore set player_total=20, player_low_aces=2, player_high_aces=1.\n",
    "    \"\"\"\n",
    "    return False\n",
    "\n",
    "q7.simulate(n_games=50000)"
   ]
  },
  {
   "cell_type": "markdown",
   "id": "67e24cfa",
   "metadata": {
    "papermill": {
     "duration": 0.016553,
     "end_time": "2023-05-13T04:13:09.452856",
     "exception": false,
     "start_time": "2023-05-13T04:13:09.436303",
     "status": "completed"
    },
    "tags": []
   },
   "source": [
    "# Keep Going\n",
    "\n",
    "Learn about **[lists and tuples](https://www.kaggle.com/colinmorris/lists)** to handle multiple items of data in a systematic way."
   ]
  },
  {
   "cell_type": "markdown",
   "id": "8cba1ae8",
   "metadata": {
    "papermill": {
     "duration": 0.016641,
     "end_time": "2023-05-13T04:13:09.486188",
     "exception": false,
     "start_time": "2023-05-13T04:13:09.469547",
     "status": "completed"
    },
    "tags": []
   },
   "source": [
    "---\n",
    "\n",
    "\n",
    "\n",
    "\n",
    "*Have questions or comments? Visit the [course discussion forum](https://www.kaggle.com/learn/python/discussion) to chat with other learners.*"
   ]
  }
 ],
 "metadata": {
  "kernelspec": {
   "display_name": "Python 3",
   "language": "python",
   "name": "python3"
  },
  "language_info": {
   "codemirror_mode": {
    "name": "ipython",
    "version": 3
   },
   "file_extension": ".py",
   "mimetype": "text/x-python",
   "name": "python",
   "nbconvert_exporter": "python",
   "pygments_lexer": "ipython3",
   "version": "3.10.10"
  },
  "papermill": {
   "default_parameters": {},
   "duration": 19.388996,
   "end_time": "2023-05-13T04:13:10.324942",
   "environment_variables": {},
   "exception": null,
   "input_path": "__notebook__.ipynb",
   "output_path": "__notebook__.ipynb",
   "parameters": {},
   "start_time": "2023-05-13T04:12:50.935946",
   "version": "2.4.0"
  }
 },
 "nbformat": 4,
 "nbformat_minor": 5
}
