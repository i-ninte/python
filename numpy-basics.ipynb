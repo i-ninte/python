{
 "cells": [
  {
   "cell_type": "markdown",
   "metadata": {
    "papermill": {
     "duration": 0.056017,
     "end_time": "2023-05-23T13:01:28.970396",
     "exception": false,
     "start_time": "2023-05-23T13:01:28.914379",
     "status": "completed"
    },
    "tags": []
   },
   "source": [
    "**In This Notebook we will discuss NumPy Package , one of the most used python packages in data science and machine learning .**\n",
    "![](https://en.wikipedia.org/wiki/NumPy#/media/File:NumPy_logo_2020.svg)"
   ]
  },
  {
   "cell_type": "markdown",
   "metadata": {
    "papermill": {
     "duration": 0.054318,
     "end_time": "2023-05-23T13:01:29.079098",
     "exception": false,
     "start_time": "2023-05-23T13:01:29.024780",
     "status": "completed"
    },
    "tags": []
   },
   "source": [
    "# Numpy Package Basics\n",
    "\n",
    "## Table of Contents\n",
    "<ul>\n",
    "<li><a href=\"#intro\">NumPy Arrays </a></li>\n",
    "<li><a href=\"#intro2\">Some NumPy Array Attributes and Methods </a></li>\n",
    "<li><a href=\"#intro3\">Indexing and Selection </a></li>\n",
    "<li><a href=\"#intro4\">NumPy Operations </a></li>\n",
    "</ul>"
   ]
  },
  {
   "cell_type": "markdown",
   "metadata": {
    "papermill": {
     "duration": 0.054371,
     "end_time": "2023-05-23T13:01:29.187688",
     "exception": false,
     "start_time": "2023-05-23T13:01:29.133317",
     "status": "completed"
    },
    "tags": []
   },
   "source": [
    "first we import numpy package "
   ]
  },
  {
   "cell_type": "code",
   "execution_count": 1,
   "metadata": {
    "_cell_guid": "b1076dfc-b9ad-4769-8c92-a6c4dae69d19",
    "_uuid": "8f2839f25d086af736a60e9eeb907d3b93b6e0e5",
    "execution": {
     "iopub.execute_input": "2023-05-23T13:01:29.301474Z",
     "iopub.status.busy": "2023-05-23T13:01:29.300409Z",
     "iopub.status.idle": "2023-05-23T13:01:29.305400Z",
     "shell.execute_reply": "2023-05-23T13:01:29.305983Z"
    },
    "papermill": {
     "duration": 0.063466,
     "end_time": "2023-05-23T13:01:29.306190",
     "exception": false,
     "start_time": "2023-05-23T13:01:29.242724",
     "status": "completed"
    },
    "tags": []
   },
   "outputs": [],
   "source": [
    "import numpy as np "
   ]
  },
  {
   "cell_type": "markdown",
   "metadata": {
    "papermill": {
     "duration": 0.05465,
     "end_time": "2023-05-23T13:01:29.416143",
     "exception": false,
     "start_time": "2023-05-23T13:01:29.361493",
     "status": "completed"
    },
    "tags": []
   },
   "source": [
    "<a id=\"intro\"></a>\n",
    "# NumPy Arrays "
   ]
  },
  {
   "cell_type": "markdown",
   "metadata": {
    "papermill": {
     "duration": 0.054882,
     "end_time": "2023-05-23T13:01:29.525973",
     "exception": false,
     "start_time": "2023-05-23T13:01:29.471091",
     "status": "completed"
    },
    "tags": []
   },
   "source": [
    "first we will discuss transforming of lists to numpy arrays "
   ]
  },
  {
   "cell_type": "code",
   "execution_count": 2,
   "metadata": {
    "_cell_guid": "79c7e3d0-c299-4dcb-8224-4455121ee9b0",
    "_uuid": "d629ff2d2480ee46fbb7e2d37f6b5fab8052498a",
    "execution": {
     "iopub.execute_input": "2023-05-23T13:01:29.641718Z",
     "iopub.status.busy": "2023-05-23T13:01:29.640576Z",
     "iopub.status.idle": "2023-05-23T13:01:29.649704Z",
     "shell.execute_reply": "2023-05-23T13:01:29.650240Z"
    },
    "papermill": {
     "duration": 0.068839,
     "end_time": "2023-05-23T13:01:29.650464",
     "exception": false,
     "start_time": "2023-05-23T13:01:29.581625",
     "status": "completed"
    },
    "tags": []
   },
   "outputs": [
    {
     "data": {
      "text/plain": [
       "[1, 2, 3]"
      ]
     },
     "execution_count": 2,
     "metadata": {},
     "output_type": "execute_result"
    }
   ],
   "source": [
    "# Simple Example : we will create list then transform it to Numpy array \n",
    "example_list = [1,2,3]\n",
    "example_list"
   ]
  },
  {
   "cell_type": "markdown",
   "metadata": {
    "papermill": {
     "duration": 0.056115,
     "end_time": "2023-05-23T13:01:29.762366",
     "exception": false,
     "start_time": "2023-05-23T13:01:29.706251",
     "status": "completed"
    },
    "tags": []
   },
   "source": [
    "We can create a NumPy ndarray object by using the array() function"
   ]
  },
  {
   "cell_type": "code",
   "execution_count": 3,
   "metadata": {
    "execution": {
     "iopub.execute_input": "2023-05-23T13:01:29.881393Z",
     "iopub.status.busy": "2023-05-23T13:01:29.880536Z",
     "iopub.status.idle": "2023-05-23T13:01:29.884010Z",
     "shell.execute_reply": "2023-05-23T13:01:29.884486Z",
     "shell.execute_reply.started": "2023-05-23T12:53:11.390523Z"
    },
    "papermill": {
     "duration": 0.066497,
     "end_time": "2023-05-23T13:01:29.884657",
     "exception": false,
     "start_time": "2023-05-23T13:01:29.818160",
     "status": "completed"
    },
    "tags": []
   },
   "outputs": [
    {
     "data": {
      "text/plain": [
       "array([1, 2, 3])"
      ]
     },
     "execution_count": 3,
     "metadata": {},
     "output_type": "execute_result"
    }
   ],
   "source": [
    "import numpy as np\n",
    "example_list=[1,2,3]\n",
    "np.array(example_list)"
   ]
  },
  {
   "cell_type": "markdown",
   "metadata": {
    "papermill": {
     "duration": 0.055601,
     "end_time": "2023-05-23T13:01:29.995775",
     "exception": false,
     "start_time": "2023-05-23T13:01:29.940174",
     "status": "completed"
    },
    "tags": []
   },
   "source": [
    "we can try the same for multi dimensional data (nested lists) "
   ]
  },
  {
   "cell_type": "code",
   "execution_count": 4,
   "metadata": {
    "execution": {
     "iopub.execute_input": "2023-05-23T13:01:30.110416Z",
     "iopub.status.busy": "2023-05-23T13:01:30.109673Z",
     "iopub.status.idle": "2023-05-23T13:01:30.116966Z",
     "shell.execute_reply": "2023-05-23T13:01:30.116265Z",
     "shell.execute_reply.started": "2023-05-23T12:52:27.385710Z"
    },
    "papermill": {
     "duration": 0.065844,
     "end_time": "2023-05-23T13:01:30.117114",
     "exception": false,
     "start_time": "2023-05-23T13:01:30.051270",
     "status": "completed"
    },
    "tags": []
   },
   "outputs": [
    {
     "data": {
      "text/plain": [
       "[[1, 2, 3], [4, 5, 6]]"
      ]
     },
     "execution_count": 4,
     "metadata": {},
     "output_type": "execute_result"
    }
   ],
   "source": [
    "nested_list = [[1,2,3],[4,5,6]]\n",
    "nested_list"
   ]
  },
  {
   "cell_type": "code",
   "execution_count": 5,
   "metadata": {
    "execution": {
     "iopub.execute_input": "2023-05-23T13:01:30.235071Z",
     "iopub.status.busy": "2023-05-23T13:01:30.234075Z",
     "iopub.status.idle": "2023-05-23T13:01:30.239213Z",
     "shell.execute_reply": "2023-05-23T13:01:30.238527Z",
     "shell.execute_reply.started": "2023-05-23T12:53:34.152000Z"
    },
    "papermill": {
     "duration": 0.066429,
     "end_time": "2023-05-23T13:01:30.239356",
     "exception": false,
     "start_time": "2023-05-23T13:01:30.172927",
     "status": "completed"
    },
    "tags": []
   },
   "outputs": [
    {
     "data": {
      "text/plain": [
       "array([[1, 2, 3],\n",
       "       [4, 5, 6]])"
      ]
     },
     "execution_count": 5,
     "metadata": {},
     "output_type": "execute_result"
    }
   ],
   "source": [
    "np.array(nested_list)"
   ]
  },
  {
   "cell_type": "markdown",
   "metadata": {
    "papermill": {
     "duration": 0.055603,
     "end_time": "2023-05-23T13:01:30.351263",
     "exception": false,
     "start_time": "2023-05-23T13:01:30.295660",
     "status": "completed"
    },
    "tags": []
   },
   "source": [
    "There are many ways to generate arrays in Numpy , we will discuss some of them "
   ]
  },
  {
   "cell_type": "code",
   "execution_count": 6,
   "metadata": {
    "execution": {
     "iopub.execute_input": "2023-05-23T13:01:30.471473Z",
     "iopub.status.busy": "2023-05-23T13:01:30.470420Z",
     "iopub.status.idle": "2023-05-23T13:01:30.476462Z",
     "shell.execute_reply": "2023-05-23T13:01:30.475240Z",
     "shell.execute_reply.started": "2023-05-23T12:53:47.568097Z"
    },
    "papermill": {
     "duration": 0.068269,
     "end_time": "2023-05-23T13:01:30.476671",
     "exception": false,
     "start_time": "2023-05-23T13:01:30.408402",
     "status": "completed"
    },
    "tags": []
   },
   "outputs": [
    {
     "data": {
      "text/plain": [
       "array([1, 2, 3, 4, 5, 6, 7, 8, 9])"
      ]
     },
     "execution_count": 6,
     "metadata": {},
     "output_type": "execute_result"
    }
   ],
   "source": [
    "# Use arange function to generate NumPy array that contain integers within specific range \n",
    "np.arange(1,10)"
   ]
  },
  {
   "cell_type": "code",
   "execution_count": 7,
   "metadata": {
    "execution": {
     "iopub.execute_input": "2023-05-23T13:01:30.614228Z",
     "iopub.status.busy": "2023-05-23T13:01:30.613106Z",
     "iopub.status.idle": "2023-05-23T13:01:30.618600Z",
     "shell.execute_reply": "2023-05-23T13:01:30.617700Z",
     "shell.execute_reply.started": "2023-05-23T12:53:52.023160Z"
    },
    "papermill": {
     "duration": 0.073077,
     "end_time": "2023-05-23T13:01:30.618796",
     "exception": false,
     "start_time": "2023-05-23T13:01:30.545719",
     "status": "completed"
    },
    "tags": []
   },
   "outputs": [
    {
     "data": {
      "text/plain": [
       "array([0, 2, 4, 6, 8])"
      ]
     },
     "execution_count": 7,
     "metadata": {},
     "output_type": "execute_result"
    }
   ],
   "source": [
    "# Additional parameter to arange function (step Parameter)\n",
    "np.arange(0,10,2)"
   ]
  },
  {
   "cell_type": "code",
   "execution_count": 8,
   "metadata": {
    "execution": {
     "iopub.execute_input": "2023-05-23T13:01:30.749337Z",
     "iopub.status.busy": "2023-05-23T13:01:30.748556Z",
     "iopub.status.idle": "2023-05-23T13:01:30.753012Z",
     "shell.execute_reply": "2023-05-23T13:01:30.752409Z",
     "shell.execute_reply.started": "2023-05-23T12:53:59.135210Z"
    },
    "papermill": {
     "duration": 0.070281,
     "end_time": "2023-05-23T13:01:30.753142",
     "exception": false,
     "start_time": "2023-05-23T13:01:30.682861",
     "status": "completed"
    },
    "tags": []
   },
   "outputs": [
    {
     "data": {
      "text/plain": [
       "array([0., 0., 0.])"
      ]
     },
     "execution_count": 8,
     "metadata": {},
     "output_type": "execute_result"
    }
   ],
   "source": [
    "#generate vector of zeros \n",
    "np.zeros(3)"
   ]
  },
  {
   "cell_type": "code",
   "execution_count": 9,
   "metadata": {
    "execution": {
     "iopub.execute_input": "2023-05-23T13:01:30.886737Z",
     "iopub.status.busy": "2023-05-23T13:01:30.885673Z",
     "iopub.status.idle": "2023-05-23T13:01:30.889365Z",
     "shell.execute_reply": "2023-05-23T13:01:30.890134Z"
    },
    "papermill": {
     "duration": 0.078379,
     "end_time": "2023-05-23T13:01:30.890365",
     "exception": false,
     "start_time": "2023-05-23T13:01:30.811986",
     "status": "completed"
    },
    "tags": []
   },
   "outputs": [
    {
     "data": {
      "text/plain": [
       "array([[0., 0., 0., 0., 0.],\n",
       "       [0., 0., 0., 0., 0.],\n",
       "       [0., 0., 0., 0., 0.],\n",
       "       [0., 0., 0., 0., 0.]])"
      ]
     },
     "execution_count": 9,
     "metadata": {},
     "output_type": "execute_result"
    }
   ],
   "source": [
    "#generate 2D array of zeros \n",
    "np.zeros((4,5))"
   ]
  },
  {
   "cell_type": "code",
   "execution_count": 10,
   "metadata": {
    "execution": {
     "iopub.execute_input": "2023-05-23T13:01:31.020070Z",
     "iopub.status.busy": "2023-05-23T13:01:31.018856Z",
     "iopub.status.idle": "2023-05-23T13:01:31.023611Z",
     "shell.execute_reply": "2023-05-23T13:01:31.023066Z"
    },
    "papermill": {
     "duration": 0.068143,
     "end_time": "2023-05-23T13:01:31.023745",
     "exception": false,
     "start_time": "2023-05-23T13:01:30.955602",
     "status": "completed"
    },
    "tags": []
   },
   "outputs": [
    {
     "data": {
      "text/plain": [
       "array([1., 1., 1.])"
      ]
     },
     "execution_count": 10,
     "metadata": {},
     "output_type": "execute_result"
    }
   ],
   "source": [
    "#generate vector of ones \n",
    "np.ones(3)"
   ]
  },
  {
   "cell_type": "code",
   "execution_count": 11,
   "metadata": {
    "execution": {
     "iopub.execute_input": "2023-05-23T13:01:31.145109Z",
     "iopub.status.busy": "2023-05-23T13:01:31.144422Z",
     "iopub.status.idle": "2023-05-23T13:01:31.150553Z",
     "shell.execute_reply": "2023-05-23T13:01:31.151240Z"
    },
    "papermill": {
     "duration": 0.068092,
     "end_time": "2023-05-23T13:01:31.151459",
     "exception": false,
     "start_time": "2023-05-23T13:01:31.083367",
     "status": "completed"
    },
    "tags": []
   },
   "outputs": [
    {
     "data": {
      "text/plain": [
       "array([[1., 1., 1., 1., 1.],\n",
       "       [1., 1., 1., 1., 1.],\n",
       "       [1., 1., 1., 1., 1.],\n",
       "       [1., 1., 1., 1., 1.]])"
      ]
     },
     "execution_count": 11,
     "metadata": {},
     "output_type": "execute_result"
    }
   ],
   "source": [
    "#generate 2D array of ones\n",
    "np.ones((4,5))"
   ]
  },
  {
   "cell_type": "code",
   "execution_count": 12,
   "metadata": {
    "execution": {
     "iopub.execute_input": "2023-05-23T13:01:31.273725Z",
     "iopub.status.busy": "2023-05-23T13:01:31.273044Z",
     "iopub.status.idle": "2023-05-23T13:01:31.278785Z",
     "shell.execute_reply": "2023-05-23T13:01:31.279456Z"
    },
    "papermill": {
     "duration": 0.068677,
     "end_time": "2023-05-23T13:01:31.279618",
     "exception": false,
     "start_time": "2023-05-23T13:01:31.210941",
     "status": "completed"
    },
    "tags": []
   },
   "outputs": [
    {
     "data": {
      "text/plain": [
       "array([ 0.,  5., 10., 15.])"
      ]
     },
     "execution_count": 12,
     "metadata": {},
     "output_type": "execute_result"
    }
   ],
   "source": [
    "# using linspace to generate elements with equal distance between them\n",
    "\n",
    "np.linspace(0,15,4) # third parameter here is the number of elements you want "
   ]
  },
  {
   "cell_type": "code",
   "execution_count": 13,
   "metadata": {
    "execution": {
     "iopub.execute_input": "2023-05-23T13:01:31.401935Z",
     "iopub.status.busy": "2023-05-23T13:01:31.401276Z",
     "iopub.status.idle": "2023-05-23T13:01:31.406837Z",
     "shell.execute_reply": "2023-05-23T13:01:31.407511Z"
    },
    "papermill": {
     "duration": 0.0684,
     "end_time": "2023-05-23T13:01:31.407672",
     "exception": false,
     "start_time": "2023-05-23T13:01:31.339272",
     "status": "completed"
    },
    "tags": []
   },
   "outputs": [
    {
     "data": {
      "text/plain": [
       "array([0.        , 0.77777778, 1.55555556, 2.33333333, 3.11111111,\n",
       "       3.88888889, 4.66666667, 5.44444444, 6.22222222, 7.        ])"
      ]
     },
     "execution_count": 13,
     "metadata": {},
     "output_type": "execute_result"
    }
   ],
   "source": [
    "# linspace can generate float numbers \n",
    "np.linspace(0,7,10)"
   ]
  },
  {
   "cell_type": "code",
   "execution_count": 14,
   "metadata": {
    "execution": {
     "iopub.execute_input": "2023-05-23T13:01:31.531139Z",
     "iopub.status.busy": "2023-05-23T13:01:31.530422Z",
     "iopub.status.idle": "2023-05-23T13:01:31.536171Z",
     "shell.execute_reply": "2023-05-23T13:01:31.536833Z",
     "shell.execute_reply.started": "2023-05-23T12:54:12.543280Z"
    },
    "papermill": {
     "duration": 0.069359,
     "end_time": "2023-05-23T13:01:31.537014",
     "exception": false,
     "start_time": "2023-05-23T13:01:31.467655",
     "status": "completed"
    },
    "tags": []
   },
   "outputs": [
    {
     "data": {
      "text/plain": [
       "array([[1., 0., 0., 0., 0.],\n",
       "       [0., 1., 0., 0., 0.],\n",
       "       [0., 0., 1., 0., 0.],\n",
       "       [0., 0., 0., 1., 0.],\n",
       "       [0., 0., 0., 0., 1.]])"
      ]
     },
     "execution_count": 14,
     "metadata": {},
     "output_type": "execute_result"
    }
   ],
   "source": [
    "# generate 2D matrix with eye function ( generate a matrix with 1 on diagonal , 0 otherwise )\n",
    "#generate a 5 by 5 matrix \n",
    "np.eye(5)"
   ]
  },
  {
   "cell_type": "markdown",
   "metadata": {
    "papermill": {
     "duration": 0.059051,
     "end_time": "2023-05-23T13:01:31.656647",
     "exception": false,
     "start_time": "2023-05-23T13:01:31.597596",
     "status": "completed"
    },
    "tags": []
   },
   "source": [
    "Generate Random arrays "
   ]
  },
  {
   "cell_type": "code",
   "execution_count": 15,
   "metadata": {
    "execution": {
     "iopub.execute_input": "2023-05-23T13:01:31.780351Z",
     "iopub.status.busy": "2023-05-23T13:01:31.779544Z",
     "iopub.status.idle": "2023-05-23T13:01:31.785932Z",
     "shell.execute_reply": "2023-05-23T13:01:31.785345Z"
    },
    "papermill": {
     "duration": 0.069604,
     "end_time": "2023-05-23T13:01:31.786080",
     "exception": false,
     "start_time": "2023-05-23T13:01:31.716476",
     "status": "completed"
    },
    "tags": []
   },
   "outputs": [
    {
     "data": {
      "text/plain": [
       "array([0.06262018, 0.64255114, 0.60496887, 0.2181155 , 0.76101799])"
      ]
     },
     "execution_count": 15,
     "metadata": {},
     "output_type": "execute_result"
    }
   ],
   "source": [
    "# get array of random values from Uniform distribution \n",
    "np.random.rand(5)"
   ]
  },
  {
   "cell_type": "code",
   "execution_count": 16,
   "metadata": {
    "execution": {
     "iopub.execute_input": "2023-05-23T13:01:31.916114Z",
     "iopub.status.busy": "2023-05-23T13:01:31.915327Z",
     "iopub.status.idle": "2023-05-23T13:01:31.919619Z",
     "shell.execute_reply": "2023-05-23T13:01:31.920160Z",
     "shell.execute_reply.started": "2023-05-23T12:56:28.822203Z"
    },
    "papermill": {
     "duration": 0.07182,
     "end_time": "2023-05-23T13:01:31.920345",
     "exception": false,
     "start_time": "2023-05-23T13:01:31.848525",
     "status": "completed"
    },
    "tags": []
   },
   "outputs": [
    {
     "data": {
      "text/plain": [
       "array([[0.32306117, 0.34603372, 0.04888235],\n",
       "       [0.81312233, 0.2606272 , 0.08206052],\n",
       "       [0.33376556, 0.18183441, 0.67115702]])"
      ]
     },
     "execution_count": 16,
     "metadata": {},
     "output_type": "execute_result"
    }
   ],
   "source": [
    "# 2D array example \n",
    "np.random.rand(3,3)"
   ]
  },
  {
   "cell_type": "code",
   "execution_count": 17,
   "metadata": {
    "execution": {
     "iopub.execute_input": "2023-05-23T13:01:32.046712Z",
     "iopub.status.busy": "2023-05-23T13:01:32.045929Z",
     "iopub.status.idle": "2023-05-23T13:01:32.049775Z",
     "shell.execute_reply": "2023-05-23T13:01:32.050367Z",
     "shell.execute_reply.started": "2023-05-23T12:57:14.192446Z"
    },
    "papermill": {
     "duration": 0.070076,
     "end_time": "2023-05-23T13:01:32.050541",
     "exception": false,
     "start_time": "2023-05-23T13:01:31.980465",
     "status": "completed"
    },
    "tags": []
   },
   "outputs": [
    {
     "data": {
      "text/plain": [
       "array([-0.73444294,  1.35946113,  2.23592468,  1.71623001, -0.18015215])"
      ]
     },
     "execution_count": 17,
     "metadata": {},
     "output_type": "execute_result"
    }
   ],
   "source": [
    "# get array of random values from Standard Normal distribution \n",
    "np.random.randn(5)"
   ]
  },
  {
   "cell_type": "code",
   "execution_count": 18,
   "metadata": {
    "execution": {
     "iopub.execute_input": "2023-05-23T13:01:32.175943Z",
     "iopub.status.busy": "2023-05-23T13:01:32.175248Z",
     "iopub.status.idle": "2023-05-23T13:01:32.182464Z",
     "shell.execute_reply": "2023-05-23T13:01:32.181869Z",
     "shell.execute_reply.started": "2023-05-23T12:57:37.987726Z"
    },
    "papermill": {
     "duration": 0.070955,
     "end_time": "2023-05-23T13:01:32.182610",
     "exception": false,
     "start_time": "2023-05-23T13:01:32.111655",
     "status": "completed"
    },
    "tags": []
   },
   "outputs": [
    {
     "data": {
      "text/plain": [
       "array([[-1.53404325, -0.00516834,  0.26177576],\n",
       "       [-1.17857983, -0.37824239, -1.38567258],\n",
       "       [ 0.8378735 ,  0.17593042,  1.25499072]])"
      ]
     },
     "execution_count": 18,
     "metadata": {},
     "output_type": "execute_result"
    }
   ],
   "source": [
    "np.random.randn(3,3)"
   ]
  },
  {
   "cell_type": "code",
   "execution_count": 19,
   "metadata": {
    "execution": {
     "iopub.execute_input": "2023-05-23T13:01:32.311334Z",
     "iopub.status.busy": "2023-05-23T13:01:32.310560Z",
     "iopub.status.idle": "2023-05-23T13:01:32.314340Z",
     "shell.execute_reply": "2023-05-23T13:01:32.314932Z",
     "shell.execute_reply.started": "2023-05-23T12:57:47.217661Z"
    },
    "papermill": {
     "duration": 0.070617,
     "end_time": "2023-05-23T13:01:32.315128",
     "exception": false,
     "start_time": "2023-05-23T13:01:32.244511",
     "status": "completed"
    },
    "tags": []
   },
   "outputs": [
    {
     "data": {
      "text/plain": [
       "8"
      ]
     },
     "execution_count": 19,
     "metadata": {},
     "output_type": "execute_result"
    }
   ],
   "source": [
    "# generate random integer in specific range\n",
    "np.random.randint(1,10)"
   ]
  },
  {
   "cell_type": "code",
   "execution_count": 20,
   "metadata": {
    "execution": {
     "iopub.execute_input": "2023-05-23T13:01:32.442044Z",
     "iopub.status.busy": "2023-05-23T13:01:32.441311Z",
     "iopub.status.idle": "2023-05-23T13:01:32.447494Z",
     "shell.execute_reply": "2023-05-23T13:01:32.448005Z",
     "shell.execute_reply.started": "2023-05-23T12:57:55.201665Z"
    },
    "papermill": {
     "duration": 0.070983,
     "end_time": "2023-05-23T13:01:32.448193",
     "exception": false,
     "start_time": "2023-05-23T13:01:32.377210",
     "status": "completed"
    },
    "tags": []
   },
   "outputs": [
    {
     "data": {
      "text/plain": [
       "array([13,  5,  6,  7])"
      ]
     },
     "execution_count": 20,
     "metadata": {},
     "output_type": "execute_result"
    }
   ],
   "source": [
    "# generate array of random integers in specific range\n",
    "np.random.randint(1,15,4)"
   ]
  },
  {
   "cell_type": "code",
   "execution_count": 21,
   "metadata": {
    "execution": {
     "iopub.execute_input": "2023-05-23T13:01:32.603398Z",
     "iopub.status.busy": "2023-05-23T13:01:32.602585Z",
     "iopub.status.idle": "2023-05-23T13:01:32.611170Z",
     "shell.execute_reply": "2023-05-23T13:01:32.611967Z"
    },
    "papermill": {
     "duration": 0.08985,
     "end_time": "2023-05-23T13:01:32.612235",
     "exception": false,
     "start_time": "2023-05-23T13:01:32.522385",
     "status": "completed"
    },
    "tags": []
   },
   "outputs": [
    {
     "data": {
      "text/plain": [
       "array([[12, 14,  2,  8],\n",
       "       [12,  2, 14,  6],\n",
       "       [ 3,  8,  6, 13]])"
      ]
     },
     "execution_count": 21,
     "metadata": {},
     "output_type": "execute_result"
    }
   ],
   "source": [
    "# generate 2D array of random integers in specific range\n",
    "np.random.randint(1,20,(3,4))"
   ]
  },
  {
   "cell_type": "markdown",
   "metadata": {
    "papermill": {
     "duration": 0.068509,
     "end_time": "2023-05-23T13:01:32.756695",
     "exception": false,
     "start_time": "2023-05-23T13:01:32.688186",
     "status": "completed"
    },
    "tags": []
   },
   "source": [
    "problem of using random is that everytime you run the code you get different results , to solve this problem we will use \n",
    "seed function "
   ]
  },
  {
   "cell_type": "code",
   "execution_count": 22,
   "metadata": {
    "execution": {
     "iopub.execute_input": "2023-05-23T13:01:32.897388Z",
     "iopub.status.busy": "2023-05-23T13:01:32.896321Z",
     "iopub.status.idle": "2023-05-23T13:01:32.900716Z",
     "shell.execute_reply": "2023-05-23T13:01:32.901319Z",
     "shell.execute_reply.started": "2023-05-23T13:00:57.914199Z"
    },
    "papermill": {
     "duration": 0.078143,
     "end_time": "2023-05-23T13:01:32.901481",
     "exception": false,
     "start_time": "2023-05-23T13:01:32.823338",
     "status": "completed"
    },
    "tags": []
   },
   "outputs": [
    {
     "data": {
      "text/plain": [
       "array([0.37454012, 0.95071431, 0.73199394, 0.59865848, 0.15601864])"
      ]
     },
     "execution_count": 22,
     "metadata": {},
     "output_type": "execute_result"
    }
   ],
   "source": [
    "# Must give seed the same number everytime you run the code to ensure that your code is reproducible\n",
    "np.random.seed(42)\n",
    "# unlike the above cells , if you run this cells multiple times you'll get the same results \n",
    "np.random.rand(5)"
   ]
  },
  {
   "cell_type": "markdown",
   "metadata": {
    "papermill": {
     "duration": 0.07573,
     "end_time": "2023-05-23T13:01:33.043896",
     "exception": false,
     "start_time": "2023-05-23T13:01:32.968166",
     "status": "completed"
    },
    "tags": []
   },
   "source": [
    "<a id=\"intro2\"></a>\n",
    "# Some NumPy Array Attributes and Methods "
   ]
  },
  {
   "cell_type": "code",
   "execution_count": 23,
   "metadata": {
    "execution": {
     "iopub.execute_input": "2023-05-23T13:01:33.226704Z",
     "iopub.status.busy": "2023-05-23T13:01:33.225675Z",
     "iopub.status.idle": "2023-05-23T13:01:33.231815Z",
     "shell.execute_reply": "2023-05-23T13:01:33.232486Z"
    },
    "papermill": {
     "duration": 0.072443,
     "end_time": "2023-05-23T13:01:33.232649",
     "exception": false,
     "start_time": "2023-05-23T13:01:33.160206",
     "status": "completed"
    },
    "tags": []
   },
   "outputs": [
    {
     "data": {
      "text/plain": [
       "array([ 1,  2,  3,  4,  5,  6,  7,  8,  9, 10])"
      ]
     },
     "execution_count": 23,
     "metadata": {},
     "output_type": "execute_result"
    }
   ],
   "source": [
    "arr = np.arange(1,11)\n",
    "arr"
   ]
  },
  {
   "cell_type": "code",
   "execution_count": 24,
   "metadata": {
    "execution": {
     "iopub.execute_input": "2023-05-23T13:01:33.365832Z",
     "iopub.status.busy": "2023-05-23T13:01:33.364821Z",
     "iopub.status.idle": "2023-05-23T13:01:33.370539Z",
     "shell.execute_reply": "2023-05-23T13:01:33.371129Z"
    },
    "papermill": {
     "duration": 0.073086,
     "end_time": "2023-05-23T13:01:33.371298",
     "exception": false,
     "start_time": "2023-05-23T13:01:33.298212",
     "status": "completed"
    },
    "tags": []
   },
   "outputs": [
    {
     "data": {
      "text/plain": [
       "(10,)"
      ]
     },
     "execution_count": 24,
     "metadata": {},
     "output_type": "execute_result"
    }
   ],
   "source": [
    "# get the shape of array using shape attribute \n",
    "arr.shape"
   ]
  },
  {
   "cell_type": "code",
   "execution_count": 25,
   "metadata": {
    "execution": {
     "iopub.execute_input": "2023-05-23T13:01:33.503494Z",
     "iopub.status.busy": "2023-05-23T13:01:33.502491Z",
     "iopub.status.idle": "2023-05-23T13:01:33.508863Z",
     "shell.execute_reply": "2023-05-23T13:01:33.509459Z"
    },
    "papermill": {
     "duration": 0.074458,
     "end_time": "2023-05-23T13:01:33.509618",
     "exception": false,
     "start_time": "2023-05-23T13:01:33.435160",
     "status": "completed"
    },
    "tags": []
   },
   "outputs": [
    {
     "data": {
      "text/plain": [
       "array([[ 1,  2,  3,  4,  5],\n",
       "       [ 6,  7,  8,  9, 10]])"
      ]
     },
     "execution_count": 25,
     "metadata": {},
     "output_type": "execute_result"
    }
   ],
   "source": [
    "# you can reshape the array to any other shape that have the same number of elements \n",
    "# example : arr have 10 elements can be reshaped to arr of shape (2,5) and arr of shape (5,2)\n",
    "arr.reshape(2,5)"
   ]
  },
  {
   "cell_type": "code",
   "execution_count": 26,
   "metadata": {
    "execution": {
     "iopub.execute_input": "2023-05-23T13:01:33.647368Z",
     "iopub.status.busy": "2023-05-23T13:01:33.646226Z",
     "iopub.status.idle": "2023-05-23T13:01:33.648870Z",
     "shell.execute_reply": "2023-05-23T13:01:33.649376Z"
    },
    "papermill": {
     "duration": 0.071961,
     "end_time": "2023-05-23T13:01:33.649547",
     "exception": false,
     "start_time": "2023-05-23T13:01:33.577586",
     "status": "completed"
    },
    "tags": []
   },
   "outputs": [],
   "source": [
    "# if you want to reshape the array in its place you can reassign the above function to the variable arr \n",
    "arr = arr.reshape(2,5)"
   ]
  },
  {
   "cell_type": "code",
   "execution_count": 27,
   "metadata": {
    "execution": {
     "iopub.execute_input": "2023-05-23T13:01:33.782494Z",
     "iopub.status.busy": "2023-05-23T13:01:33.781409Z",
     "iopub.status.idle": "2023-05-23T13:01:33.787686Z",
     "shell.execute_reply": "2023-05-23T13:01:33.788183Z"
    },
    "papermill": {
     "duration": 0.075506,
     "end_time": "2023-05-23T13:01:33.788353",
     "exception": false,
     "start_time": "2023-05-23T13:01:33.712847",
     "status": "completed"
    },
    "tags": []
   },
   "outputs": [
    {
     "data": {
      "text/plain": [
       "array([[ 1,  2,  3,  4,  5],\n",
       "       [ 6,  7,  8,  9, 10]])"
      ]
     },
     "execution_count": 27,
     "metadata": {},
     "output_type": "execute_result"
    }
   ],
   "source": [
    "arr"
   ]
  },
  {
   "cell_type": "code",
   "execution_count": 28,
   "metadata": {
    "execution": {
     "iopub.execute_input": "2023-05-23T13:01:33.921026Z",
     "iopub.status.busy": "2023-05-23T13:01:33.919979Z",
     "iopub.status.idle": "2023-05-23T13:01:33.924398Z",
     "shell.execute_reply": "2023-05-23T13:01:33.924930Z"
    },
    "papermill": {
     "duration": 0.072337,
     "end_time": "2023-05-23T13:01:33.925112",
     "exception": false,
     "start_time": "2023-05-23T13:01:33.852775",
     "status": "completed"
    },
    "tags": []
   },
   "outputs": [],
   "source": [
    "random_arr = np.random.randint(0,30,10)"
   ]
  },
  {
   "cell_type": "code",
   "execution_count": 29,
   "metadata": {
    "execution": {
     "iopub.execute_input": "2023-05-23T13:01:34.060167Z",
     "iopub.status.busy": "2023-05-23T13:01:34.059100Z",
     "iopub.status.idle": "2023-05-23T13:01:34.065594Z",
     "shell.execute_reply": "2023-05-23T13:01:34.066224Z"
    },
    "papermill": {
     "duration": 0.076206,
     "end_time": "2023-05-23T13:01:34.066384",
     "exception": false,
     "start_time": "2023-05-23T13:01:33.990178",
     "status": "completed"
    },
    "tags": []
   },
   "outputs": [
    {
     "data": {
      "text/plain": [
       "array([18, 22, 10, 10, 23, 20,  3,  7, 23,  2])"
      ]
     },
     "execution_count": 29,
     "metadata": {},
     "output_type": "execute_result"
    }
   ],
   "source": [
    "random_arr"
   ]
  },
  {
   "cell_type": "code",
   "execution_count": 30,
   "metadata": {
    "execution": {
     "iopub.execute_input": "2023-05-23T13:01:34.200869Z",
     "iopub.status.busy": "2023-05-23T13:01:34.199801Z",
     "iopub.status.idle": "2023-05-23T13:01:34.207520Z",
     "shell.execute_reply": "2023-05-23T13:01:34.206780Z"
    },
    "papermill": {
     "duration": 0.076545,
     "end_time": "2023-05-23T13:01:34.207655",
     "exception": false,
     "start_time": "2023-05-23T13:01:34.131110",
     "status": "completed"
    },
    "tags": []
   },
   "outputs": [
    {
     "data": {
      "text/plain": [
       "23"
      ]
     },
     "execution_count": 30,
     "metadata": {},
     "output_type": "execute_result"
    }
   ],
   "source": [
    "# get maximum of array \n",
    "random_arr.max()"
   ]
  },
  {
   "cell_type": "code",
   "execution_count": 31,
   "metadata": {
    "execution": {
     "iopub.execute_input": "2023-05-23T13:01:34.345038Z",
     "iopub.status.busy": "2023-05-23T13:01:34.343996Z",
     "iopub.status.idle": "2023-05-23T13:01:34.348085Z",
     "shell.execute_reply": "2023-05-23T13:01:34.347537Z"
    },
    "papermill": {
     "duration": 0.074471,
     "end_time": "2023-05-23T13:01:34.348219",
     "exception": false,
     "start_time": "2023-05-23T13:01:34.273748",
     "status": "completed"
    },
    "tags": []
   },
   "outputs": [
    {
     "data": {
      "text/plain": [
       "4"
      ]
     },
     "execution_count": 31,
     "metadata": {},
     "output_type": "execute_result"
    }
   ],
   "source": [
    "# get index of the maximum value in array \n",
    "random_arr.argmax()"
   ]
  },
  {
   "cell_type": "code",
   "execution_count": 32,
   "metadata": {
    "execution": {
     "iopub.execute_input": "2023-05-23T13:01:34.485098Z",
     "iopub.status.busy": "2023-05-23T13:01:34.484258Z",
     "iopub.status.idle": "2023-05-23T13:01:34.488231Z",
     "shell.execute_reply": "2023-05-23T13:01:34.487523Z"
    },
    "papermill": {
     "duration": 0.074807,
     "end_time": "2023-05-23T13:01:34.488363",
     "exception": false,
     "start_time": "2023-05-23T13:01:34.413556",
     "status": "completed"
    },
    "tags": []
   },
   "outputs": [
    {
     "data": {
      "text/plain": [
       "2"
      ]
     },
     "execution_count": 32,
     "metadata": {},
     "output_type": "execute_result"
    }
   ],
   "source": [
    "# get minimum value in array \n",
    "random_arr.min()"
   ]
  },
  {
   "cell_type": "code",
   "execution_count": 33,
   "metadata": {
    "execution": {
     "iopub.execute_input": "2023-05-23T13:01:34.627592Z",
     "iopub.status.busy": "2023-05-23T13:01:34.626587Z",
     "iopub.status.idle": "2023-05-23T13:01:34.633526Z",
     "shell.execute_reply": "2023-05-23T13:01:34.634145Z"
    },
    "papermill": {
     "duration": 0.079908,
     "end_time": "2023-05-23T13:01:34.634308",
     "exception": false,
     "start_time": "2023-05-23T13:01:34.554400",
     "status": "completed"
    },
    "tags": []
   },
   "outputs": [
    {
     "data": {
      "text/plain": [
       "9"
      ]
     },
     "execution_count": 33,
     "metadata": {},
     "output_type": "execute_result"
    }
   ],
   "source": [
    "# get index of minimum value in array \n",
    "random_arr.argmin()"
   ]
  },
  {
   "cell_type": "code",
   "execution_count": 34,
   "metadata": {
    "execution": {
     "iopub.execute_input": "2023-05-23T13:01:34.771192Z",
     "iopub.status.busy": "2023-05-23T13:01:34.770161Z",
     "iopub.status.idle": "2023-05-23T13:01:34.776056Z",
     "shell.execute_reply": "2023-05-23T13:01:34.776644Z"
    },
    "papermill": {
     "duration": 0.075989,
     "end_time": "2023-05-23T13:01:34.776812",
     "exception": false,
     "start_time": "2023-05-23T13:01:34.700823",
     "status": "completed"
    },
    "tags": []
   },
   "outputs": [
    {
     "data": {
      "text/plain": [
       "dtype('int64')"
      ]
     },
     "execution_count": 34,
     "metadata": {},
     "output_type": "execute_result"
    }
   ],
   "source": [
    "# get the datatype of your array \n",
    "random_arr.dtype"
   ]
  },
  {
   "cell_type": "code",
   "execution_count": 35,
   "metadata": {
    "execution": {
     "iopub.execute_input": "2023-05-23T13:01:34.917438Z",
     "iopub.status.busy": "2023-05-23T13:01:34.916391Z",
     "iopub.status.idle": "2023-05-23T13:01:34.922420Z",
     "shell.execute_reply": "2023-05-23T13:01:34.923043Z"
    },
    "papermill": {
     "duration": 0.077806,
     "end_time": "2023-05-23T13:01:34.923221",
     "exception": false,
     "start_time": "2023-05-23T13:01:34.845415",
     "status": "completed"
    },
    "tags": []
   },
   "outputs": [
    {
     "data": {
      "text/plain": [
       "array([5, 5, 5])"
      ]
     },
     "execution_count": 35,
     "metadata": {},
     "output_type": "execute_result"
    }
   ],
   "source": [
    "# repeat given element (or elements) for fixed number of times \n",
    "np.repeat(5,3)"
   ]
  },
  {
   "cell_type": "markdown",
   "metadata": {
    "papermill": {
     "duration": 0.067814,
     "end_time": "2023-05-23T13:01:35.062018",
     "exception": false,
     "start_time": "2023-05-23T13:01:34.994204",
     "status": "completed"
    },
    "tags": []
   },
   "source": [
    "<a id=\"intro3\"></a>\n",
    "# Indexing and Selection "
   ]
  },
  {
   "cell_type": "code",
   "execution_count": 36,
   "metadata": {
    "execution": {
     "iopub.execute_input": "2023-05-23T13:01:35.200757Z",
     "iopub.status.busy": "2023-05-23T13:01:35.200057Z",
     "iopub.status.idle": "2023-05-23T13:01:35.204329Z",
     "shell.execute_reply": "2023-05-23T13:01:35.204930Z"
    },
    "papermill": {
     "duration": 0.075124,
     "end_time": "2023-05-23T13:01:35.205129",
     "exception": false,
     "start_time": "2023-05-23T13:01:35.130005",
     "status": "completed"
    },
    "tags": []
   },
   "outputs": [],
   "source": [
    "arr = np.arange(0,11)"
   ]
  },
  {
   "cell_type": "code",
   "execution_count": 37,
   "metadata": {
    "execution": {
     "iopub.execute_input": "2023-05-23T13:01:35.348693Z",
     "iopub.status.busy": "2023-05-23T13:01:35.347930Z",
     "iopub.status.idle": "2023-05-23T13:01:35.351930Z",
     "shell.execute_reply": "2023-05-23T13:01:35.352455Z"
    },
    "papermill": {
     "duration": 0.077283,
     "end_time": "2023-05-23T13:01:35.352633",
     "exception": false,
     "start_time": "2023-05-23T13:01:35.275350",
     "status": "completed"
    },
    "tags": []
   },
   "outputs": [
    {
     "data": {
      "text/plain": [
       "array([ 0,  1,  2,  3,  4,  5,  6,  7,  8,  9, 10])"
      ]
     },
     "execution_count": 37,
     "metadata": {},
     "output_type": "execute_result"
    }
   ],
   "source": [
    "arr"
   ]
  },
  {
   "cell_type": "code",
   "execution_count": 38,
   "metadata": {
    "execution": {
     "iopub.execute_input": "2023-05-23T13:01:35.494840Z",
     "iopub.status.busy": "2023-05-23T13:01:35.493727Z",
     "iopub.status.idle": "2023-05-23T13:01:35.497849Z",
     "shell.execute_reply": "2023-05-23T13:01:35.498428Z"
    },
    "papermill": {
     "duration": 0.077727,
     "end_time": "2023-05-23T13:01:35.498596",
     "exception": false,
     "start_time": "2023-05-23T13:01:35.420869",
     "status": "completed"
    },
    "tags": []
   },
   "outputs": [
    {
     "data": {
      "text/plain": [
       "3"
      ]
     },
     "execution_count": 38,
     "metadata": {},
     "output_type": "execute_result"
    }
   ],
   "source": [
    "# Select a single value \n",
    "arr[3]"
   ]
  },
  {
   "cell_type": "code",
   "execution_count": 39,
   "metadata": {
    "execution": {
     "iopub.execute_input": "2023-05-23T13:01:35.639580Z",
     "iopub.status.busy": "2023-05-23T13:01:35.638532Z",
     "iopub.status.idle": "2023-05-23T13:01:35.645406Z",
     "shell.execute_reply": "2023-05-23T13:01:35.644816Z"
    },
    "papermill": {
     "duration": 0.078476,
     "end_time": "2023-05-23T13:01:35.645542",
     "exception": false,
     "start_time": "2023-05-23T13:01:35.567066",
     "status": "completed"
    },
    "tags": []
   },
   "outputs": [
    {
     "data": {
      "text/plain": [
       "0"
      ]
     },
     "execution_count": 39,
     "metadata": {},
     "output_type": "execute_result"
    }
   ],
   "source": [
    "# Indexing start with 0 , so first element will be in arr[0]\n",
    "arr[0]"
   ]
  },
  {
   "cell_type": "code",
   "execution_count": 40,
   "metadata": {
    "execution": {
     "iopub.execute_input": "2023-05-23T13:01:35.790636Z",
     "iopub.status.busy": "2023-05-23T13:01:35.789776Z",
     "iopub.status.idle": "2023-05-23T13:01:35.793799Z",
     "shell.execute_reply": "2023-05-23T13:01:35.794421Z"
    },
    "papermill": {
     "duration": 0.080424,
     "end_time": "2023-05-23T13:01:35.794587",
     "exception": false,
     "start_time": "2023-05-23T13:01:35.714163",
     "status": "completed"
    },
    "tags": []
   },
   "outputs": [
    {
     "data": {
      "text/plain": [
       "array([1, 2, 3])"
      ]
     },
     "execution_count": 40,
     "metadata": {},
     "output_type": "execute_result"
    }
   ],
   "source": [
    "# Select multiple values from array \n",
    "arr[1:4]"
   ]
  },
  {
   "cell_type": "code",
   "execution_count": 41,
   "metadata": {
    "execution": {
     "iopub.execute_input": "2023-05-23T13:01:35.938337Z",
     "iopub.status.busy": "2023-05-23T13:01:35.937307Z",
     "iopub.status.idle": "2023-05-23T13:01:35.943440Z",
     "shell.execute_reply": "2023-05-23T13:01:35.944051Z"
    },
    "papermill": {
     "duration": 0.078991,
     "end_time": "2023-05-23T13:01:35.944221",
     "exception": false,
     "start_time": "2023-05-23T13:01:35.865230",
     "status": "completed"
    },
    "tags": []
   },
   "outputs": [
    {
     "data": {
      "text/plain": [
       "array([0, 1, 2, 3, 4, 5])"
      ]
     },
     "execution_count": 41,
     "metadata": {},
     "output_type": "execute_result"
    }
   ],
   "source": [
    "# Select from beginning of array to specific index \n",
    "arr[:6]"
   ]
  },
  {
   "cell_type": "code",
   "execution_count": 42,
   "metadata": {
    "execution": {
     "iopub.execute_input": "2023-05-23T13:01:36.089225Z",
     "iopub.status.busy": "2023-05-23T13:01:36.087799Z",
     "iopub.status.idle": "2023-05-23T13:01:36.094132Z",
     "shell.execute_reply": "2023-05-23T13:01:36.094724Z"
    },
    "papermill": {
     "duration": 0.080582,
     "end_time": "2023-05-23T13:01:36.094896",
     "exception": false,
     "start_time": "2023-05-23T13:01:36.014314",
     "status": "completed"
    },
    "tags": []
   },
   "outputs": [
    {
     "data": {
      "text/plain": [
       "array([ 5,  6,  7,  8,  9, 10])"
      ]
     },
     "execution_count": 42,
     "metadata": {},
     "output_type": "execute_result"
    }
   ],
   "source": [
    "# Select from specific index to the last element of array \n",
    "arr[5:]"
   ]
  },
  {
   "cell_type": "code",
   "execution_count": 43,
   "metadata": {
    "execution": {
     "iopub.execute_input": "2023-05-23T13:01:36.239297Z",
     "iopub.status.busy": "2023-05-23T13:01:36.238254Z",
     "iopub.status.idle": "2023-05-23T13:01:36.242550Z",
     "shell.execute_reply": "2023-05-23T13:01:36.243162Z"
    },
    "papermill": {
     "duration": 0.078238,
     "end_time": "2023-05-23T13:01:36.243328",
     "exception": false,
     "start_time": "2023-05-23T13:01:36.165090",
     "status": "completed"
    },
    "tags": []
   },
   "outputs": [],
   "source": [
    "# Assign single value \n",
    "arr[2] = -1 "
   ]
  },
  {
   "cell_type": "code",
   "execution_count": 44,
   "metadata": {
    "execution": {
     "iopub.execute_input": "2023-05-23T13:01:36.389465Z",
     "iopub.status.busy": "2023-05-23T13:01:36.388458Z",
     "iopub.status.idle": "2023-05-23T13:01:36.394639Z",
     "shell.execute_reply": "2023-05-23T13:01:36.395207Z"
    },
    "papermill": {
     "duration": 0.079944,
     "end_time": "2023-05-23T13:01:36.395371",
     "exception": false,
     "start_time": "2023-05-23T13:01:36.315427",
     "status": "completed"
    },
    "tags": []
   },
   "outputs": [
    {
     "data": {
      "text/plain": [
       "array([ 0,  1, -1,  3,  4,  5,  6,  7,  8,  9, 10])"
      ]
     },
     "execution_count": 44,
     "metadata": {},
     "output_type": "execute_result"
    }
   ],
   "source": [
    "arr"
   ]
  },
  {
   "cell_type": "code",
   "execution_count": 45,
   "metadata": {
    "execution": {
     "iopub.execute_input": "2023-05-23T13:01:36.542363Z",
     "iopub.status.busy": "2023-05-23T13:01:36.541452Z",
     "iopub.status.idle": "2023-05-23T13:01:36.544532Z",
     "shell.execute_reply": "2023-05-23T13:01:36.543895Z"
    },
    "papermill": {
     "duration": 0.079078,
     "end_time": "2023-05-23T13:01:36.544658",
     "exception": false,
     "start_time": "2023-05-23T13:01:36.465580",
     "status": "completed"
    },
    "tags": []
   },
   "outputs": [],
   "source": [
    "# Assign value to multiple array indexes\n",
    "arr[2:5] = 100 "
   ]
  },
  {
   "cell_type": "code",
   "execution_count": 46,
   "metadata": {
    "execution": {
     "iopub.execute_input": "2023-05-23T13:01:36.694727Z",
     "iopub.status.busy": "2023-05-23T13:01:36.693634Z",
     "iopub.status.idle": "2023-05-23T13:01:36.697763Z",
     "shell.execute_reply": "2023-05-23T13:01:36.697092Z"
    },
    "papermill": {
     "duration": 0.080193,
     "end_time": "2023-05-23T13:01:36.697894",
     "exception": false,
     "start_time": "2023-05-23T13:01:36.617701",
     "status": "completed"
    },
    "tags": []
   },
   "outputs": [
    {
     "data": {
      "text/plain": [
       "array([  0,   1, 100, 100, 100,   5,   6,   7,   8,   9,  10])"
      ]
     },
     "execution_count": 46,
     "metadata": {},
     "output_type": "execute_result"
    }
   ],
   "source": [
    "arr"
   ]
  },
  {
   "cell_type": "code",
   "execution_count": 47,
   "metadata": {
    "execution": {
     "iopub.execute_input": "2023-05-23T13:01:36.847811Z",
     "iopub.status.busy": "2023-05-23T13:01:36.846831Z",
     "iopub.status.idle": "2023-05-23T13:01:36.849276Z",
     "shell.execute_reply": "2023-05-23T13:01:36.849817Z"
    },
    "papermill": {
     "duration": 0.080467,
     "end_time": "2023-05-23T13:01:36.850005",
     "exception": false,
     "start_time": "2023-05-23T13:01:36.769538",
     "status": "completed"
    },
    "tags": []
   },
   "outputs": [],
   "source": [
    "# let's try slicing \n",
    "slice_arr = arr[1:5]"
   ]
  },
  {
   "cell_type": "code",
   "execution_count": 48,
   "metadata": {
    "execution": {
     "iopub.execute_input": "2023-05-23T13:01:36.998991Z",
     "iopub.status.busy": "2023-05-23T13:01:36.997926Z",
     "iopub.status.idle": "2023-05-23T13:01:37.003904Z",
     "shell.execute_reply": "2023-05-23T13:01:37.004483Z"
    },
    "papermill": {
     "duration": 0.081289,
     "end_time": "2023-05-23T13:01:37.004651",
     "exception": false,
     "start_time": "2023-05-23T13:01:36.923362",
     "status": "completed"
    },
    "tags": []
   },
   "outputs": [
    {
     "data": {
      "text/plain": [
       "array([  1, 100, 100, 100])"
      ]
     },
     "execution_count": 48,
     "metadata": {},
     "output_type": "execute_result"
    }
   ],
   "source": [
    "slice_arr"
   ]
  },
  {
   "cell_type": "code",
   "execution_count": 49,
   "metadata": {
    "execution": {
     "iopub.execute_input": "2023-05-23T13:01:37.152896Z",
     "iopub.status.busy": "2023-05-23T13:01:37.151760Z",
     "iopub.status.idle": "2023-05-23T13:01:37.156142Z",
     "shell.execute_reply": "2023-05-23T13:01:37.156695Z"
    },
    "papermill": {
     "duration": 0.080444,
     "end_time": "2023-05-23T13:01:37.156855",
     "exception": false,
     "start_time": "2023-05-23T13:01:37.076411",
     "status": "completed"
    },
    "tags": []
   },
   "outputs": [],
   "source": [
    "# Assign values to all elements of numpy array \n",
    "slice_arr[:] = 10"
   ]
  },
  {
   "cell_type": "code",
   "execution_count": 50,
   "metadata": {
    "execution": {
     "iopub.execute_input": "2023-05-23T13:01:37.305518Z",
     "iopub.status.busy": "2023-05-23T13:01:37.304492Z",
     "iopub.status.idle": "2023-05-23T13:01:37.310735Z",
     "shell.execute_reply": "2023-05-23T13:01:37.311297Z"
    },
    "papermill": {
     "duration": 0.082903,
     "end_time": "2023-05-23T13:01:37.311466",
     "exception": false,
     "start_time": "2023-05-23T13:01:37.228563",
     "status": "completed"
    },
    "tags": []
   },
   "outputs": [
    {
     "data": {
      "text/plain": [
       "array([10, 10, 10, 10])"
      ]
     },
     "execution_count": 50,
     "metadata": {},
     "output_type": "execute_result"
    }
   ],
   "source": [
    "slice_arr"
   ]
  },
  {
   "cell_type": "markdown",
   "metadata": {
    "papermill": {
     "duration": 0.071796,
     "end_time": "2023-05-23T13:01:37.455340",
     "exception": false,
     "start_time": "2023-05-23T13:01:37.383544",
     "status": "completed"
    },
    "tags": []
   },
   "source": [
    "you will notice that the update in slice_arr affects the values in arr because both of them point to the same array"
   ]
  },
  {
   "cell_type": "code",
   "execution_count": 51,
   "metadata": {
    "execution": {
     "iopub.execute_input": "2023-05-23T13:01:37.604027Z",
     "iopub.status.busy": "2023-05-23T13:01:37.602936Z",
     "iopub.status.idle": "2023-05-23T13:01:37.608873Z",
     "shell.execute_reply": "2023-05-23T13:01:37.609481Z"
    },
    "papermill": {
     "duration": 0.082075,
     "end_time": "2023-05-23T13:01:37.609646",
     "exception": false,
     "start_time": "2023-05-23T13:01:37.527571",
     "status": "completed"
    },
    "tags": []
   },
   "outputs": [
    {
     "data": {
      "text/plain": [
       "array([ 0, 10, 10, 10, 10,  5,  6,  7,  8,  9, 10])"
      ]
     },
     "execution_count": 51,
     "metadata": {},
     "output_type": "execute_result"
    }
   ],
   "source": [
    "arr"
   ]
  },
  {
   "cell_type": "markdown",
   "metadata": {
    "papermill": {
     "duration": 0.072067,
     "end_time": "2023-05-23T13:01:37.754109",
     "exception": false,
     "start_time": "2023-05-23T13:01:37.682042",
     "status": "completed"
    },
    "tags": []
   },
   "source": [
    "To overcome this problem you can get a copy of arr in slice_arr and then update the values "
   ]
  },
  {
   "cell_type": "code",
   "execution_count": 52,
   "metadata": {
    "execution": {
     "iopub.execute_input": "2023-05-23T13:01:37.905571Z",
     "iopub.status.busy": "2023-05-23T13:01:37.904755Z",
     "iopub.status.idle": "2023-05-23T13:01:37.908181Z",
     "shell.execute_reply": "2023-05-23T13:01:37.907606Z"
    },
    "papermill": {
     "duration": 0.081193,
     "end_time": "2023-05-23T13:01:37.908319",
     "exception": false,
     "start_time": "2023-05-23T13:01:37.827126",
     "status": "completed"
    },
    "tags": []
   },
   "outputs": [],
   "source": [
    "slice_arr = arr[1:5].copy()"
   ]
  },
  {
   "cell_type": "code",
   "execution_count": 53,
   "metadata": {
    "execution": {
     "iopub.execute_input": "2023-05-23T13:01:38.062275Z",
     "iopub.status.busy": "2023-05-23T13:01:38.061382Z",
     "iopub.status.idle": "2023-05-23T13:01:38.064598Z",
     "shell.execute_reply": "2023-05-23T13:01:38.064028Z"
    },
    "papermill": {
     "duration": 0.082533,
     "end_time": "2023-05-23T13:01:38.064725",
     "exception": false,
     "start_time": "2023-05-23T13:01:37.982192",
     "status": "completed"
    },
    "tags": []
   },
   "outputs": [],
   "source": [
    "slice_arr[:] = -1 "
   ]
  },
  {
   "cell_type": "code",
   "execution_count": 54,
   "metadata": {
    "execution": {
     "iopub.execute_input": "2023-05-23T13:01:38.218255Z",
     "iopub.status.busy": "2023-05-23T13:01:38.217197Z",
     "iopub.status.idle": "2023-05-23T13:01:38.221249Z",
     "shell.execute_reply": "2023-05-23T13:01:38.220636Z"
    },
    "papermill": {
     "duration": 0.081868,
     "end_time": "2023-05-23T13:01:38.221383",
     "exception": false,
     "start_time": "2023-05-23T13:01:38.139515",
     "status": "completed"
    },
    "tags": []
   },
   "outputs": [
    {
     "data": {
      "text/plain": [
       "array([-1, -1, -1, -1])"
      ]
     },
     "execution_count": 54,
     "metadata": {},
     "output_type": "execute_result"
    }
   ],
   "source": [
    "slice_arr"
   ]
  },
  {
   "cell_type": "code",
   "execution_count": 55,
   "metadata": {
    "execution": {
     "iopub.execute_input": "2023-05-23T13:01:38.372004Z",
     "iopub.status.busy": "2023-05-23T13:01:38.370963Z",
     "iopub.status.idle": "2023-05-23T13:01:38.377306Z",
     "shell.execute_reply": "2023-05-23T13:01:38.377890Z"
    },
    "papermill": {
     "duration": 0.08332,
     "end_time": "2023-05-23T13:01:38.378073",
     "exception": false,
     "start_time": "2023-05-23T13:01:38.294753",
     "status": "completed"
    },
    "tags": []
   },
   "outputs": [
    {
     "data": {
      "text/plain": [
       "array([ 0, 10, 10, 10, 10,  5,  6,  7,  8,  9, 10])"
      ]
     },
     "execution_count": 55,
     "metadata": {},
     "output_type": "execute_result"
    }
   ],
   "source": [
    "arr"
   ]
  },
  {
   "cell_type": "markdown",
   "metadata": {
    "papermill": {
     "duration": 0.073231,
     "end_time": "2023-05-23T13:01:38.524293",
     "exception": false,
     "start_time": "2023-05-23T13:01:38.451062",
     "status": "completed"
    },
    "tags": []
   },
   "source": [
    "you can notice that this time arr didn't get the update we do in slice_arr"
   ]
  },
  {
   "cell_type": "code",
   "execution_count": 56,
   "metadata": {
    "execution": {
     "iopub.execute_input": "2023-05-23T13:01:38.675533Z",
     "iopub.status.busy": "2023-05-23T13:01:38.674488Z",
     "iopub.status.idle": "2023-05-23T13:01:38.679304Z",
     "shell.execute_reply": "2023-05-23T13:01:38.679880Z"
    },
    "papermill": {
     "duration": 0.082414,
     "end_time": "2023-05-23T13:01:38.680058",
     "exception": false,
     "start_time": "2023-05-23T13:01:38.597644",
     "status": "completed"
    },
    "tags": []
   },
   "outputs": [],
   "source": [
    "# 2D array example\n",
    "arr_2d = np.array([[1,2,3],[4,5,6],[7,8,9]])"
   ]
  },
  {
   "cell_type": "code",
   "execution_count": 57,
   "metadata": {
    "execution": {
     "iopub.execute_input": "2023-05-23T13:01:38.831614Z",
     "iopub.status.busy": "2023-05-23T13:01:38.830574Z",
     "iopub.status.idle": "2023-05-23T13:01:38.836593Z",
     "shell.execute_reply": "2023-05-23T13:01:38.837205Z"
    },
    "papermill": {
     "duration": 0.083509,
     "end_time": "2023-05-23T13:01:38.837370",
     "exception": false,
     "start_time": "2023-05-23T13:01:38.753861",
     "status": "completed"
    },
    "tags": []
   },
   "outputs": [
    {
     "data": {
      "text/plain": [
       "array([[1, 2, 3],\n",
       "       [4, 5, 6],\n",
       "       [7, 8, 9]])"
      ]
     },
     "execution_count": 57,
     "metadata": {},
     "output_type": "execute_result"
    }
   ],
   "source": [
    "arr_2d"
   ]
  },
  {
   "cell_type": "code",
   "execution_count": 58,
   "metadata": {
    "execution": {
     "iopub.execute_input": "2023-05-23T13:01:38.989738Z",
     "iopub.status.busy": "2023-05-23T13:01:38.988707Z",
     "iopub.status.idle": "2023-05-23T13:01:38.995375Z",
     "shell.execute_reply": "2023-05-23T13:01:38.994679Z"
    },
    "papermill": {
     "duration": 0.084054,
     "end_time": "2023-05-23T13:01:38.995503",
     "exception": false,
     "start_time": "2023-05-23T13:01:38.911449",
     "status": "completed"
    },
    "tags": []
   },
   "outputs": [
    {
     "data": {
      "text/plain": [
       "(3, 3)"
      ]
     },
     "execution_count": 58,
     "metadata": {},
     "output_type": "execute_result"
    }
   ],
   "source": [
    "arr_2d.shape"
   ]
  },
  {
   "cell_type": "code",
   "execution_count": 59,
   "metadata": {
    "execution": {
     "iopub.execute_input": "2023-05-23T13:01:39.149086Z",
     "iopub.status.busy": "2023-05-23T13:01:39.148354Z",
     "iopub.status.idle": "2023-05-23T13:01:39.153269Z",
     "shell.execute_reply": "2023-05-23T13:01:39.153761Z"
    },
    "papermill": {
     "duration": 0.083284,
     "end_time": "2023-05-23T13:01:39.153935",
     "exception": false,
     "start_time": "2023-05-23T13:01:39.070651",
     "status": "completed"
    },
    "tags": []
   },
   "outputs": [
    {
     "data": {
      "text/plain": [
       "array([7, 8, 9])"
      ]
     },
     "execution_count": 59,
     "metadata": {},
     "output_type": "execute_result"
    }
   ],
   "source": [
    "# get the third row in arr_2d\n",
    "\n",
    "arr_2d[2]"
   ]
  },
  {
   "cell_type": "code",
   "execution_count": 60,
   "metadata": {
    "execution": {
     "iopub.execute_input": "2023-05-23T13:01:39.309973Z",
     "iopub.status.busy": "2023-05-23T13:01:39.309209Z",
     "iopub.status.idle": "2023-05-23T13:01:39.315527Z",
     "shell.execute_reply": "2023-05-23T13:01:39.314900Z"
    },
    "papermill": {
     "duration": 0.086137,
     "end_time": "2023-05-23T13:01:39.315661",
     "exception": false,
     "start_time": "2023-05-23T13:01:39.229524",
     "status": "completed"
    },
    "tags": []
   },
   "outputs": [
    {
     "data": {
      "text/plain": [
       "5"
      ]
     },
     "execution_count": 60,
     "metadata": {},
     "output_type": "execute_result"
    }
   ],
   "source": [
    "# to access single value in 2d array you should give 2 indexes , 1 for row and 1 for column \n",
    "\n",
    "arr_2d[1][1]"
   ]
  },
  {
   "cell_type": "code",
   "execution_count": 61,
   "metadata": {
    "execution": {
     "iopub.execute_input": "2023-05-23T13:01:39.473205Z",
     "iopub.status.busy": "2023-05-23T13:01:39.472515Z",
     "iopub.status.idle": "2023-05-23T13:01:39.477057Z",
     "shell.execute_reply": "2023-05-23T13:01:39.477616Z"
    },
    "papermill": {
     "duration": 0.083973,
     "end_time": "2023-05-23T13:01:39.477770",
     "exception": false,
     "start_time": "2023-05-23T13:01:39.393797",
     "status": "completed"
    },
    "tags": []
   },
   "outputs": [
    {
     "data": {
      "text/plain": [
       "5"
      ]
     },
     "execution_count": 61,
     "metadata": {},
     "output_type": "execute_result"
    }
   ],
   "source": [
    "# another way to get single value \n",
    "\n",
    "arr_2d[1,1]"
   ]
  },
  {
   "cell_type": "code",
   "execution_count": 62,
   "metadata": {
    "execution": {
     "iopub.execute_input": "2023-05-23T13:01:39.632712Z",
     "iopub.status.busy": "2023-05-23T13:01:39.632054Z",
     "iopub.status.idle": "2023-05-23T13:01:39.638388Z",
     "shell.execute_reply": "2023-05-23T13:01:39.637699Z"
    },
    "papermill": {
     "duration": 0.084715,
     "end_time": "2023-05-23T13:01:39.638518",
     "exception": false,
     "start_time": "2023-05-23T13:01:39.553803",
     "status": "completed"
    },
    "tags": []
   },
   "outputs": [
    {
     "data": {
      "text/plain": [
       "array([[1, 2, 3],\n",
       "       [4, 5, 6]])"
      ]
     },
     "execution_count": 62,
     "metadata": {},
     "output_type": "execute_result"
    }
   ],
   "source": [
    "# get more than 1 row \n",
    "\n",
    "arr_2d[:2]"
   ]
  },
  {
   "cell_type": "code",
   "execution_count": 63,
   "metadata": {
    "execution": {
     "iopub.execute_input": "2023-05-23T13:01:39.795970Z",
     "iopub.status.busy": "2023-05-23T13:01:39.795292Z",
     "iopub.status.idle": "2023-05-23T13:01:39.801152Z",
     "shell.execute_reply": "2023-05-23T13:01:39.801675Z"
    },
    "papermill": {
     "duration": 0.086557,
     "end_time": "2023-05-23T13:01:39.801833",
     "exception": false,
     "start_time": "2023-05-23T13:01:39.715276",
     "status": "completed"
    },
    "tags": []
   },
   "outputs": [
    {
     "data": {
      "text/plain": [
       "array([2, 5])"
      ]
     },
     "execution_count": 63,
     "metadata": {},
     "output_type": "execute_result"
    }
   ],
   "source": [
    "# get more than 1 row with specific columns included \n",
    "\n",
    "arr_2d[:2,1]"
   ]
  },
  {
   "cell_type": "markdown",
   "metadata": {
    "papermill": {
     "duration": 0.076507,
     "end_time": "2023-05-23T13:01:39.955779",
     "exception": false,
     "start_time": "2023-05-23T13:01:39.879272",
     "status": "completed"
    },
    "tags": []
   },
   "source": [
    "Conditional Selection : select values with specific conditions "
   ]
  },
  {
   "cell_type": "code",
   "execution_count": 64,
   "metadata": {
    "execution": {
     "iopub.execute_input": "2023-05-23T13:01:40.112477Z",
     "iopub.status.busy": "2023-05-23T13:01:40.111780Z",
     "iopub.status.idle": "2023-05-23T13:01:40.115800Z",
     "shell.execute_reply": "2023-05-23T13:01:40.116382Z"
    },
    "papermill": {
     "duration": 0.084142,
     "end_time": "2023-05-23T13:01:40.116543",
     "exception": false,
     "start_time": "2023-05-23T13:01:40.032401",
     "status": "completed"
    },
    "tags": []
   },
   "outputs": [],
   "source": [
    "arr = np.arange(1,15)"
   ]
  },
  {
   "cell_type": "code",
   "execution_count": 65,
   "metadata": {
    "execution": {
     "iopub.execute_input": "2023-05-23T13:01:40.273301Z",
     "iopub.status.busy": "2023-05-23T13:01:40.272575Z",
     "iopub.status.idle": "2023-05-23T13:01:40.277762Z",
     "shell.execute_reply": "2023-05-23T13:01:40.278384Z"
    },
    "papermill": {
     "duration": 0.085529,
     "end_time": "2023-05-23T13:01:40.278543",
     "exception": false,
     "start_time": "2023-05-23T13:01:40.193014",
     "status": "completed"
    },
    "tags": []
   },
   "outputs": [
    {
     "data": {
      "text/plain": [
       "array([ 1,  2,  3,  4,  5,  6,  7,  8,  9, 10, 11, 12, 13, 14])"
      ]
     },
     "execution_count": 65,
     "metadata": {},
     "output_type": "execute_result"
    }
   ],
   "source": [
    "arr"
   ]
  },
  {
   "cell_type": "code",
   "execution_count": 66,
   "metadata": {
    "execution": {
     "iopub.execute_input": "2023-05-23T13:01:40.440628Z",
     "iopub.status.busy": "2023-05-23T13:01:40.439937Z",
     "iopub.status.idle": "2023-05-23T13:01:40.446095Z",
     "shell.execute_reply": "2023-05-23T13:01:40.445531Z"
    },
    "papermill": {
     "duration": 0.086681,
     "end_time": "2023-05-23T13:01:40.446233",
     "exception": false,
     "start_time": "2023-05-23T13:01:40.359552",
     "status": "completed"
    },
    "tags": []
   },
   "outputs": [
    {
     "data": {
      "text/plain": [
       "array([False, False, False, False, False,  True,  True,  True,  True,\n",
       "        True,  True,  True,  True,  True])"
      ]
     },
     "execution_count": 66,
     "metadata": {},
     "output_type": "execute_result"
    }
   ],
   "source": [
    "# Try simple condition \n",
    "arr>5"
   ]
  },
  {
   "cell_type": "code",
   "execution_count": 67,
   "metadata": {
    "execution": {
     "iopub.execute_input": "2023-05-23T13:01:40.610320Z",
     "iopub.status.busy": "2023-05-23T13:01:40.609558Z",
     "iopub.status.idle": "2023-05-23T13:01:40.616064Z",
     "shell.execute_reply": "2023-05-23T13:01:40.616753Z"
    },
    "papermill": {
     "duration": 0.08908,
     "end_time": "2023-05-23T13:01:40.616926",
     "exception": false,
     "start_time": "2023-05-23T13:01:40.527846",
     "status": "completed"
    },
    "tags": []
   },
   "outputs": [
    {
     "data": {
      "text/plain": [
       "array([ 6,  7,  8,  9, 10, 11, 12, 13, 14])"
      ]
     },
     "execution_count": 67,
     "metadata": {},
     "output_type": "execute_result"
    }
   ],
   "source": [
    "# let's select elements based on the previous condition , it should return elements which match the condition only \n",
    "\n",
    "condition = arr>5\n",
    "arr[condition]"
   ]
  },
  {
   "cell_type": "code",
   "execution_count": 68,
   "metadata": {
    "execution": {
     "iopub.execute_input": "2023-05-23T13:01:40.778854Z",
     "iopub.status.busy": "2023-05-23T13:01:40.777803Z",
     "iopub.status.idle": "2023-05-23T13:01:40.784026Z",
     "shell.execute_reply": "2023-05-23T13:01:40.784718Z"
    },
    "papermill": {
     "duration": 0.089347,
     "end_time": "2023-05-23T13:01:40.784882",
     "exception": false,
     "start_time": "2023-05-23T13:01:40.695535",
     "status": "completed"
    },
    "tags": []
   },
   "outputs": [
    {
     "data": {
      "text/plain": [
       "array([11, 12, 13, 14])"
      ]
     },
     "execution_count": 68,
     "metadata": {},
     "output_type": "execute_result"
    }
   ],
   "source": [
    "# another example \n",
    "arr[arr>10]"
   ]
  },
  {
   "cell_type": "markdown",
   "metadata": {
    "papermill": {
     "duration": 0.079105,
     "end_time": "2023-05-23T13:01:40.943251",
     "exception": false,
     "start_time": "2023-05-23T13:01:40.864146",
     "status": "completed"
    },
    "tags": []
   },
   "source": [
    "<a id=\"intro4\"></a>\n",
    "# NumPy Operations"
   ]
  },
  {
   "cell_type": "code",
   "execution_count": 69,
   "metadata": {
    "execution": {
     "iopub.execute_input": "2023-05-23T13:01:41.105684Z",
     "iopub.status.busy": "2023-05-23T13:01:41.104660Z",
     "iopub.status.idle": "2023-05-23T13:01:41.109304Z",
     "shell.execute_reply": "2023-05-23T13:01:41.109851Z"
    },
    "papermill": {
     "duration": 0.087706,
     "end_time": "2023-05-23T13:01:41.110047",
     "exception": false,
     "start_time": "2023-05-23T13:01:41.022341",
     "status": "completed"
    },
    "tags": []
   },
   "outputs": [],
   "source": [
    "arr = np.arange(0,10)"
   ]
  },
  {
   "cell_type": "code",
   "execution_count": 70,
   "metadata": {
    "execution": {
     "iopub.execute_input": "2023-05-23T13:01:41.273630Z",
     "iopub.status.busy": "2023-05-23T13:01:41.272610Z",
     "iopub.status.idle": "2023-05-23T13:01:41.280092Z",
     "shell.execute_reply": "2023-05-23T13:01:41.279349Z"
    },
    "papermill": {
     "duration": 0.090623,
     "end_time": "2023-05-23T13:01:41.280228",
     "exception": false,
     "start_time": "2023-05-23T13:01:41.189605",
     "status": "completed"
    },
    "tags": []
   },
   "outputs": [
    {
     "data": {
      "text/plain": [
       "array([0, 1, 2, 3, 4, 5, 6, 7, 8, 9])"
      ]
     },
     "execution_count": 70,
     "metadata": {},
     "output_type": "execute_result"
    }
   ],
   "source": [
    "arr"
   ]
  },
  {
   "cell_type": "code",
   "execution_count": 71,
   "metadata": {
    "execution": {
     "iopub.execute_input": "2023-05-23T13:01:41.445149Z",
     "iopub.status.busy": "2023-05-23T13:01:41.444390Z",
     "iopub.status.idle": "2023-05-23T13:01:41.451315Z",
     "shell.execute_reply": "2023-05-23T13:01:41.450587Z"
    },
    "papermill": {
     "duration": 0.090283,
     "end_time": "2023-05-23T13:01:41.451452",
     "exception": false,
     "start_time": "2023-05-23T13:01:41.361169",
     "status": "completed"
    },
    "tags": []
   },
   "outputs": [
    {
     "data": {
      "text/plain": [
       "array([ 5,  6,  7,  8,  9, 10, 11, 12, 13, 14])"
      ]
     },
     "execution_count": 71,
     "metadata": {},
     "output_type": "execute_result"
    }
   ],
   "source": [
    "# adding number to array \n",
    "arr + 5"
   ]
  },
  {
   "cell_type": "code",
   "execution_count": 72,
   "metadata": {
    "execution": {
     "iopub.execute_input": "2023-05-23T13:01:41.618719Z",
     "iopub.status.busy": "2023-05-23T13:01:41.617702Z",
     "iopub.status.idle": "2023-05-23T13:01:41.621660Z",
     "shell.execute_reply": "2023-05-23T13:01:41.622147Z"
    },
    "papermill": {
     "duration": 0.089559,
     "end_time": "2023-05-23T13:01:41.622318",
     "exception": false,
     "start_time": "2023-05-23T13:01:41.532759",
     "status": "completed"
    },
    "tags": []
   },
   "outputs": [
    {
     "data": {
      "text/plain": [
       "array([-3, -2, -1,  0,  1,  2,  3,  4,  5,  6])"
      ]
     },
     "execution_count": 72,
     "metadata": {},
     "output_type": "execute_result"
    }
   ],
   "source": [
    "# subtracting number to array \n",
    "arr - 3"
   ]
  },
  {
   "cell_type": "code",
   "execution_count": 73,
   "metadata": {
    "execution": {
     "iopub.execute_input": "2023-05-23T13:01:41.787027Z",
     "iopub.status.busy": "2023-05-23T13:01:41.786011Z",
     "iopub.status.idle": "2023-05-23T13:01:41.791503Z",
     "shell.execute_reply": "2023-05-23T13:01:41.791995Z"
    },
    "papermill": {
     "duration": 0.089529,
     "end_time": "2023-05-23T13:01:41.792166",
     "exception": false,
     "start_time": "2023-05-23T13:01:41.702637",
     "status": "completed"
    },
    "tags": []
   },
   "outputs": [
    {
     "data": {
      "text/plain": [
       "array([ 0,  1,  4,  9, 16, 25, 36, 49, 64, 81])"
      ]
     },
     "execution_count": 73,
     "metadata": {},
     "output_type": "execute_result"
    }
   ],
   "source": [
    "# multiply array by itself \n",
    "arr * arr"
   ]
  },
  {
   "cell_type": "code",
   "execution_count": 74,
   "metadata": {
    "execution": {
     "iopub.execute_input": "2023-05-23T13:01:41.961188Z",
     "iopub.status.busy": "2023-05-23T13:01:41.960146Z",
     "iopub.status.idle": "2023-05-23T13:01:41.965641Z",
     "shell.execute_reply": "2023-05-23T13:01:41.966184Z"
    },
    "papermill": {
     "duration": 0.091776,
     "end_time": "2023-05-23T13:01:41.966347",
     "exception": false,
     "start_time": "2023-05-23T13:01:41.874571",
     "status": "completed"
    },
    "tags": []
   },
   "outputs": [
    {
     "data": {
      "text/plain": [
       "array([0, 0, 0, 0, 0, 0, 0, 0, 0, 0])"
      ]
     },
     "execution_count": 74,
     "metadata": {},
     "output_type": "execute_result"
    }
   ],
   "source": [
    "# minus array from itself \n",
    "arr - arr "
   ]
  },
  {
   "cell_type": "code",
   "execution_count": 75,
   "metadata": {
    "execution": {
     "iopub.execute_input": "2023-05-23T13:01:42.135333Z",
     "iopub.status.busy": "2023-05-23T13:01:42.134424Z",
     "iopub.status.idle": "2023-05-23T13:01:42.137798Z",
     "shell.execute_reply": "2023-05-23T13:01:42.138333Z"
    },
    "papermill": {
     "duration": 0.09097,
     "end_time": "2023-05-23T13:01:42.138488",
     "exception": false,
     "start_time": "2023-05-23T13:01:42.047518",
     "status": "completed"
    },
    "tags": []
   },
   "outputs": [
    {
     "data": {
      "text/plain": [
       "array([0.        , 1.        , 1.41421356, 1.73205081, 2.        ,\n",
       "       2.23606798, 2.44948974, 2.64575131, 2.82842712, 3.        ])"
      ]
     },
     "execution_count": 75,
     "metadata": {},
     "output_type": "execute_result"
    }
   ],
   "source": [
    "# square root of array \n",
    "np.sqrt(arr)"
   ]
  },
  {
   "cell_type": "code",
   "execution_count": 76,
   "metadata": {
    "execution": {
     "iopub.execute_input": "2023-05-23T13:01:42.304997Z",
     "iopub.status.busy": "2023-05-23T13:01:42.303985Z",
     "iopub.status.idle": "2023-05-23T13:01:42.310102Z",
     "shell.execute_reply": "2023-05-23T13:01:42.310619Z"
    },
    "papermill": {
     "duration": 0.091124,
     "end_time": "2023-05-23T13:01:42.310776",
     "exception": false,
     "start_time": "2023-05-23T13:01:42.219652",
     "status": "completed"
    },
    "tags": []
   },
   "outputs": [
    {
     "data": {
      "text/plain": [
       "array([ 0.        ,  0.84147098,  0.90929743,  0.14112001, -0.7568025 ,\n",
       "       -0.95892427, -0.2794155 ,  0.6569866 ,  0.98935825,  0.41211849])"
      ]
     },
     "execution_count": 76,
     "metadata": {},
     "output_type": "execute_result"
    }
   ],
   "source": [
    "# sin of array \n",
    "np.sin(arr)"
   ]
  },
  {
   "cell_type": "code",
   "execution_count": 77,
   "metadata": {
    "execution": {
     "iopub.execute_input": "2023-05-23T13:01:42.484438Z",
     "iopub.status.busy": "2023-05-23T13:01:42.483359Z",
     "iopub.status.idle": "2023-05-23T13:01:42.488728Z",
     "shell.execute_reply": "2023-05-23T13:01:42.488102Z"
    },
    "papermill": {
     "duration": 0.095108,
     "end_time": "2023-05-23T13:01:42.488850",
     "exception": false,
     "start_time": "2023-05-23T13:01:42.393742",
     "status": "completed"
    },
    "tags": []
   },
   "outputs": [
    {
     "name": "stderr",
     "output_type": "stream",
     "text": [
      "/opt/conda/lib/python3.7/site-packages/ipykernel_launcher.py:2: RuntimeWarning: divide by zero encountered in log\n",
      "  \n"
     ]
    },
    {
     "data": {
      "text/plain": [
       "array([      -inf, 0.        , 0.69314718, 1.09861229, 1.38629436,\n",
       "       1.60943791, 1.79175947, 1.94591015, 2.07944154, 2.19722458])"
      ]
     },
     "execution_count": 77,
     "metadata": {},
     "output_type": "execute_result"
    }
   ],
   "source": [
    "# log of array \n",
    "np.log(arr)"
   ]
  },
  {
   "cell_type": "markdown",
   "metadata": {
    "papermill": {
     "duration": 0.081932,
     "end_time": "2023-05-23T13:01:42.653434",
     "exception": false,
     "start_time": "2023-05-23T13:01:42.571502",
     "status": "completed"
    },
    "tags": []
   },
   "source": [
    "Summary functions on array "
   ]
  },
  {
   "cell_type": "code",
   "execution_count": 78,
   "metadata": {
    "execution": {
     "iopub.execute_input": "2023-05-23T13:01:42.826045Z",
     "iopub.status.busy": "2023-05-23T13:01:42.825134Z",
     "iopub.status.idle": "2023-05-23T13:01:42.828656Z",
     "shell.execute_reply": "2023-05-23T13:01:42.829325Z"
    },
    "papermill": {
     "duration": 0.091836,
     "end_time": "2023-05-23T13:01:42.829497",
     "exception": false,
     "start_time": "2023-05-23T13:01:42.737661",
     "status": "completed"
    },
    "tags": []
   },
   "outputs": [
    {
     "data": {
      "text/plain": [
       "45"
      ]
     },
     "execution_count": 78,
     "metadata": {},
     "output_type": "execute_result"
    }
   ],
   "source": [
    "# get sum of array \n",
    "arr.sum()"
   ]
  },
  {
   "cell_type": "code",
   "execution_count": 79,
   "metadata": {
    "execution": {
     "iopub.execute_input": "2023-05-23T13:01:43.001247Z",
     "iopub.status.busy": "2023-05-23T13:01:43.000216Z",
     "iopub.status.idle": "2023-05-23T13:01:43.006456Z",
     "shell.execute_reply": "2023-05-23T13:01:43.007022Z"
    },
    "papermill": {
     "duration": 0.093813,
     "end_time": "2023-05-23T13:01:43.007189",
     "exception": false,
     "start_time": "2023-05-23T13:01:42.913376",
     "status": "completed"
    },
    "tags": []
   },
   "outputs": [
    {
     "data": {
      "text/plain": [
       "4.5"
      ]
     },
     "execution_count": 79,
     "metadata": {},
     "output_type": "execute_result"
    }
   ],
   "source": [
    "# get mean of array \n",
    "arr.mean()"
   ]
  },
  {
   "cell_type": "code",
   "execution_count": 80,
   "metadata": {
    "execution": {
     "iopub.execute_input": "2023-05-23T13:01:43.181293Z",
     "iopub.status.busy": "2023-05-23T13:01:43.180292Z",
     "iopub.status.idle": "2023-05-23T13:01:43.186373Z",
     "shell.execute_reply": "2023-05-23T13:01:43.186914Z"
    },
    "papermill": {
     "duration": 0.093513,
     "end_time": "2023-05-23T13:01:43.187098",
     "exception": false,
     "start_time": "2023-05-23T13:01:43.093585",
     "status": "completed"
    },
    "tags": []
   },
   "outputs": [
    {
     "data": {
      "text/plain": [
       "8.25"
      ]
     },
     "execution_count": 80,
     "metadata": {},
     "output_type": "execute_result"
    }
   ],
   "source": [
    "# variance of array \n",
    "arr.var()"
   ]
  },
  {
   "cell_type": "code",
   "execution_count": 81,
   "metadata": {
    "execution": {
     "iopub.execute_input": "2023-05-23T13:01:43.359705Z",
     "iopub.status.busy": "2023-05-23T13:01:43.358631Z",
     "iopub.status.idle": "2023-05-23T13:01:43.364323Z",
     "shell.execute_reply": "2023-05-23T13:01:43.364793Z"
    },
    "papermill": {
     "duration": 0.09394,
     "end_time": "2023-05-23T13:01:43.364978",
     "exception": false,
     "start_time": "2023-05-23T13:01:43.271038",
     "status": "completed"
    },
    "tags": []
   },
   "outputs": [
    {
     "data": {
      "text/plain": [
       "2.8722813232690143"
      ]
     },
     "execution_count": 81,
     "metadata": {},
     "output_type": "execute_result"
    }
   ],
   "source": [
    "# standard deviation of array \n",
    "arr.std()"
   ]
  },
  {
   "cell_type": "code",
   "execution_count": 82,
   "metadata": {
    "execution": {
     "iopub.execute_input": "2023-05-23T13:01:43.554275Z",
     "iopub.status.busy": "2023-05-23T13:01:43.553151Z",
     "iopub.status.idle": "2023-05-23T13:01:43.559612Z",
     "shell.execute_reply": "2023-05-23T13:01:43.561111Z"
    },
    "papermill": {
     "duration": 0.111276,
     "end_time": "2023-05-23T13:01:43.561386",
     "exception": false,
     "start_time": "2023-05-23T13:01:43.450110",
     "status": "completed"
    },
    "tags": []
   },
   "outputs": [],
   "source": [
    "arr_2d = np.arange(0,25).reshape(5,5)"
   ]
  },
  {
   "cell_type": "code",
   "execution_count": 83,
   "metadata": {
    "execution": {
     "iopub.execute_input": "2023-05-23T13:01:43.739301Z",
     "iopub.status.busy": "2023-05-23T13:01:43.738533Z",
     "iopub.status.idle": "2023-05-23T13:01:43.743346Z",
     "shell.execute_reply": "2023-05-23T13:01:43.743849Z"
    },
    "papermill": {
     "duration": 0.093205,
     "end_time": "2023-05-23T13:01:43.744052",
     "exception": false,
     "start_time": "2023-05-23T13:01:43.650847",
     "status": "completed"
    },
    "tags": []
   },
   "outputs": [
    {
     "data": {
      "text/plain": [
       "(5, 5)"
      ]
     },
     "execution_count": 83,
     "metadata": {},
     "output_type": "execute_result"
    }
   ],
   "source": [
    "arr_2d.shape"
   ]
  },
  {
   "cell_type": "code",
   "execution_count": 84,
   "metadata": {
    "execution": {
     "iopub.execute_input": "2023-05-23T13:01:43.919162Z",
     "iopub.status.busy": "2023-05-23T13:01:43.918375Z",
     "iopub.status.idle": "2023-05-23T13:01:43.923500Z",
     "shell.execute_reply": "2023-05-23T13:01:43.924051Z"
    },
    "papermill": {
     "duration": 0.093859,
     "end_time": "2023-05-23T13:01:43.924213",
     "exception": false,
     "start_time": "2023-05-23T13:01:43.830354",
     "status": "completed"
    },
    "tags": []
   },
   "outputs": [
    {
     "data": {
      "text/plain": [
       "array([[ 0,  1,  2,  3,  4],\n",
       "       [ 5,  6,  7,  8,  9],\n",
       "       [10, 11, 12, 13, 14],\n",
       "       [15, 16, 17, 18, 19],\n",
       "       [20, 21, 22, 23, 24]])"
      ]
     },
     "execution_count": 84,
     "metadata": {},
     "output_type": "execute_result"
    }
   ],
   "source": [
    "arr_2d"
   ]
  },
  {
   "cell_type": "code",
   "execution_count": 85,
   "metadata": {
    "execution": {
     "iopub.execute_input": "2023-05-23T13:01:44.102225Z",
     "iopub.status.busy": "2023-05-23T13:01:44.099767Z",
     "iopub.status.idle": "2023-05-23T13:01:44.106198Z",
     "shell.execute_reply": "2023-05-23T13:01:44.106854Z"
    },
    "papermill": {
     "duration": 0.097224,
     "end_time": "2023-05-23T13:01:44.107044",
     "exception": false,
     "start_time": "2023-05-23T13:01:44.009820",
     "status": "completed"
    },
    "tags": []
   },
   "outputs": [
    {
     "data": {
      "text/plain": [
       "300"
      ]
     },
     "execution_count": 85,
     "metadata": {},
     "output_type": "execute_result"
    }
   ],
   "source": [
    "# total sum of array \n",
    "arr_2d.sum()"
   ]
  },
  {
   "cell_type": "code",
   "execution_count": 86,
   "metadata": {
    "execution": {
     "iopub.execute_input": "2023-05-23T13:01:44.283416Z",
     "iopub.status.busy": "2023-05-23T13:01:44.282685Z",
     "iopub.status.idle": "2023-05-23T13:01:44.289496Z",
     "shell.execute_reply": "2023-05-23T13:01:44.290096Z"
    },
    "papermill": {
     "duration": 0.095696,
     "end_time": "2023-05-23T13:01:44.290261",
     "exception": false,
     "start_time": "2023-05-23T13:01:44.194565",
     "status": "completed"
    },
    "tags": []
   },
   "outputs": [
    {
     "data": {
      "text/plain": [
       "array([ 10,  35,  60,  85, 110])"
      ]
     },
     "execution_count": 86,
     "metadata": {},
     "output_type": "execute_result"
    }
   ],
   "source": [
    "# sum of each row in the array \n",
    "arr_2d.sum(axis=1)"
   ]
  },
  {
   "cell_type": "code",
   "execution_count": 87,
   "metadata": {
    "execution": {
     "iopub.execute_input": "2023-05-23T13:01:44.465979Z",
     "iopub.status.busy": "2023-05-23T13:01:44.465283Z",
     "iopub.status.idle": "2023-05-23T13:01:44.471506Z",
     "shell.execute_reply": "2023-05-23T13:01:44.472193Z"
    },
    "papermill": {
     "duration": 0.095337,
     "end_time": "2023-05-23T13:01:44.472361",
     "exception": false,
     "start_time": "2023-05-23T13:01:44.377024",
     "status": "completed"
    },
    "tags": []
   },
   "outputs": [
    {
     "data": {
      "text/plain": [
       "array([50, 55, 60, 65, 70])"
      ]
     },
     "execution_count": 87,
     "metadata": {},
     "output_type": "execute_result"
    }
   ],
   "source": [
    "# sum of each column in the array \n",
    "arr_2d.sum(axis=0)"
   ]
  }
 ],
 "metadata": {
  "kernelspec": {
   "display_name": "Python 3",
   "language": "python",
   "name": "python3"
  },
  "language_info": {
   "codemirror_mode": {
    "name": "ipython",
    "version": 3
   },
   "file_extension": ".py",
   "mimetype": "text/x-python",
   "name": "python",
   "nbconvert_exporter": "python",
   "pygments_lexer": "ipython3",
   "version": "3.7.6"
  },
  "papermill": {
   "duration": 20.429187,
   "end_time": "2023-05-23T13:01:44.670715",
   "environment_variables": {},
   "exception": null,
   "input_path": "__notebook__.ipynb",
   "output_path": "__notebook__.ipynb",
   "parameters": {},
   "start_time": "2023-05-23T13:01:24.241528",
   "version": "2.1.0"
  }
 },
 "nbformat": 4,
 "nbformat_minor": 4
}
