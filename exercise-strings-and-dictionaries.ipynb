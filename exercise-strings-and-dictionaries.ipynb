{
 "cells": [
  {
   "cell_type": "markdown",
   "id": "665a8908",
   "metadata": {
    "papermill": {
     "duration": 0.00794,
     "end_time": "2023-05-13T20:26:07.082865",
     "exception": false,
     "start_time": "2023-05-13T20:26:07.074925",
     "status": "completed"
    },
    "tags": []
   },
   "source": [
    "**This notebook is an exercise in the [Python](https://www.kaggle.com/learn/python) course.  You can reference the tutorial at [this link](https://www.kaggle.com/colinmorris/strings-and-dictionaries).**\n",
    "\n",
    "---\n"
   ]
  },
  {
   "cell_type": "markdown",
   "id": "d9998e91",
   "metadata": {
    "papermill": {
     "duration": 0.006956,
     "end_time": "2023-05-13T20:26:07.097426",
     "exception": false,
     "start_time": "2023-05-13T20:26:07.090470",
     "status": "completed"
    },
    "tags": []
   },
   "source": [
    "You are almost done with the course. Nice job!\n",
    "\n",
    "We have a couple more interesting problems for you before you go. \n",
    "\n",
    "As always, run the setup code below before working on the questions."
   ]
  },
  {
   "cell_type": "code",
   "execution_count": 1,
   "id": "7b059a8b",
   "metadata": {
    "execution": {
     "iopub.execute_input": "2023-05-13T20:26:07.114453Z",
     "iopub.status.busy": "2023-05-13T20:26:07.113720Z",
     "iopub.status.idle": "2023-05-13T20:26:07.173250Z",
     "shell.execute_reply": "2023-05-13T20:26:07.171829Z"
    },
    "papermill": {
     "duration": 0.0723,
     "end_time": "2023-05-13T20:26:07.177147",
     "exception": false,
     "start_time": "2023-05-13T20:26:07.104847",
     "status": "completed"
    },
    "tags": []
   },
   "outputs": [
    {
     "name": "stdout",
     "output_type": "stream",
     "text": [
      "Setup complete.\n"
     ]
    }
   ],
   "source": [
    "from learntools.core import binder; binder.bind(globals())\n",
    "from learntools.python.ex6 import *\n",
    "print('Setup complete.')"
   ]
  },
  {
   "cell_type": "markdown",
   "id": "76292e7a",
   "metadata": {
    "papermill": {
     "duration": 0.007179,
     "end_time": "2023-05-13T20:26:07.191812",
     "exception": false,
     "start_time": "2023-05-13T20:26:07.184633",
     "status": "completed"
    },
    "tags": []
   },
   "source": [
    "Let's start with a string lightning round to warm up. What are the lengths of the strings below?\n",
    "\n",
    "For each of the five strings below, predict what `len()` would return when passed that string. Use the variable `length` to record your answer, then run the cell to check whether you were right.  \n",
    "\n",
    "# 0a."
   ]
  },
  {
   "cell_type": "code",
   "execution_count": 2,
   "id": "8e7990a7",
   "metadata": {
    "execution": {
     "iopub.execute_input": "2023-05-13T20:26:07.208570Z",
     "iopub.status.busy": "2023-05-13T20:26:07.207994Z",
     "iopub.status.idle": "2023-05-13T20:26:07.219571Z",
     "shell.execute_reply": "2023-05-13T20:26:07.218184Z"
    },
    "papermill": {
     "duration": 0.022776,
     "end_time": "2023-05-13T20:26:07.221974",
     "exception": false,
     "start_time": "2023-05-13T20:26:07.199198",
     "status": "completed"
    },
    "tags": []
   },
   "outputs": [
    {
     "data": {
      "application/javascript": [
       "parent.postMessage({\"jupyterEvent\": \"custom.exercise_interaction\", \"data\": {\"outcomeType\": 1, \"valueTowardsCompletion\": 0.3333333333333333, \"interactionType\": 1, \"questionType\": 1, \"questionId\": \"0.1_ZA\", \"learnToolsVersion\": \"0.3.4\", \"failureMessage\": \"\", \"exceptionClass\": \"\", \"trace\": \"\"}}, \"*\")"
      ],
      "text/plain": [
       "<IPython.core.display.Javascript object>"
      ]
     },
     "metadata": {},
     "output_type": "display_data"
    },
    {
     "data": {
      "text/markdown": [
       "<span style=\"color:#33cc33\">Correct:</span> \n",
       "\n",
       "The empty string has length zero. Note that the empty string is also the only string that Python considers as False when converting to boolean."
      ],
      "text/plain": [
       "Correct: \n",
       "\n",
       "The empty string has length zero. Note that the empty string is also the only string that Python considers as False when converting to boolean."
      ]
     },
     "metadata": {},
     "output_type": "display_data"
    }
   ],
   "source": [
    "a = \"\"\n",
    "length = 0\n",
    "q0.a.check()"
   ]
  },
  {
   "cell_type": "markdown",
   "id": "d93c5e39",
   "metadata": {
    "papermill": {
     "duration": 0.007314,
     "end_time": "2023-05-13T20:26:07.237107",
     "exception": false,
     "start_time": "2023-05-13T20:26:07.229793",
     "status": "completed"
    },
    "tags": []
   },
   "source": [
    "# 0b."
   ]
  },
  {
   "cell_type": "code",
   "execution_count": 3,
   "id": "7ea73ffe",
   "metadata": {
    "execution": {
     "iopub.execute_input": "2023-05-13T20:26:07.254579Z",
     "iopub.status.busy": "2023-05-13T20:26:07.253804Z",
     "iopub.status.idle": "2023-05-13T20:26:07.264325Z",
     "shell.execute_reply": "2023-05-13T20:26:07.263231Z"
    },
    "papermill": {
     "duration": 0.021987,
     "end_time": "2023-05-13T20:26:07.266541",
     "exception": false,
     "start_time": "2023-05-13T20:26:07.244554",
     "status": "completed"
    },
    "tags": []
   },
   "outputs": [
    {
     "data": {
      "application/javascript": [
       "parent.postMessage({\"jupyterEvent\": \"custom.exercise_interaction\", \"data\": {\"outcomeType\": 1, \"valueTowardsCompletion\": 0.3333333333333333, \"interactionType\": 1, \"questionType\": 1, \"questionId\": \"0.2_ZB\", \"learnToolsVersion\": \"0.3.4\", \"failureMessage\": \"\", \"exceptionClass\": \"\", \"trace\": \"\"}}, \"*\")"
      ],
      "text/plain": [
       "<IPython.core.display.Javascript object>"
      ]
     },
     "metadata": {},
     "output_type": "display_data"
    },
    {
     "data": {
      "text/markdown": [
       "<span style=\"color:#33cc33\">Correct:</span> \n",
       "\n",
       "Keep in mind Python includes spaces (and punctuation) when counting string length."
      ],
      "text/plain": [
       "Correct: \n",
       "\n",
       "Keep in mind Python includes spaces (and punctuation) when counting string length."
      ]
     },
     "metadata": {},
     "output_type": "display_data"
    }
   ],
   "source": [
    "b = \"it's ok\"\n",
    "length = 7\n",
    "q0.b.check()"
   ]
  },
  {
   "cell_type": "markdown",
   "id": "c4c3fc2d",
   "metadata": {
    "papermill": {
     "duration": 0.007444,
     "end_time": "2023-05-13T20:26:07.281696",
     "exception": false,
     "start_time": "2023-05-13T20:26:07.274252",
     "status": "completed"
    },
    "tags": []
   },
   "source": [
    "# 0c."
   ]
  },
  {
   "cell_type": "code",
   "execution_count": 4,
   "id": "6f9ac286",
   "metadata": {
    "execution": {
     "iopub.execute_input": "2023-05-13T20:26:07.300032Z",
     "iopub.status.busy": "2023-05-13T20:26:07.299170Z",
     "iopub.status.idle": "2023-05-13T20:26:07.307957Z",
     "shell.execute_reply": "2023-05-13T20:26:07.307114Z"
    },
    "papermill": {
     "duration": 0.020433,
     "end_time": "2023-05-13T20:26:07.310028",
     "exception": false,
     "start_time": "2023-05-13T20:26:07.289595",
     "status": "completed"
    },
    "tags": []
   },
   "outputs": [
    {
     "data": {
      "application/javascript": [
       "parent.postMessage({\"jupyterEvent\": \"custom.exercise_interaction\", \"data\": {\"outcomeType\": 1, \"valueTowardsCompletion\": 0.3333333333333333, \"interactionType\": 1, \"questionType\": 1, \"questionId\": \"0.3_ZC\", \"learnToolsVersion\": \"0.3.4\", \"failureMessage\": \"\", \"exceptionClass\": \"\", \"trace\": \"\"}}, \"*\")"
      ],
      "text/plain": [
       "<IPython.core.display.Javascript object>"
      ]
     },
     "metadata": {},
     "output_type": "display_data"
    },
    {
     "data": {
      "text/markdown": [
       "<span style=\"color:#33cc33\">Correct:</span> \n",
       "\n",
       "Even though we use different syntax to create it, the string `c` is identical to `b`. In particular, note that the backslash is not part of the string, so it doesn't contribute to its length."
      ],
      "text/plain": [
       "Correct: \n",
       "\n",
       "Even though we use different syntax to create it, the string `c` is identical to `b`. In particular, note that the backslash is not part of the string, so it doesn't contribute to its length."
      ]
     },
     "metadata": {},
     "output_type": "display_data"
    }
   ],
   "source": [
    "c = 'it\\'s ok'\n",
    "length = 7\n",
    "q0.c.check()"
   ]
  },
  {
   "cell_type": "markdown",
   "id": "2460b4c3",
   "metadata": {
    "papermill": {
     "duration": 0.007864,
     "end_time": "2023-05-13T20:26:07.325943",
     "exception": false,
     "start_time": "2023-05-13T20:26:07.318079",
     "status": "completed"
    },
    "tags": []
   },
   "source": [
    "# 0d."
   ]
  },
  {
   "cell_type": "code",
   "execution_count": 5,
   "id": "d643003f",
   "metadata": {
    "execution": {
     "iopub.execute_input": "2023-05-13T20:26:07.344596Z",
     "iopub.status.busy": "2023-05-13T20:26:07.344114Z",
     "iopub.status.idle": "2023-05-13T20:26:07.354842Z",
     "shell.execute_reply": "2023-05-13T20:26:07.353828Z"
    },
    "papermill": {
     "duration": 0.023276,
     "end_time": "2023-05-13T20:26:07.357330",
     "exception": false,
     "start_time": "2023-05-13T20:26:07.334054",
     "status": "completed"
    },
    "tags": []
   },
   "outputs": [
    {
     "data": {
      "application/javascript": [
       "parent.postMessage({\"jupyterEvent\": \"custom.exercise_interaction\", \"data\": {\"outcomeType\": 1, \"valueTowardsCompletion\": 0.3333333333333333, \"interactionType\": 1, \"questionType\": 1, \"questionId\": \"0.4_ZD\", \"learnToolsVersion\": \"0.3.4\", \"failureMessage\": \"\", \"exceptionClass\": \"\", \"trace\": \"\"}}, \"*\")"
      ],
      "text/plain": [
       "<IPython.core.display.Javascript object>"
      ]
     },
     "metadata": {},
     "output_type": "display_data"
    },
    {
     "data": {
      "text/markdown": [
       "<span style=\"color:#33cc33\">Correct:</span> \n",
       "\n",
       "The fact that this string was created using triple-quote syntax doesn't make any difference in terms of its content or length. This string is exactly the same as `'hey'`."
      ],
      "text/plain": [
       "Correct: \n",
       "\n",
       "The fact that this string was created using triple-quote syntax doesn't make any difference in terms of its content or length. This string is exactly the same as `'hey'`."
      ]
     },
     "metadata": {},
     "output_type": "display_data"
    }
   ],
   "source": [
    "d = \"\"\"hey\"\"\"\n",
    "length = 3\n",
    "q0.d.check()"
   ]
  },
  {
   "cell_type": "markdown",
   "id": "c27ad6a5",
   "metadata": {
    "papermill": {
     "duration": 0.008331,
     "end_time": "2023-05-13T20:26:07.374318",
     "exception": false,
     "start_time": "2023-05-13T20:26:07.365987",
     "status": "completed"
    },
    "tags": []
   },
   "source": [
    "# 0e."
   ]
  },
  {
   "cell_type": "code",
   "execution_count": 6,
   "id": "edad4796",
   "metadata": {
    "execution": {
     "iopub.execute_input": "2023-05-13T20:26:07.393723Z",
     "iopub.status.busy": "2023-05-13T20:26:07.392874Z",
     "iopub.status.idle": "2023-05-13T20:26:07.402979Z",
     "shell.execute_reply": "2023-05-13T20:26:07.401773Z"
    },
    "papermill": {
     "duration": 0.02258,
     "end_time": "2023-05-13T20:26:07.405359",
     "exception": false,
     "start_time": "2023-05-13T20:26:07.382779",
     "status": "completed"
    },
    "tags": []
   },
   "outputs": [
    {
     "data": {
      "application/javascript": [
       "parent.postMessage({\"jupyterEvent\": \"custom.exercise_interaction\", \"data\": {\"outcomeType\": 1, \"valueTowardsCompletion\": 0.3333333333333333, \"interactionType\": 1, \"questionType\": 1, \"questionId\": \"0.5_ZE\", \"learnToolsVersion\": \"0.3.4\", \"failureMessage\": \"\", \"exceptionClass\": \"\", \"trace\": \"\"}}, \"*\")"
      ],
      "text/plain": [
       "<IPython.core.display.Javascript object>"
      ]
     },
     "metadata": {},
     "output_type": "display_data"
    },
    {
     "data": {
      "text/markdown": [
       "<span style=\"color:#33cc33\">Correct:</span> \n",
       "\n",
       "The newline character is just a single character! (Even though we represent it to Python using a combination of two characters.)"
      ],
      "text/plain": [
       "Correct: \n",
       "\n",
       "The newline character is just a single character! (Even though we represent it to Python using a combination of two characters.)"
      ]
     },
     "metadata": {},
     "output_type": "display_data"
    }
   ],
   "source": [
    "e = '\\n'\n",
    "length = 1\n",
    "q0.e.check()"
   ]
  },
  {
   "cell_type": "markdown",
   "id": "41603f11",
   "metadata": {
    "papermill": {
     "duration": 0.008418,
     "end_time": "2023-05-13T20:26:07.422607",
     "exception": false,
     "start_time": "2023-05-13T20:26:07.414189",
     "status": "completed"
    },
    "tags": []
   },
   "source": [
    "# 1.\n",
    "\n",
    "There is a saying that \"Data scientists spend 80% of their time cleaning data, and 20% of their time complaining about cleaning data.\" Let's see if you can write a function to help clean US zip code data. Given a string, it should return whether or not that string represents a valid zip code. For our purposes, a valid zip code is any string consisting of exactly 5 digits.\n",
    "\n",
    "HINT: `str` has a method that will be useful here. Use `help(str)` to review a list of string methods."
   ]
  },
  {
   "cell_type": "code",
   "execution_count": 7,
   "id": "c34928ec",
   "metadata": {
    "execution": {
     "iopub.execute_input": "2023-05-13T20:26:07.441916Z",
     "iopub.status.busy": "2023-05-13T20:26:07.441521Z",
     "iopub.status.idle": "2023-05-13T20:26:07.454666Z",
     "shell.execute_reply": "2023-05-13T20:26:07.453491Z"
    },
    "papermill": {
     "duration": 0.025771,
     "end_time": "2023-05-13T20:26:07.457142",
     "exception": false,
     "start_time": "2023-05-13T20:26:07.431371",
     "status": "completed"
    },
    "tags": []
   },
   "outputs": [
    {
     "name": "stdout",
     "output_type": "stream",
     "text": [
      "valid\n",
      "valid\n"
     ]
    },
    {
     "data": {
      "application/javascript": [
       "parent.postMessage({\"jupyterEvent\": \"custom.exercise_interaction\", \"data\": {\"outcomeType\": 1, \"valueTowardsCompletion\": 0.3333333333333333, \"interactionType\": 1, \"questionType\": 2, \"questionId\": \"1_ZipValidator\", \"learnToolsVersion\": \"0.3.4\", \"failureMessage\": \"\", \"exceptionClass\": \"\", \"trace\": \"\"}}, \"*\")"
      ],
      "text/plain": [
       "<IPython.core.display.Javascript object>"
      ]
     },
     "metadata": {},
     "output_type": "display_data"
    },
    {
     "data": {
      "text/markdown": [
       "<span style=\"color:#33cc33\">Correct</span>"
      ],
      "text/plain": [
       "Correct"
      ]
     },
     "metadata": {},
     "output_type": "display_data"
    }
   ],
   "source": [
    "def is_valid_zip(zip_code):\n",
    "    \"\"\"Returns whether the input string is a valid (5 digit) zip code\n",
    "    \"\"\"\n",
    "    a=len(zip_code)\n",
    "    \n",
    "    if ((a==5) and (zip_code.isnumeric())):\n",
    "        \n",
    "        print(\"valid\")\n",
    "        return True \n",
    "    else:\n",
    "        return False\n",
    "zip_code=\"1234x1\"\n",
    "is_valid_zip(zip_code)\n",
    "\n",
    "# Check your answer\n",
    "q1.check()"
   ]
  },
  {
   "cell_type": "code",
   "execution_count": 8,
   "id": "459be903",
   "metadata": {
    "execution": {
     "iopub.execute_input": "2023-05-13T20:26:07.478466Z",
     "iopub.status.busy": "2023-05-13T20:26:07.477998Z",
     "iopub.status.idle": "2023-05-13T20:26:07.483295Z",
     "shell.execute_reply": "2023-05-13T20:26:07.482117Z"
    },
    "papermill": {
     "duration": 0.018927,
     "end_time": "2023-05-13T20:26:07.485712",
     "exception": false,
     "start_time": "2023-05-13T20:26:07.466785",
     "status": "completed"
    },
    "tags": []
   },
   "outputs": [],
   "source": [
    "#q1.hint()\n",
    "#q1.solution()"
   ]
  },
  {
   "cell_type": "markdown",
   "id": "2e4852b3",
   "metadata": {
    "papermill": {
     "duration": 0.00888,
     "end_time": "2023-05-13T20:26:07.503759",
     "exception": false,
     "start_time": "2023-05-13T20:26:07.494879",
     "status": "completed"
    },
    "tags": []
   },
   "source": [
    "# 2.\n",
    "\n",
    "A researcher has gathered thousands of news articles. But she wants to focus her attention on articles including a specific word. Complete the function below to help her filter her list of articles.\n",
    "\n",
    "Your function should meet the following criteria:\n",
    "\n",
    "- Do not include documents where the keyword string shows up only as a part of a larger word. For example, if she were looking for the keyword “closed”, you would not include the string “enclosed.” \n",
    "- She does not want you to distinguish upper case from lower case letters. So the phrase “Closed the case.” would be included when the keyword is “closed”\n",
    "- Do not let periods or commas affect what is matched. “It is closed.” would be included when the keyword is “closed”. But you can assume there are no other types of punctuation."
   ]
  },
  {
   "cell_type": "code",
   "execution_count": 9,
   "id": "e5dfab42",
   "metadata": {
    "execution": {
     "iopub.execute_input": "2023-05-13T20:26:07.524411Z",
     "iopub.status.busy": "2023-05-13T20:26:07.523997Z",
     "iopub.status.idle": "2023-05-13T20:26:07.536679Z",
     "shell.execute_reply": "2023-05-13T20:26:07.535699Z"
    },
    "papermill": {
     "duration": 0.025779,
     "end_time": "2023-05-13T20:26:07.538819",
     "exception": false,
     "start_time": "2023-05-13T20:26:07.513040",
     "status": "completed"
    },
    "tags": []
   },
   "outputs": [
    {
     "data": {
      "application/javascript": [
       "parent.postMessage({\"jupyterEvent\": \"custom.exercise_interaction\", \"data\": {\"outcomeType\": 1, \"valueTowardsCompletion\": 0.3333333333333333, \"interactionType\": 1, \"questionType\": 2, \"questionId\": \"2_WordSearch\", \"learnToolsVersion\": \"0.3.4\", \"failureMessage\": \"\", \"exceptionClass\": \"\", \"trace\": \"\"}}, \"*\")"
      ],
      "text/plain": [
       "<IPython.core.display.Javascript object>"
      ]
     },
     "metadata": {},
     "output_type": "display_data"
    },
    {
     "data": {
      "text/markdown": [
       "<span style=\"color:#33cc33\">Correct</span>"
      ],
      "text/plain": [
       "Correct"
      ]
     },
     "metadata": {},
     "output_type": "display_data"
    }
   ],
   "source": [
    "def word_search(doc_list, keyword):\n",
    "    \"\"\"\n",
    "    Takes a list of documents (each document is a string) and a keyword. \n",
    "    Returns list of the index values into the original list for all documents \n",
    "    containing the keyword.\n",
    "\n",
    "    Example:\n",
    "    doc_list = [\"The Learn Python Challenge Casino.\", \"They bought a car\", \"Casinoville\"]\n",
    "    >>> word_search(doc_list, 'casino')\n",
    "    >>> [0]\n",
    "    \"\"\"\n",
    "    \n",
    "    \"\"\"\n",
    "    Takes a list of documents (each document is a string) and a keyword. \n",
    "    Returns list of the index values into the original list for all documents \n",
    "    containing the keyword.\n",
    "    \"\"\"\n",
    "    # list to hold the indices of matching documents\n",
    "    indices = [] \n",
    "    # Iterate through the indices (i) and elements (doc) of documents\n",
    "    for i, doc in enumerate(doc_list):\n",
    "        # Split the string doc into a list of words (according to whitespace)\n",
    "        tokens = doc.split()\n",
    "        # Make a transformed list where we 'normalize' each word to facilitate matching.\n",
    "        # Periods and commas are removed from the end of each word, and it's set to all lowercase.\n",
    "        normalized = [token.rstrip('.,').lower() for token in tokens]\n",
    "        # Is there a match? If so, update the list of matching indices.\n",
    "        if keyword.lower() in normalized:\n",
    "            indices.append(i)\n",
    "    return indices\n",
    "\n",
    "# Check your answer\n",
    "q2.check()"
   ]
  },
  {
   "cell_type": "code",
   "execution_count": 10,
   "id": "9391aaac",
   "metadata": {
    "execution": {
     "iopub.execute_input": "2023-05-13T20:26:07.560246Z",
     "iopub.status.busy": "2023-05-13T20:26:07.559741Z",
     "iopub.status.idle": "2023-05-13T20:26:07.564886Z",
     "shell.execute_reply": "2023-05-13T20:26:07.563711Z"
    },
    "papermill": {
     "duration": 0.018945,
     "end_time": "2023-05-13T20:26:07.567326",
     "exception": false,
     "start_time": "2023-05-13T20:26:07.548381",
     "status": "completed"
    },
    "tags": []
   },
   "outputs": [],
   "source": [
    "#q2.hint()\n",
    "#q2.solution()"
   ]
  },
  {
   "cell_type": "markdown",
   "id": "65d689df",
   "metadata": {
    "papermill": {
     "duration": 0.009797,
     "end_time": "2023-05-13T20:26:07.587233",
     "exception": false,
     "start_time": "2023-05-13T20:26:07.577436",
     "status": "completed"
    },
    "tags": []
   },
   "source": [
    "# 3.\n",
    "\n",
    "Now the researcher wants to supply multiple keywords to search for. Complete the function below to help her.\n",
    "\n",
    "(You're encouraged to use the `word_search` function you just wrote when implementing this function. Reusing code in this way makes your programs more robust and readable - and it saves typing!)"
   ]
  },
  {
   "cell_type": "code",
   "execution_count": 11,
   "id": "0522fc50",
   "metadata": {
    "execution": {
     "iopub.execute_input": "2023-05-13T20:26:07.609220Z",
     "iopub.status.busy": "2023-05-13T20:26:07.608741Z",
     "iopub.status.idle": "2023-05-13T20:26:07.620381Z",
     "shell.execute_reply": "2023-05-13T20:26:07.619102Z"
    },
    "papermill": {
     "duration": 0.025563,
     "end_time": "2023-05-13T20:26:07.622840",
     "exception": false,
     "start_time": "2023-05-13T20:26:07.597277",
     "status": "completed"
    },
    "tags": []
   },
   "outputs": [
    {
     "data": {
      "application/javascript": [
       "parent.postMessage({\"jupyterEvent\": \"custom.exercise_interaction\", \"data\": {\"outcomeType\": 1, \"valueTowardsCompletion\": 0.3333333333333333, \"interactionType\": 1, \"questionType\": 2, \"questionId\": \"3_MultiWordSearch\", \"learnToolsVersion\": \"0.3.4\", \"failureMessage\": \"\", \"exceptionClass\": \"\", \"trace\": \"\"}}, \"*\")"
      ],
      "text/plain": [
       "<IPython.core.display.Javascript object>"
      ]
     },
     "metadata": {},
     "output_type": "display_data"
    },
    {
     "data": {
      "text/markdown": [
       "<span style=\"color:#33cc33\">Correct</span>"
      ],
      "text/plain": [
       "Correct"
      ]
     },
     "metadata": {},
     "output_type": "display_data"
    }
   ],
   "source": [
    "def multi_word_search(doc_list, keywords):\n",
    "    \"\"\"\n",
    "    Takes list of documents (each document is a string) and a list of keywords.  \n",
    "    Returns a dictionary where each key is a keyword, and the value is a list of indices\n",
    "    (from doc_list) of the documents containing that keyword\n",
    "\n",
    "    >>> doc_list = [\"The Learn Python Challenge Casino.\", \"They bought a car and a casino\", \"Casinoville\"]\n",
    "    >>> keywords = ['casino', 'they']\n",
    "    >>> multi_word_search(doc_list, keywords)\n",
    "    {'casino': [0, 1], 'they': [1]}\n",
    "    \"\"\"\n",
    "    \n",
    "    \n",
    "    keyword_to_docs = {}\n",
    "    for keyword in keywords:\n",
    "        keyword_to_docs[keyword] = word_search(doc_list, keyword)\n",
    "    return keyword_to_docs\n",
    "# Check your answer\n",
    "q3.check()"
   ]
  },
  {
   "cell_type": "code",
   "execution_count": 12,
   "id": "d1328337",
   "metadata": {
    "execution": {
     "iopub.execute_input": "2023-05-13T20:26:07.646590Z",
     "iopub.status.busy": "2023-05-13T20:26:07.646124Z",
     "iopub.status.idle": "2023-05-13T20:26:07.651586Z",
     "shell.execute_reply": "2023-05-13T20:26:07.650529Z"
    },
    "papermill": {
     "duration": 0.020433,
     "end_time": "2023-05-13T20:26:07.654280",
     "exception": false,
     "start_time": "2023-05-13T20:26:07.633847",
     "status": "completed"
    },
    "tags": []
   },
   "outputs": [],
   "source": [
    "#q3.solution()"
   ]
  },
  {
   "cell_type": "markdown",
   "id": "f1095e84",
   "metadata": {
    "papermill": {
     "duration": 0.009811,
     "end_time": "2023-05-13T20:26:07.674651",
     "exception": false,
     "start_time": "2023-05-13T20:26:07.664840",
     "status": "completed"
    },
    "tags": []
   },
   "source": [
    "# Keep Going\n",
    "\n",
    "You've learned a lot. But even the best programmers rely heavily on \"libraries\" of code from other programmers. You'll learn about that in **[the last lesson](https://www.kaggle.com/colinmorris/working-with-external-libraries)**.\n"
   ]
  },
  {
   "cell_type": "markdown",
   "id": "61c3ce1e",
   "metadata": {
    "papermill": {
     "duration": 0.009749,
     "end_time": "2023-05-13T20:26:07.694655",
     "exception": false,
     "start_time": "2023-05-13T20:26:07.684906",
     "status": "completed"
    },
    "tags": []
   },
   "source": [
    "---\n",
    "\n",
    "\n",
    "\n",
    "\n",
    "*Have questions or comments? Visit the [course discussion forum](https://www.kaggle.com/learn/python/discussion) to chat with other learners.*"
   ]
  }
 ],
 "metadata": {
  "kernelspec": {
   "display_name": "Python 3",
   "language": "python",
   "name": "python3"
  },
  "language_info": {
   "codemirror_mode": {
    "name": "ipython",
    "version": 3
   },
   "file_extension": ".py",
   "mimetype": "text/x-python",
   "name": "python",
   "nbconvert_exporter": "python",
   "pygments_lexer": "ipython3",
   "version": "3.10.10"
  },
  "papermill": {
   "default_parameters": {},
   "duration": 14.585616,
   "end_time": "2023-05-13T20:26:08.629468",
   "environment_variables": {},
   "exception": null,
   "input_path": "__notebook__.ipynb",
   "output_path": "__notebook__.ipynb",
   "parameters": {},
   "start_time": "2023-05-13T20:25:54.043852",
   "version": "2.4.0"
  }
 },
 "nbformat": 4,
 "nbformat_minor": 5
}
